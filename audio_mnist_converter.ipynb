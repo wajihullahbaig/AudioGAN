{
 "cells": [
  {
   "cell_type": "code",
   "execution_count": 6,
   "id": "608883ab-a4f5-4c03-92bf-0414a601d10b",
   "metadata": {},
   "outputs": [
    {
     "name": "stdout",
     "output_type": "stream",
     "text": [
      "processing file:C:/Users/Acer/work/git/AudioGAN/audioMNIST\\0_01_0.npy\n",
      "processing file:C:/Users/Acer/work/git/AudioGAN/audioMNIST\\2_01_0.npy\n",
      "processing file:C:/Users/Acer/work/git/AudioGAN/audioMNIST\\4_01_0.npy\n",
      "processing file:C:/Users/Acer/work/git/AudioGAN/audioMNIST\\6_01_0.npy\n",
      "processing file:C:/Users/Acer/work/git/AudioGAN/audioMNIST\\8_01_0.npy\n",
      "processing file:C:/Users/Acer/work/git/AudioGAN/audioMNIST\\0_02_0.npy\n",
      "processing file:C:/Users/Acer/work/git/AudioGAN/audioMNIST\\2_02_0.npy\n",
      "processing file:C:/Users/Acer/work/git/AudioGAN/audioMNIST\\4_02_0.npy\n",
      "processing file:C:/Users/Acer/work/git/AudioGAN/audioMNIST\\6_02_0.npy\n",
      "processing file:C:/Users/Acer/work/git/AudioGAN/audioMNIST\\8_02_0.npy\n",
      "processing file:C:/Users/Acer/work/git/AudioGAN/audioMNIST\\0_03_0.npy\n",
      "processing file:C:/Users/Acer/work/git/AudioGAN/audioMNIST\\2_03_0.npy\n",
      "processing file:C:/Users/Acer/work/git/AudioGAN/audioMNIST\\4_03_0.npy\n",
      "processing file:C:/Users/Acer/work/git/AudioGAN/audioMNIST\\6_03_0.npy\n",
      "processing file:C:/Users/Acer/work/git/AudioGAN/audioMNIST\\8_03_0.npy\n",
      "processing file:C:/Users/Acer/work/git/AudioGAN/audioMNIST\\0_04_0.npy\n",
      "processing file:C:/Users/Acer/work/git/AudioGAN/audioMNIST\\2_04_0.npy\n",
      "processing file:C:/Users/Acer/work/git/AudioGAN/audioMNIST\\4_04_0.npy\n",
      "processing file:C:/Users/Acer/work/git/AudioGAN/audioMNIST\\6_04_0.npy\n",
      "processing file:C:/Users/Acer/work/git/AudioGAN/audioMNIST\\8_04_0.npy\n",
      "processing file:C:/Users/Acer/work/git/AudioGAN/audioMNIST\\0_05_0.npy\n",
      "processing file:C:/Users/Acer/work/git/AudioGAN/audioMNIST\\2_05_0.npy\n",
      "processing file:C:/Users/Acer/work/git/AudioGAN/audioMNIST\\4_05_0.npy\n",
      "processing file:C:/Users/Acer/work/git/AudioGAN/audioMNIST\\6_05_0.npy\n"
     ]
    },
    {
     "ename": "KeyboardInterrupt",
     "evalue": "",
     "output_type": "error",
     "traceback": [
      "\u001b[1;31m---------------------------------------------------------------------------\u001b[0m",
      "\u001b[1;31mKeyboardInterrupt\u001b[0m                         Traceback (most recent call last)",
      "Cell \u001b[1;32mIn[6], line 32\u001b[0m\n\u001b[0;32m     30\u001b[0m source_directory_path \u001b[38;5;241m=\u001b[39m \u001b[38;5;124m'\u001b[39m\u001b[38;5;124mC:/Users/Acer/work/git/AudioMNIST/data\u001b[39m\u001b[38;5;124m'\u001b[39m  \u001b[38;5;66;03m# Replace with your source directory path\u001b[39;00m\n\u001b[0;32m     31\u001b[0m target_directory_path \u001b[38;5;241m=\u001b[39m \u001b[38;5;124m'\u001b[39m\u001b[38;5;124mC:/Users/Acer/work/git/AudioGAN/audioMNIST\u001b[39m\u001b[38;5;124m'\u001b[39m  \u001b[38;5;66;03m# Replace with your target directory path\u001b[39;00m\n\u001b[1;32m---> 32\u001b[0m read_wav_files_to_numpy_array(source_directory_path, target_directory_path)\n",
      "Cell \u001b[1;32mIn[6], line 17\u001b[0m, in \u001b[0;36mread_wav_files_to_numpy_array\u001b[1;34m(source_directory, target_directory)\u001b[0m\n\u001b[0;32m     15\u001b[0m file_path \u001b[38;5;241m=\u001b[39m os\u001b[38;5;241m.\u001b[39mpath\u001b[38;5;241m.\u001b[39mjoin(root, filename)\n\u001b[0;32m     16\u001b[0m \u001b[38;5;66;03m# Read the WAV file\u001b[39;00m\n\u001b[1;32m---> 17\u001b[0m sample_rate, data \u001b[38;5;241m=\u001b[39m wavfile\u001b[38;5;241m.\u001b[39mread(file_path)\n\u001b[0;32m     19\u001b[0m \u001b[38;5;66;03m# Create a new filename for the numpy array\u001b[39;00m\n\u001b[0;32m     20\u001b[0m numpy_filename \u001b[38;5;241m=\u001b[39m os\u001b[38;5;241m.\u001b[39mpath\u001b[38;5;241m.\u001b[39msplitext(filename)[\u001b[38;5;241m0\u001b[39m] \u001b[38;5;241m+\u001b[39m \u001b[38;5;124m'\u001b[39m\u001b[38;5;124m.npy\u001b[39m\u001b[38;5;124m'\u001b[39m\n",
      "File \u001b[1;32m~\\anaconda3\\envs\\public_talks\\Lib\\site-packages\\scipy\\io\\wavfile.py:674\u001b[0m, in \u001b[0;36mread\u001b[1;34m(filename, mmap)\u001b[0m\n\u001b[0;32m    672\u001b[0m     mmap \u001b[38;5;241m=\u001b[39m \u001b[38;5;28;01mFalse\u001b[39;00m\n\u001b[0;32m    673\u001b[0m \u001b[38;5;28;01melse\u001b[39;00m:\n\u001b[1;32m--> 674\u001b[0m     fid \u001b[38;5;241m=\u001b[39m \u001b[38;5;28mopen\u001b[39m(filename, \u001b[38;5;124m'\u001b[39m\u001b[38;5;124mrb\u001b[39m\u001b[38;5;124m'\u001b[39m)\n\u001b[0;32m    676\u001b[0m \u001b[38;5;28;01mtry\u001b[39;00m:\n\u001b[0;32m    677\u001b[0m     file_size, is_big_endian, is_rf64 \u001b[38;5;241m=\u001b[39m _read_riff_chunk(fid)\n",
      "\u001b[1;31mKeyboardInterrupt\u001b[0m: "
     ]
    }
   ],
   "source": [
    "import numpy as np\n",
    "from scipy.io import wavfile\n",
    "import os\n",
    "\n",
    "def read_wav_files_to_numpy_array(source_directory, target_directory):\n",
    "    # Ensure the target directory exists\n",
    "    os.makedirs(target_directory, exist_ok=True)\n",
    "    \n",
    "    # Iterate through all files and subdirectories in the source directory\n",
    "    for root, _, files in os.walk(source_directory):\n",
    "        file_count = 0\n",
    "        for filename in files:\n",
    "            if filename.endswith('.wav'):\n",
    "                # Construct full file path\n",
    "                file_path = os.path.join(root, filename)\n",
    "                # Read the WAV file\n",
    "                sample_rate, data = wavfile.read(file_path)\n",
    "                \n",
    "                # Create a new filename for the numpy array\n",
    "                numpy_filename = os.path.splitext(filename)[0] + '.npy'\n",
    "                numpy_file_path = os.path.join(target_directory, numpy_filename)\n",
    "                \n",
    "                # Save the data as a numpy array\n",
    "                np.save(numpy_file_path, data)\n",
    "                if file_count %100 == 0:\n",
    "                    print(\"processing file:\"+numpy_file_path)\n",
    "                file_count +=1\n",
    "                \n",
    "# Example usage\n",
    "source_directory_path = 'C:/Users/Acer/work/git/AudioMNIST/data'  # Replace with your source directory path\n",
    "target_directory_path = 'C:/Users/Acer/work/git/AudioGAN/audioMNIST'  # Replace with your target directory path\n",
    "read_wav_files_to_numpy_array(source_directory_path, target_directory_path)"
   ]
  },
  {
   "cell_type": "code",
   "execution_count": null,
   "id": "791cee27-35d7-4fc5-b1ab-1a724b01d96a",
   "metadata": {},
   "outputs": [],
   "source": []
  }
 ],
 "metadata": {
  "kernelspec": {
   "display_name": "Python 3 (ipykernel)",
   "language": "python",
   "name": "python3"
  },
  "language_info": {
   "codemirror_mode": {
    "name": "ipython",
    "version": 3
   },
   "file_extension": ".py",
   "mimetype": "text/x-python",
   "name": "python",
   "nbconvert_exporter": "python",
   "pygments_lexer": "ipython3",
   "version": "3.12.4"
  }
 },
 "nbformat": 4,
 "nbformat_minor": 5
}
