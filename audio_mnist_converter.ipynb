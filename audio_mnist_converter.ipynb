{
 "cells": [
  {
   "cell_type": "code",
   "execution_count": null,
   "id": "608883ab-a4f5-4c03-92bf-0414a601d10b",
   "metadata": {},
   "outputs": [
    {
     "name": "stdout",
     "output_type": "stream",
     "text": [
      "processing file:C:/Users/Acer/work/git/AudioGAN/audioMNIST\\0_01_0.npy\n",
      "sample_rate: 48000\n",
      "processing file:C:/Users/Acer/work/git/AudioGAN/audioMNIST\\2_01_0.npy\n",
      "sample_rate: 48000\n",
      "processing file:C:/Users/Acer/work/git/AudioGAN/audioMNIST\\4_01_0.npy\n",
      "sample_rate: 48000\n",
      "processing file:C:/Users/Acer/work/git/AudioGAN/audioMNIST\\6_01_0.npy\n",
      "sample_rate: 48000\n",
      "processing file:C:/Users/Acer/work/git/AudioGAN/audioMNIST\\8_01_0.npy\n",
      "sample_rate: 48000\n",
      "processing file:C:/Users/Acer/work/git/AudioGAN/audioMNIST\\0_02_0.npy\n",
      "sample_rate: 48000\n",
      "processing file:C:/Users/Acer/work/git/AudioGAN/audioMNIST\\2_02_0.npy\n",
      "sample_rate: 48000\n",
      "processing file:C:/Users/Acer/work/git/AudioGAN/audioMNIST\\4_02_0.npy\n",
      "sample_rate: 48000\n",
      "processing file:C:/Users/Acer/work/git/AudioGAN/audioMNIST\\6_02_0.npy\n",
      "sample_rate: 48000\n"
     ]
    }
   ],
   "source": [
    "import numpy as np\n",
    "from scipy.io import wavfile\n",
    "import os\n",
    "\n",
    "def read_wav_files_to_numpy_array(source_directory, target_directory):\n",
    "    # Ensure the target directory exists\n",
    "    os.makedirs(target_directory, exist_ok=True)\n",
    "    \n",
    "    # Iterate through all files and subdirectories in the source directory\n",
    "    for root, _, files in os.walk(source_directory):\n",
    "        file_count = 0\n",
    "        for filename in files:\n",
    "            if filename.endswith('.wav'):\n",
    "                # Construct full file path\n",
    "                file_path = os.path.join(root, filename)\n",
    "                # Read the WAV file\n",
    "                sample_rate, data = wavfile.read(file_path)\n",
    "               \n",
    "                # Create a new filename for the numpy array\n",
    "                numpy_filename = os.path.splitext(filename)[0] + '.npy'\n",
    "                numpy_file_path = os.path.join(target_directory, numpy_filename)\n",
    "                \n",
    "                # Save the data as a numpy array\n",
    "                np.save(numpy_file_path, data)\n",
    "                if file_count %100 == 0:\n",
    "                    print(\"processing file:\"+numpy_file_path)\n",
    "                    print(\"sample_rate:\", str(sample_rate))\n",
    "                file_count +=1\n",
    "                \n",
    "# Example usage\n",
    "source_directory_path = 'C:/Users/Acer/work/git/AudioMNIST/data'  # Replace with your source directory path\n",
    "target_directory_path = 'C:/Users/Acer/work/git/AudioGAN/audioMNIST'  # Replace with your target directory path\n",
    "read_wav_files_to_numpy_array(source_directory_path, target_directory_path)"
   ]
  },
  {
   "cell_type": "code",
   "execution_count": null,
   "id": "791cee27-35d7-4fc5-b1ab-1a724b01d96a",
   "metadata": {},
   "outputs": [],
   "source": []
  }
 ],
 "metadata": {
  "kernelspec": {
   "display_name": "Python 3 (ipykernel)",
   "language": "python",
   "name": "python3"
  },
  "language_info": {
   "codemirror_mode": {
    "name": "ipython",
    "version": 3
   },
   "file_extension": ".py",
   "mimetype": "text/x-python",
   "name": "python",
   "nbconvert_exporter": "python",
   "pygments_lexer": "ipython3",
   "version": "3.12.4"
  }
 },
 "nbformat": 4,
 "nbformat_minor": 5
}
