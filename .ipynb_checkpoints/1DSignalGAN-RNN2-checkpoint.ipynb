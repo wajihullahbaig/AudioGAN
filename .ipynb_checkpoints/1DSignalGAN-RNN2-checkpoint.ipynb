{
 "cells": [
  {
   "cell_type": "markdown",
   "id": "ba1c536e-1467-475b-b496-4f3a72015d03",
   "metadata": {},
   "source": [
    "# Create a 1D signal RNN GAN, for voice recorded signals\n",
    "## Use a very basic GAN architecture that works with a single dimension (1D array)"
   ]
  },
  {
   "cell_type": "code",
   "execution_count": 64,
   "id": "d5ced4fc-361e-4c0a-ae7f-bdf579ae48c7",
   "metadata": {},
   "outputs": [],
   "source": [
    "import sounddevice as sd\n",
    "import numpy as np\n",
    "import torch\n",
    "import torch.nn as nn\n",
    "from torch.utils.data import Dataset, DataLoader\n",
    "import matplotlib.pyplot as plt\n",
    "import ipywidgets as widgets\n",
    "from IPython.display import display, Audio\n",
    "from scipy.io.wavfile import write\n",
    "import os\n",
    "import torch.optim as optim\n",
    "import random\n"
   ]
  },
  {
   "cell_type": "code",
   "execution_count": 65,
   "id": "3877e0d7-64e4-4f4e-a733-90ce3041a6d9",
   "metadata": {},
   "outputs": [
    {
     "name": "stdout",
     "output_type": "stream",
     "text": [
      "2.4.1+cpu\n"
     ]
    },
    {
     "data": {
      "text/plain": [
       "<torch._C.Generator at 0x1c93e74d3b0>"
      ]
     },
     "execution_count": 65,
     "metadata": {},
     "output_type": "execute_result"
    }
   ],
   "source": [
    "print(torch.__version__)\n",
    "# Lets setup a reproducible aspect of the code\n",
    "seed = 42  # You can choose any integer as your seed\n",
    "random.seed(seed)  # Set seed for Python's random\n",
    "np.random.seed(seed)  # Set seed for NumPy\n",
    "torch.manual_seed(seed)  # Set seed for PyTorch CPU\n"
   ]
  },
  {
   "cell_type": "markdown",
   "id": "2427dc01-db52-474a-879f-11abc0f3ed31",
   "metadata": {},
   "source": [
    "# Lets setup some basic configurations"
   ]
  },
  {
   "cell_type": "code",
   "execution_count": 66,
   "id": "ba5b5c63-85bc-4629-a290-6b13e61d4c7f",
   "metadata": {},
   "outputs": [],
   "source": [
    "sample_rate = 44100\n",
    "duration = 1  # seconds\n",
    "signal_length = sample_rate * duration  # 44100 for 2 seconds"
   ]
  },
  {
   "cell_type": "markdown",
   "id": "57b9581b-3404-4b8a-9660-55d6716ddc20",
   "metadata": {},
   "source": [
    "## Define the Generator class"
   ]
  },
  {
   "cell_type": "code",
   "execution_count": 110,
   "id": "0ff2fd89-8f77-44e3-be8c-80eab119a20c",
   "metadata": {},
   "outputs": [],
   "source": [
    "class Generator(nn.Module):\n",
    "    def __init__(self, input_size, hidden_size, sequence_length,num_layers, output_size):\n",
    "        super(Generator, self).__init__()\n",
    "        self.hidden_size = hidden_size\n",
    "        self.num_layers = num_layers\n",
    "        self.rnn = nn.RNN(input_size, hidden_size, num_layers, batch_first=True)\n",
    "        self.fc = nn.Linear(hidden_size*sequence_length, output_size)\n",
    "        self.device = device\n",
    "\n",
    "    def forward(self, x):\n",
    "        # Set initial hidden and cell states\n",
    "        h0 = torch.zeros(self.num_layers, x.size(0), self.hidden_size)\n",
    "\n",
    "        # Forward propagate LSTM\n",
    "        out, _ = self.rnn(x, h0)\n",
    "        out = out.reshape(out.shape[0], -1)\n",
    "\n",
    "        # Decode the hidden state of the last time step\n",
    "        out = self.fc(out)\n",
    "        out = torch.tan(out)\n",
    "        return out"
   ]
  },
  {
   "cell_type": "markdown",
   "id": "0bb858d0-bd76-4dbd-8925-9921343dfec3",
   "metadata": {},
   "source": [
    "## Define the Discriminator class"
   ]
  },
  {
   "cell_type": "code",
   "execution_count": 157,
   "id": "f0d361c8-cef7-46fd-b533-1cd14fcb25cd",
   "metadata": {},
   "outputs": [],
   "source": [
    "class Discriminator(nn.Module):\n",
    "    def __init__(self, input_size, hidden_size, sequence_length,num_layers, output_size):\n",
    "        super(Discriminator, self).__init__()\n",
    "        self.hidden_size = hidden_size\n",
    "        self.num_layers = num_layers\n",
    "        self.rnn = nn.RNN(input_size, hidden_size, num_layers, batch_first=True)\n",
    "        self.fc = nn.Linear(hidden_size*sequence_length, output_size)\n",
    "        self.device = device\n",
    "\n",
    "    def forward(self, x):\n",
    "        # Set initial hidden and cell states\n",
    "        h0 = torch.zeros(self.num_layers, x.size(0), self.hidden_size)\n",
    "\n",
    "        # Forward propagate LSTM\n",
    "        out, _ = self.rnn(x, h0)\n",
    "        out = out.reshape(out.shape[0], -1)\n",
    "\n",
    "        # Decode the hidden state of the last time step\n",
    "        out = self.fc(out)\n",
    "        out = torch.sigmoid(out)\n",
    "        return out"
   ]
  },
  {
   "cell_type": "markdown",
   "id": "3b938569-5c74-48f4-ba33-e8728e29c867",
   "metadata": {},
   "source": [
    "## Custom dataset class for voice signals"
   ]
  },
  {
   "cell_type": "code",
   "execution_count": 164,
   "id": "260d1e41-e99c-42b5-9fc4-bb68d477aee5",
   "metadata": {},
   "outputs": [],
   "source": [
    "class AudioDataset(Dataset):\n",
    "    def __init__(self, data_dir, sample_rate=22050, duration=2):\n",
    "        self.data_dir = data_dir\n",
    "        self.sample_rate = sample_rate\n",
    "        self.duration = duration\n",
    "        self.files = [f for f in os.listdir(data_dir) if f.endswith('.npy')]  # Only .npy files\n",
    "\n",
    "    def __len__(self):\n",
    "        return len(self.files)\n",
    "\n",
    "    def __getitem__(self, idx):\n",
    "        file_path = os.path.join(self.data_dir, self.files[idx])\n",
    "        # Load numpy array\n",
    "        waveform = np.load(file_path)\n",
    "        # Ensure the audio is 2 seconds long\n",
    "        target_length = self.sample_rate * self.duration\n",
    "        if waveform.size < target_length:\n",
    "            # Pad the waveform if it's shorter than 2 seconds\n",
    "            waveform = np.pad(waveform, (0, target_length - waveform.size), mode='constant')\n",
    "        else:\n",
    "            # Trim the waveform if it's longer than duration\n",
    "            waveform = waveform[:target_length]\n",
    "            waveform = waveform.astype(np.float32)\n",
    "            waveform = (waveform - min(waveform)) / (max(waveform) - min(waveform)) * 2 - 1 \n",
    "            waveform = waveform/np.max(waveform)\n",
    "        return torch.tensor(waveform,dtype=torch.float32)  # Convert to tensor\n"
   ]
  },
  {
   "cell_type": "markdown",
   "id": "62f3879f-d9ac-473c-9f17-00b28d4fb39b",
   "metadata": {},
   "source": [
    "## Prepare the dataset for training the GAN"
   ]
  },
  {
   "cell_type": "code",
   "execution_count": 165,
   "id": "1a497c63-9f08-48d9-9069-11c63d3d7e3f",
   "metadata": {},
   "outputs": [
    {
     "name": "stdout",
     "output_type": "stream",
     "text": [
      "30000\n"
     ]
    }
   ],
   "source": [
    "# Create the dataset and dataloader\n",
    "batch_size = 128\n",
    "dataset = AudioDataset('audioMNIST/', sample_rate, duration)\n",
    "dataloader = DataLoader(dataset, batch_size=batch_size, shuffle=True)\n",
    "print(len(dataset))"
   ]
  },
  {
   "cell_type": "code",
   "execution_count": 166,
   "id": "b6e91ebf-0695-410d-bb0b-bdea59ef38db",
   "metadata": {},
   "outputs": [
    {
     "name": "stdout",
     "output_type": "stream",
     "text": [
      "tensor([0.1716, 0.1716, 0.1725,  ..., 0.0000, 0.0000, 0.0000])\n"
     ]
    },
    {
     "data": {
      "image/png": "[encoded data removed]",
      "text/plain": [
       "<Figure size 1200x600 with 1 Axes>"
      ]
     },
     "metadata": {},
     "output_type": "display_data"
    }
   ],
   "source": [
    "# plot the signal \n",
    "for batch in dataloader:\n",
    "    # Plot the generated audio signal\n",
    "    plt.figure(figsize=(12, 6))\n",
    "    print(batch[0])\n",
    "    plt.plot(batch[0], label='Generated Audio Signal', alpha=0.5)\n",
    "    plt.title('Generated Audio Signal')\n",
    "    plt.xlabel('Sample Index')\n",
    "    plt.ylabel('Amplitude')\n",
    "    plt.legend()\n",
    "    plt.show()\n",
    "    break"
   ]
  },
  {
   "cell_type": "markdown",
   "id": "9e873b18-a081-4772-b424-835cc4751744",
   "metadata": {},
   "source": [
    "## Setup the hyper-parameters"
   ]
  },
  {
   "cell_type": "code",
   "execution_count": 167,
   "id": "7e979f70-b32e-417b-9b77-b09f94515a31",
   "metadata": {},
   "outputs": [],
   "source": [
    "# Hyperparameters\n",
    "input_dim = 1  # Input dimension for the RNN\n",
    "hidden_dim = 128  # Hidden dimension for the RNN\n",
    "output_dim = signal_length  # Output dimension (length of the signal)\n",
    "z_dim = 100  # Dimension of the noise vector\n",
    "num_epochs = 100  # Number of training epochs\n",
    "learning_rate = 0.00002  # Learning rate"
   ]
  },
  {
   "cell_type": "markdown",
   "id": "75e4396b-b199-4098-beb1-35c88f9fdf6a",
   "metadata": {},
   "source": [
    "## Initialize the GANs"
   ]
  },
  {
   "cell_type": "code",
   "execution_count": 168,
   "id": "7d68d436-c67a-47c9-829e-70f900ad3b61",
   "metadata": {},
   "outputs": [],
   "source": [
    "# Set up the GAN\n",
    "device = torch.device('cuda' if torch.cuda.is_available() else 'cpu')\n",
    "# Initialize models\n",
    "generator = Generator(input_size = z_dim, hidden_size = hidden_dim, sequence_length=1,num_layers=4, output_size=signal_length)\n",
    "discriminator = Discriminator(input_size = signal_length, hidden_size = 32, sequence_length=1,num_layers=1, output_size=1)"
   ]
  },
  {
   "cell_type": "code",
   "execution_count": 169,
   "id": "a4d581df-d73f-4a00-a3d9-46755d263215",
   "metadata": {},
   "outputs": [
    {
     "data": {
      "text/plain": [
       "Generator(\n",
       "  (rnn): RNN(100, 128, num_layers=4, batch_first=True)\n",
       "  (fc): Linear(in_features=128, out_features=44100, bias=True)\n",
       ")"
      ]
     },
     "execution_count": 169,
     "metadata": {},
     "output_type": "execute_result"
    }
   ],
   "source": [
    "generator"
   ]
  },
  {
   "cell_type": "code",
   "execution_count": 170,
   "id": "7f99b4a1-5a44-4f2d-95cb-9ca6873b3aff",
   "metadata": {},
   "outputs": [
    {
     "data": {
      "text/plain": [
       "Discriminator(\n",
       "  (rnn): RNN(44100, 32, batch_first=True)\n",
       "  (fc): Linear(in_features=32, out_features=1, bias=True)\n",
       ")"
      ]
     },
     "execution_count": 170,
     "metadata": {},
     "output_type": "execute_result"
    }
   ],
   "source": [
    "discriminator"
   ]
  },
  {
   "cell_type": "markdown",
   "id": "88dfe567-7e87-4aed-b32e-9442593c11ef",
   "metadata": {},
   "source": [
    "## Define the loss function and optimizers"
   ]
  },
  {
   "cell_type": "code",
   "execution_count": 171,
   "id": "02afb570-d1ee-4dfd-be1e-7feb821cae38",
   "metadata": {},
   "outputs": [],
   "source": [
    "criterion = nn.BCELoss()\n",
    "g_optimizer = torch.optim.SGD(generator.parameters(), lr=learning_rate, momentum=0.9)\n",
    "d_optimizer = torch.optim.SGD(discriminator.parameters(), lr=learning_rate, momentum=0.9)\n",
    "g_scheduler = torch.optim.lr_scheduler.CosineAnnealingWarmRestarts(g_optimizer, T_0=5, T_mult=1, eta_min=0.000001, last_epoch=-1)\n",
    "d_scheduler = torch.optim.lr_scheduler.CosineAnnealingWarmRestarts(d_optimizer, T_0=5, T_mult=1, eta_min=0.00001, last_epoch=-1)\n",
    "num_epochs = 10"
   ]
  },
  {
   "cell_type": "markdown",
   "id": "831c1eb9-89da-4ef0-8c8e-d3c49ceffebe",
   "metadata": {},
   "source": [
    "## Training the GAN"
   ]
  },
  {
   "cell_type": "code",
   "execution_count": 172,
   "id": "001a9ff6-e72e-426b-ab07-b4dc4a64eae2",
   "metadata": {},
   "outputs": [
    {
     "name": "stdout",
     "output_type": "stream",
     "text": [
      "Epoch: 0, Generator Loss: 0.8600358366966248, Discriminator Loss: 1.372248649597168\n",
      "Epoch: 0, Generator Loss: 0.8961269855499268, Discriminator Loss: 1.3057551383972168\n",
      "Epoch: 0, Generator Loss: 0.8750251531600952, Discriminator Loss: 1.32707679271698\n",
      "Epoch: 0, Generator Loss: 0.8983958959579468, Discriminator Loss: 1.302364468574524\n",
      "Epoch: 0, Generator Loss: 0.878980815410614, Discriminator Loss: 1.339975118637085\n",
      "Epoch: 0, Generator Loss: 0.8857821226119995, Discriminator Loss: 1.2844202518463135\n",
      "Epoch: 0, Generator Loss: 0.9017478227615356, Discriminator Loss: 1.3533220291137695\n",
      "Epoch: 0, Generator Loss: 0.9103329181671143, Discriminator Loss: 1.330822467803955\n",
      "Epoch: 0, Generator Loss: 0.8923583030700684, Discriminator Loss: 1.3339455127716064\n",
      "Epoch: 0, Generator Loss: 0.8963584303855896, Discriminator Loss: 1.3248586654663086\n",
      "Epoch: 0, Generator Loss: 0.9069075584411621, Discriminator Loss: 1.3057773113250732\n",
      "Epoch: 0, Generator Loss: 0.8793384432792664, Discriminator Loss: 1.3640918731689453\n",
      "Epoch: 0, Generator Loss: 0.8837937116622925, Discriminator Loss: 1.3015106916427612\n",
      "Epoch: 0, Generator Loss: 0.9030673503875732, Discriminator Loss: 1.3073770999908447\n",
      "Epoch: 0, Generator Loss: 0.888984739780426, Discriminator Loss: 1.3328654766082764\n",
      "Epoch: 0, Generator Loss: 0.9041001200675964, Discriminator Loss: 1.3381158113479614\n",
      "Epoch: 0, Generator Loss: 0.8979277610778809, Discriminator Loss: 1.3788988590240479\n",
      "Epoch: 0, Generator Loss: 0.8999894857406616, Discriminator Loss: 1.355360746383667\n",
      "Epoch: 0, Generator Loss: 0.9114527702331543, Discriminator Loss: 1.3033976554870605\n",
      "Epoch: 0, Generator Loss: 0.8950690031051636, Discriminator Loss: 1.3798316717147827\n",
      "Epoch: 0, Generator Loss: 0.940597653388977, Discriminator Loss: 1.3082668781280518\n",
      "Epoch: 0, Generator Loss: 0.8966184854507446, Discriminator Loss: 1.3219208717346191\n",
      "Epoch: 0, Generator Loss: 0.9232868552207947, Discriminator Loss: 1.276573657989502\n",
      "Epoch: 0, Generator Loss: 0.9036959409713745, Discriminator Loss: 1.304023027420044\n",
      "Epoch: 0, Generator Loss: 0.9218182563781738, Discriminator Loss: 1.26328444480896\n",
      "Epoch: 0, Generator Loss: 0.9171086549758911, Discriminator Loss: 1.3531285524368286\n",
      "Epoch: 0, Generator Loss: 0.911956250667572, Discriminator Loss: 1.3218746185302734\n",
      "Epoch: 0, Generator Loss: 0.8959900140762329, Discriminator Loss: 1.3059425354003906\n",
      "Epoch: 0, Generator Loss: 0.9213539361953735, Discriminator Loss: 1.327893614768982\n",
      "Epoch: 0, Generator Loss: 0.9353819489479065, Discriminator Loss: 1.3263516426086426\n",
      "Epoch: 0, Generator Loss: 0.9161235094070435, Discriminator Loss: 1.330001711845398\n",
      "Epoch: 0, Generator Loss: 0.9323762655258179, Discriminator Loss: 1.2961143255233765\n",
      "Epoch: 0, Generator Loss: 0.9064090251922607, Discriminator Loss: 1.3328750133514404\n",
      "Epoch: 0, Generator Loss: 0.9227010011672974, Discriminator Loss: 1.2968754768371582\n",
      "Epoch: 0, Generator Loss: 0.9266752004623413, Discriminator Loss: 1.3364028930664062\n",
      "Epoch: 0, Generator Loss: 0.9393293261528015, Discriminator Loss: 1.2702834606170654\n",
      "Epoch: 0, Generator Loss: 0.9313896894454956, Discriminator Loss: 1.270798921585083\n",
      "Epoch: 0, Generator Loss: 0.9258583784103394, Discriminator Loss: 1.2922172546386719\n",
      "Epoch: 0, Generator Loss: 0.9192304611206055, Discriminator Loss: 1.3050556182861328\n",
      "Epoch: 0, Generator Loss: 0.9263889789581299, Discriminator Loss: 1.3193418979644775\n",
      "Epoch: 0, Generator Loss: 0.9428752064704895, Discriminator Loss: 1.2990931272506714\n",
      "Epoch: 0, Generator Loss: 0.9340047836303711, Discriminator Loss: 1.3118648529052734\n",
      "Epoch: 0, Generator Loss: 0.9329712390899658, Discriminator Loss: 1.3060104846954346\n",
      "Epoch: 0, Generator Loss: 0.9084275364875793, Discriminator Loss: 1.336728572845459\n",
      "Epoch: 0, Generator Loss: 0.9183043837547302, Discriminator Loss: 1.329077959060669\n",
      "Epoch: 0, Generator Loss: 0.9366682171821594, Discriminator Loss: 1.2887804508209229\n",
      "Epoch: 0, Generator Loss: 0.9327887296676636, Discriminator Loss: 1.3390451669692993\n",
      "Epoch: 0, Generator Loss: 0.927873969078064, Discriminator Loss: 1.2814379930496216\n",
      "Epoch: 0, Generator Loss: 0.9654405117034912, Discriminator Loss: 1.2807974815368652\n",
      "Epoch: 0, Generator Loss: 0.9524052739143372, Discriminator Loss: 1.3446251153945923\n",
      "Epoch: 0, Generator Loss: 0.9452390074729919, Discriminator Loss: 1.2697339057922363\n",
      "Epoch: 0, Generator Loss: 0.9397599101066589, Discriminator Loss: 1.307198166847229\n",
      "Epoch: 0, Generator Loss: 0.9303673505783081, Discriminator Loss: 1.3148174285888672\n",
      "Epoch: 0, Generator Loss: 0.9431223273277283, Discriminator Loss: 1.3417673110961914\n",
      "Epoch: 0, Generator Loss: 0.9498013257980347, Discriminator Loss: 1.3179004192352295\n",
      "Epoch: 0, Generator Loss: 0.9450347423553467, Discriminator Loss: 1.3450815677642822\n",
      "Epoch: 0, Generator Loss: 0.9307838678359985, Discriminator Loss: 1.3231043815612793\n",
      "Epoch: 0, Generator Loss: 0.9432533979415894, Discriminator Loss: 1.303495168685913\n",
      "Epoch: 0, Generator Loss: 0.9429425597190857, Discriminator Loss: 1.2896679639816284\n",
      "Epoch: 0, Generator Loss: 0.9444701671600342, Discriminator Loss: 1.2945420742034912\n",
      "Epoch: 0, Generator Loss: 0.9346150755882263, Discriminator Loss: 1.324539065361023\n",
      "Epoch: 0, Generator Loss: 0.9445675611495972, Discriminator Loss: 1.3055593967437744\n",
      "Epoch: 0, Generator Loss: 0.9414512515068054, Discriminator Loss: 1.2968218326568604\n",
      "Epoch: 0, Generator Loss: 0.954912543296814, Discriminator Loss: 1.2790693044662476\n",
      "Epoch: 0, Generator Loss: 0.9445272088050842, Discriminator Loss: 1.3210784196853638\n",
      "Epoch: 0, Generator Loss: 0.9693202972412109, Discriminator Loss: 1.2381458282470703\n",
      "Epoch: 0, Generator Loss: 0.944261908531189, Discriminator Loss: 1.2782676219940186\n",
      "Epoch: 0, Generator Loss: 0.9371525049209595, Discriminator Loss: 1.34748113155365\n",
      "Epoch: 0, Generator Loss: 0.9444355368614197, Discriminator Loss: 1.2847676277160645\n",
      "Epoch: 0, Generator Loss: 0.9734038710594177, Discriminator Loss: 1.2866164445877075\n",
      "Epoch: 0, Generator Loss: 0.9370594024658203, Discriminator Loss: 1.301887035369873\n",
      "Epoch: 0, Generator Loss: 0.9714468121528625, Discriminator Loss: 1.2643485069274902\n",
      "Epoch: 0, Generator Loss: 0.9606510400772095, Discriminator Loss: 1.3044514656066895\n",
      "Epoch: 0, Generator Loss: 0.9747710227966309, Discriminator Loss: 1.3076369762420654\n",
      "Epoch: 0, Generator Loss: 0.9416114687919617, Discriminator Loss: 1.3030164241790771\n",
      "Epoch: 0, Generator Loss: 0.9731367826461792, Discriminator Loss: 1.2761635780334473\n",
      "Epoch: 0, Generator Loss: 0.9536235332489014, Discriminator Loss: 1.282842993736267\n",
      "Epoch: 0, Generator Loss: 0.9504154324531555, Discriminator Loss: 1.3214211463928223\n",
      "Epoch: 0, Generator Loss: 0.9963308572769165, Discriminator Loss: 1.2632662057876587\n",
      "Epoch: 0, Generator Loss: 0.9518934488296509, Discriminator Loss: 1.2847278118133545\n",
      "Epoch: 0, Generator Loss: 0.9514181613922119, Discriminator Loss: 1.300097942352295\n",
      "Epoch: 0, Generator Loss: 0.9585893154144287, Discriminator Loss: 1.215662956237793\n",
      "Epoch: 0, Generator Loss: 0.9835940599441528, Discriminator Loss: 1.3192603588104248\n",
      "Epoch: 0, Generator Loss: 0.9471231698989868, Discriminator Loss: 1.3305718898773193\n",
      "Epoch: 0, Generator Loss: 0.9729466438293457, Discriminator Loss: 1.2365573644638062\n",
      "Epoch: 0, Generator Loss: 0.9815681576728821, Discriminator Loss: 1.2436940670013428\n",
      "Epoch: 0, Generator Loss: 0.970626950263977, Discriminator Loss: 1.2883728742599487\n",
      "Epoch: 0, Generator Loss: 0.9894391298294067, Discriminator Loss: 1.3010693788528442\n",
      "Epoch: 0, Generator Loss: 0.9698067903518677, Discriminator Loss: 1.263289213180542\n",
      "Epoch: 0, Generator Loss: 0.972812294960022, Discriminator Loss: 1.2618861198425293\n",
      "Epoch: 0, Generator Loss: 0.992534339427948, Discriminator Loss: 1.2681145668029785\n",
      "Epoch: 0, Generator Loss: 0.9740464687347412, Discriminator Loss: 1.2683179378509521\n",
      "Epoch: 0, Generator Loss: 0.9757960438728333, Discriminator Loss: 1.2776501178741455\n",
      "Epoch: 0, Generator Loss: 0.9779996275901794, Discriminator Loss: 1.2814730405807495\n",
      "Epoch: 0, Generator Loss: 0.9840277433395386, Discriminator Loss: 1.2759779691696167\n",
      "Epoch: 0, Generator Loss: 0.9667758941650391, Discriminator Loss: 1.2847089767456055\n",
      "Epoch: 0, Generator Loss: 1.011045217514038, Discriminator Loss: 1.301073670387268\n",
      "Epoch: 0, Generator Loss: 0.9837778806686401, Discriminator Loss: 1.2620759010314941\n",
      "Epoch: 0, Generator Loss: 0.9836059212684631, Discriminator Loss: 1.2688077688217163\n",
      "Epoch: 0, Generator Loss: 1.00137460231781, Discriminator Loss: 1.2921541929244995\n",
      "Epoch: 0, Generator Loss: 1.0018855333328247, Discriminator Loss: 1.278485655784607\n",
      "Epoch: 0, Generator Loss: 0.9806065559387207, Discriminator Loss: 1.2777986526489258\n",
      "Epoch: 0, Generator Loss: 0.985129177570343, Discriminator Loss: 1.2521722316741943\n",
      "Epoch: 0, Generator Loss: 0.9891367554664612, Discriminator Loss: 1.2617323398590088\n",
      "Epoch: 0, Generator Loss: 1.0152875185012817, Discriminator Loss: 1.2849476337432861\n",
      "Epoch: 0, Generator Loss: 0.9958772659301758, Discriminator Loss: 1.2416532039642334\n",
      "Epoch: 0, Generator Loss: 0.9889230728149414, Discriminator Loss: 1.285181999206543\n",
      "Epoch: 0, Generator Loss: 0.9868826270103455, Discriminator Loss: 1.2409412860870361\n",
      "Epoch: 0, Generator Loss: 1.0057042837142944, Discriminator Loss: 1.2786375284194946\n",
      "Epoch: 0, Generator Loss: 1.0104835033416748, Discriminator Loss: 1.2794760465621948\n",
      "Epoch: 0, Generator Loss: 0.9743476510047913, Discriminator Loss: 1.2811740636825562\n",
      "Epoch: 0, Generator Loss: 0.9876939654350281, Discriminator Loss: 1.2481672763824463\n",
      "Epoch: 0, Generator Loss: 0.9894154071807861, Discriminator Loss: 1.2667832374572754\n",
      "Epoch: 0, Generator Loss: 1.0208227634429932, Discriminator Loss: 1.2163894176483154\n",
      "Epoch: 0, Generator Loss: 1.0144740343093872, Discriminator Loss: 1.2612167596817017\n",
      "Epoch: 0, Generator Loss: 1.0255132913589478, Discriminator Loss: 1.2336088418960571\n",
      "Epoch: 0, Generator Loss: 1.0207595825195312, Discriminator Loss: 1.271693468093872\n",
      "Epoch: 0, Generator Loss: 0.9724849462509155, Discriminator Loss: 1.2012598514556885\n",
      "Epoch: 0, Generator Loss: 0.9884286522865295, Discriminator Loss: 1.2688930034637451\n",
      "Epoch: 0, Generator Loss: 0.9780179262161255, Discriminator Loss: 1.309755802154541\n",
      "Epoch: 0, Generator Loss: 0.99870765209198, Discriminator Loss: 1.2809817790985107\n",
      "Epoch: 0, Generator Loss: 1.0498868227005005, Discriminator Loss: 1.2207269668579102\n",
      "Epoch: 0, Generator Loss: 1.0095124244689941, Discriminator Loss: 1.2410086393356323\n",
      "Epoch: 0, Generator Loss: 1.0110204219818115, Discriminator Loss: 1.277862787246704\n",
      "Epoch: 0, Generator Loss: 1.028229832649231, Discriminator Loss: 1.2092636823654175\n",
      "Epoch: 0, Generator Loss: 1.014574408531189, Discriminator Loss: 1.216947317123413\n",
      "Epoch: 0, Generator Loss: 1.0168805122375488, Discriminator Loss: 1.2163017988204956\n",
      "Epoch: 0, Generator Loss: 1.0146286487579346, Discriminator Loss: 1.2704380750656128\n",
      "Epoch: 0, Generator Loss: 1.0015029907226562, Discriminator Loss: 1.262508749961853\n",
      "Epoch: 0, Generator Loss: 1.0174956321716309, Discriminator Loss: 1.2636420726776123\n",
      "Epoch: 0, Generator Loss: 1.0224559307098389, Discriminator Loss: 1.236645221710205\n",
      "Epoch: 0, Generator Loss: 1.011745572090149, Discriminator Loss: 1.256103515625\n",
      "Epoch: 0, Generator Loss: 1.0770199298858643, Discriminator Loss: 1.1994397640228271\n",
      "Epoch: 0, Generator Loss: 1.0074907541275024, Discriminator Loss: 1.2826558351516724\n",
      "Epoch: 0, Generator Loss: 1.0116908550262451, Discriminator Loss: 1.2171602249145508\n",
      "Epoch: 0, Generator Loss: 1.0113099813461304, Discriminator Loss: 1.240716576576233\n",
      "Epoch: 0, Generator Loss: 1.04268479347229, Discriminator Loss: 1.2521209716796875\n",
      "Epoch: 0, Generator Loss: 1.0366002321243286, Discriminator Loss: 1.2741913795471191\n",
      "Epoch: 0, Generator Loss: 1.0207443237304688, Discriminator Loss: 1.2481787204742432\n",
      "Epoch: 0, Generator Loss: 1.026233434677124, Discriminator Loss: 1.2618169784545898\n",
      "Epoch: 0, Generator Loss: 1.0429739952087402, Discriminator Loss: 1.2187771797180176\n",
      "Epoch: 0, Generator Loss: 1.0455304384231567, Discriminator Loss: 1.266169786453247\n",
      "Epoch: 0, Generator Loss: 1.0091862678527832, Discriminator Loss: 1.2256479263305664\n",
      "Epoch: 0, Generator Loss: 1.0580570697784424, Discriminator Loss: 1.2415940761566162\n",
      "Epoch: 0, Generator Loss: 1.03926420211792, Discriminator Loss: 1.2194631099700928\n",
      "Epoch: 0, Generator Loss: 1.0653587579727173, Discriminator Loss: 1.229454755783081\n",
      "Epoch: 0, Generator Loss: 1.0442721843719482, Discriminator Loss: 1.2626591920852661\n",
      "Epoch: 0, Generator Loss: 1.0110995769500732, Discriminator Loss: 1.241731882095337\n",
      "Epoch: 0, Generator Loss: 1.02558434009552, Discriminator Loss: 1.2355836629867554\n",
      "Epoch: 0, Generator Loss: 1.0320055484771729, Discriminator Loss: 1.2679953575134277\n",
      "Epoch: 0, Generator Loss: 1.0453871488571167, Discriminator Loss: 1.273442029953003\n",
      "Epoch: 0, Generator Loss: 1.0274467468261719, Discriminator Loss: 1.2549241781234741\n",
      "Epoch: 0, Generator Loss: 1.0433963537216187, Discriminator Loss: 1.252333641052246\n",
      "Epoch: 0, Generator Loss: 1.0489394664764404, Discriminator Loss: 1.2149267196655273\n",
      "Epoch: 0, Generator Loss: 1.052595615386963, Discriminator Loss: 1.2349369525909424\n",
      "Epoch: 0, Generator Loss: 1.0379481315612793, Discriminator Loss: 1.2444181442260742\n",
      "Epoch: 0, Generator Loss: 1.0349249839782715, Discriminator Loss: 1.2266128063201904\n",
      "Epoch: 0, Generator Loss: 1.0510497093200684, Discriminator Loss: 1.2778788805007935\n",
      "Epoch: 0, Generator Loss: 1.057878851890564, Discriminator Loss: 1.2438130378723145\n",
      "Epoch: 0, Generator Loss: 1.0567736625671387, Discriminator Loss: 1.2244553565979004\n",
      "Epoch: 0, Generator Loss: 1.0632013082504272, Discriminator Loss: 1.22019624710083\n",
      "Epoch: 0, Generator Loss: 1.0745161771774292, Discriminator Loss: 1.2216883897781372\n",
      "Epoch: 0, Generator Loss: 1.0562782287597656, Discriminator Loss: 1.2096595764160156\n",
      "Epoch: 0, Generator Loss: 1.050733208656311, Discriminator Loss: 1.239975094795227\n",
      "Epoch: 0, Generator Loss: 1.0505939722061157, Discriminator Loss: 1.2215279340744019\n",
      "Epoch: 0, Generator Loss: 1.0648974180221558, Discriminator Loss: 1.2076499462127686\n",
      "Epoch: 0, Generator Loss: 1.0391658544540405, Discriminator Loss: 1.247870922088623\n",
      "Epoch: 0, Generator Loss: 1.0695291757583618, Discriminator Loss: 1.2246472835540771\n",
      "Epoch: 0, Generator Loss: 1.080884575843811, Discriminator Loss: 1.21977961063385\n",
      "Epoch: 0, Generator Loss: 1.0594019889831543, Discriminator Loss: 1.2193939685821533\n",
      "Epoch: 0, Generator Loss: 1.0493162870407104, Discriminator Loss: 1.21864914894104\n",
      "Epoch: 0, Generator Loss: 1.0507193803787231, Discriminator Loss: 1.233319640159607\n",
      "Epoch: 0, Generator Loss: 1.0680800676345825, Discriminator Loss: 1.1969192028045654\n",
      "Epoch: 0, Generator Loss: 1.0600688457489014, Discriminator Loss: 1.2332772016525269\n",
      "Epoch: 0, Generator Loss: 1.069746732711792, Discriminator Loss: 1.2732105255126953\n",
      "Epoch: 0, Generator Loss: 1.037276268005371, Discriminator Loss: 1.2603120803833008\n",
      "Epoch: 0, Generator Loss: 1.0556695461273193, Discriminator Loss: 1.2515065670013428\n",
      "Epoch: 0, Generator Loss: 1.071221947669983, Discriminator Loss: 1.189826488494873\n",
      "Epoch: 0, Generator Loss: 1.061107873916626, Discriminator Loss: 1.2209820747375488\n",
      "Epoch: 0, Generator Loss: 1.0609538555145264, Discriminator Loss: 1.252321481704712\n",
      "Epoch: 0, Generator Loss: 1.0946557521820068, Discriminator Loss: 1.2119816541671753\n",
      "Epoch: 0, Generator Loss: 1.040137767791748, Discriminator Loss: 1.2500510215759277\n",
      "Epoch: 0, Generator Loss: 1.080705165863037, Discriminator Loss: 1.1948306560516357\n",
      "Epoch: 0, Generator Loss: 1.1084730625152588, Discriminator Loss: 1.198036789894104\n",
      "Epoch: 0, Generator Loss: 1.0451570749282837, Discriminator Loss: 1.2144142389297485\n",
      "Epoch: 0, Generator Loss: 1.0652015209197998, Discriminator Loss: 1.2511038780212402\n",
      "Epoch: 0, Generator Loss: 1.0691425800323486, Discriminator Loss: 1.2105927467346191\n",
      "Epoch: 0, Generator Loss: 1.053900122642517, Discriminator Loss: 1.2931814193725586\n",
      "Epoch: 0, Generator Loss: 1.0529297590255737, Discriminator Loss: 1.2373855113983154\n",
      "Epoch: 0, Generator Loss: 1.0664362907409668, Discriminator Loss: 1.244513988494873\n",
      "Epoch: 0, Generator Loss: 1.0964500904083252, Discriminator Loss: 1.241058111190796\n",
      "Epoch: 0, Generator Loss: 1.0715751647949219, Discriminator Loss: 1.1988072395324707\n",
      "Epoch: 0, Generator Loss: 1.0672434568405151, Discriminator Loss: 1.235126256942749\n",
      "Epoch: 0, Generator Loss: 1.0636136531829834, Discriminator Loss: 1.2510240077972412\n",
      "Epoch: 0, Generator Loss: 1.088713526725769, Discriminator Loss: 1.1846064329147339\n",
      "Epoch: 0, Generator Loss: 1.1085618734359741, Discriminator Loss: 1.1390334367752075\n",
      "Epoch: 0, Generator Loss: 1.064304232597351, Discriminator Loss: 1.2363579273223877\n",
      "Epoch: 0, Generator Loss: 1.0729819536209106, Discriminator Loss: 1.2330191135406494\n",
      "Epoch: 0, Generator Loss: 1.1035529375076294, Discriminator Loss: 1.2308839559555054\n",
      "Epoch: 0, Generator Loss: 1.0768380165100098, Discriminator Loss: 1.23396897315979\n",
      "Epoch: 0, Generator Loss: 1.0811362266540527, Discriminator Loss: 1.1916587352752686\n",
      "Epoch: 0, Generator Loss: 1.1003891229629517, Discriminator Loss: 1.2327914237976074\n",
      "Epoch: 0, Generator Loss: 1.089163899421692, Discriminator Loss: 1.208999514579773\n",
      "Epoch: 0, Generator Loss: 1.09602952003479, Discriminator Loss: 1.217386245727539\n",
      "Epoch: 0, Generator Loss: 1.0978049039840698, Discriminator Loss: 1.2655166387557983\n",
      "Epoch: 0, Generator Loss: 1.0939764976501465, Discriminator Loss: 1.2041585445404053\n",
      "Epoch: 0, Generator Loss: 1.1079487800598145, Discriminator Loss: 1.17281174659729\n",
      "Epoch: 0, Generator Loss: 1.102301001548767, Discriminator Loss: 1.202314853668213\n",
      "Epoch: 0, Generator Loss: 1.0924123525619507, Discriminator Loss: 1.2290358543395996\n",
      "Epoch: 0, Generator Loss: 1.1085731983184814, Discriminator Loss: 1.2329661846160889\n",
      "Epoch: 0, Generator Loss: 1.093428134918213, Discriminator Loss: 1.1949987411499023\n",
      "Epoch: 0, Generator Loss: 1.0968883037567139, Discriminator Loss: 1.2241554260253906\n",
      "Epoch: 0, Generator Loss: 1.0999610424041748, Discriminator Loss: 1.2019046545028687\n",
      "Epoch: 0, Generator Loss: 1.0951244831085205, Discriminator Loss: 1.2129688262939453\n",
      "Epoch: 0, Generator Loss: 1.0677162408828735, Discriminator Loss: 1.2639704942703247\n",
      "Epoch: 0, Generator Loss: 1.1006327867507935, Discriminator Loss: 1.2176334857940674\n",
      "Epoch: 0, Generator Loss: 1.0604803562164307, Discriminator Loss: 1.240579605102539\n",
      "Epoch: 0, Generator Loss: 1.1006479263305664, Discriminator Loss: 1.2093262672424316\n",
      "Epoch: 0, Generator Loss: 1.1075602769851685, Discriminator Loss: 1.2080273628234863\n",
      "Epoch: 0, Generator Loss: 1.132079005241394, Discriminator Loss: 1.1948819160461426\n",
      "Epoch: 0, Generator Loss: 1.129115343093872, Discriminator Loss: 1.1703749895095825\n",
      "Epoch: 0, Generator Loss: 1.1116251945495605, Discriminator Loss: 1.2135100364685059\n",
      "Epoch: 0, Generator Loss: 1.1231112480163574, Discriminator Loss: 1.1145087480545044\n",
      "Epoch: 0, Generator Loss: 1.0841714143753052, Discriminator Loss: 1.2159206867218018\n",
      "Epoch: 0, Generator Loss: 1.125011682510376, Discriminator Loss: 1.222942590713501\n",
      "Epoch: 0, Generator Loss: 1.1086080074310303, Discriminator Loss: 1.1752032041549683\n",
      "Epoch: 0, Generator Loss: 1.1096298694610596, Discriminator Loss: 1.197922706604004\n",
      "Epoch: 0, Generator Loss: 1.1460773944854736, Discriminator Loss: 1.1960537433624268\n",
      "Epoch: 0, Generator Loss: 1.1254100799560547, Discriminator Loss: 1.2434724569320679\n",
      "Epoch: 0, Generator Loss: 1.1164767742156982, Discriminator Loss: 1.1948963403701782\n",
      "Epoch: 0, Generator Loss: 1.1015195846557617, Discriminator Loss: 1.1734517812728882\n",
      "Epoch: 0, Generator Loss: 1.099349021911621, Discriminator Loss: 1.1794607639312744\n",
      "Epoch: 0, Generator Loss: 1.118831753730774, Discriminator Loss: 1.1456235647201538\n",
      "Epoch: 0, Generator Loss: 1.1371872425079346, Discriminator Loss: 1.208383560180664\n",
      "Epoch: 0, Generator Loss: 1.0895347595214844, Discriminator Loss: 1.177848219871521\n",
      "Epoch: 1, Generator Loss: 1.1221520900726318, Discriminator Loss: 1.187565565109253\n",
      "Epoch: 1, Generator Loss: 1.1016029119491577, Discriminator Loss: 1.2457289695739746\n",
      "Epoch: 1, Generator Loss: 1.1255040168762207, Discriminator Loss: 1.1540056467056274\n",
      "Epoch: 1, Generator Loss: 1.103157877922058, Discriminator Loss: 1.181667447090149\n",
      "Epoch: 1, Generator Loss: 1.1222635507583618, Discriminator Loss: 1.1888737678527832\n",
      "Epoch: 1, Generator Loss: 1.1052744388580322, Discriminator Loss: 1.2379754781723022\n",
      "Epoch: 1, Generator Loss: 1.122105360031128, Discriminator Loss: 1.2091871500015259\n",
      "Epoch: 1, Generator Loss: 1.1246960163116455, Discriminator Loss: 1.2226366996765137\n",
      "Epoch: 1, Generator Loss: 1.1342332363128662, Discriminator Loss: 1.170243263244629\n",
      "Epoch: 1, Generator Loss: 1.1370704174041748, Discriminator Loss: 1.1977972984313965\n",
      "Epoch: 1, Generator Loss: 1.1400442123413086, Discriminator Loss: 1.163036584854126\n",
      "Epoch: 1, Generator Loss: 1.123917579650879, Discriminator Loss: 1.178570032119751\n",
      "Epoch: 1, Generator Loss: 1.122244119644165, Discriminator Loss: 1.1912165880203247\n",
      "Epoch: 1, Generator Loss: 1.1219885349273682, Discriminator Loss: 1.1970261335372925\n",
      "Epoch: 1, Generator Loss: 1.1151472330093384, Discriminator Loss: 1.1966036558151245\n",
      "Epoch: 1, Generator Loss: 1.1210001707077026, Discriminator Loss: 1.1401312351226807\n",
      "Epoch: 1, Generator Loss: 1.117629051208496, Discriminator Loss: 1.2074189186096191\n",
      "Epoch: 1, Generator Loss: 1.1592063903808594, Discriminator Loss: 1.1881412267684937\n",
      "Epoch: 1, Generator Loss: 1.1382699012756348, Discriminator Loss: 1.214105486869812\n",
      "Epoch: 1, Generator Loss: 1.1232694387435913, Discriminator Loss: 1.1524020433425903\n",
      "Epoch: 1, Generator Loss: 1.1137253046035767, Discriminator Loss: 1.1722508668899536\n"
     ]
    },
    {
     "ename": "KeyboardInterrupt",
     "evalue": "",
     "output_type": "error",
     "traceback": [
      "\u001b[1;31m---------------------------------------------------------------------------\u001b[0m",
      "\u001b[1;31mKeyboardInterrupt\u001b[0m                         Traceback (most recent call last)",
      "Cell \u001b[1;32mIn[172], line 29\u001b[0m\n\u001b[0;32m     27\u001b[0m fake_output \u001b[38;5;241m=\u001b[39m discriminator(generated_signal\u001b[38;5;241m.\u001b[39mdetach())  \u001b[38;5;66;03m# Use the generated signal\u001b[39;00m\n\u001b[0;32m     28\u001b[0m g_loss \u001b[38;5;241m=\u001b[39m criterion(fake_output, real_labels)\n\u001b[1;32m---> 29\u001b[0m g_loss\u001b[38;5;241m.\u001b[39mbackward()\n\u001b[0;32m     30\u001b[0m g_optimizer\u001b[38;5;241m.\u001b[39mstep()\n\u001b[0;32m     31\u001b[0m g_scheduler\u001b[38;5;241m.\u001b[39mstep()\n",
      "File \u001b[1;32m~\\anaconda3\\envs\\public_talks\\Lib\\site-packages\\torch\\_tensor.py:521\u001b[0m, in \u001b[0;36mTensor.backward\u001b[1;34m(self, gradient, retain_graph, create_graph, inputs)\u001b[0m\n\u001b[0;32m    511\u001b[0m \u001b[38;5;28;01mif\u001b[39;00m has_torch_function_unary(\u001b[38;5;28mself\u001b[39m):\n\u001b[0;32m    512\u001b[0m     \u001b[38;5;28;01mreturn\u001b[39;00m handle_torch_function(\n\u001b[0;32m    513\u001b[0m         Tensor\u001b[38;5;241m.\u001b[39mbackward,\n\u001b[0;32m    514\u001b[0m         (\u001b[38;5;28mself\u001b[39m,),\n\u001b[1;32m   (...)\u001b[0m\n\u001b[0;32m    519\u001b[0m         inputs\u001b[38;5;241m=\u001b[39minputs,\n\u001b[0;32m    520\u001b[0m     )\n\u001b[1;32m--> 521\u001b[0m torch\u001b[38;5;241m.\u001b[39mautograd\u001b[38;5;241m.\u001b[39mbackward(\n\u001b[0;32m    522\u001b[0m     \u001b[38;5;28mself\u001b[39m, gradient, retain_graph, create_graph, inputs\u001b[38;5;241m=\u001b[39minputs\n\u001b[0;32m    523\u001b[0m )\n",
      "File \u001b[1;32m~\\anaconda3\\envs\\public_talks\\Lib\\site-packages\\torch\\autograd\\__init__.py:289\u001b[0m, in \u001b[0;36mbackward\u001b[1;34m(tensors, grad_tensors, retain_graph, create_graph, grad_variables, inputs)\u001b[0m\n\u001b[0;32m    284\u001b[0m     retain_graph \u001b[38;5;241m=\u001b[39m create_graph\n\u001b[0;32m    286\u001b[0m \u001b[38;5;66;03m# The reason we repeat the same comment below is that\u001b[39;00m\n\u001b[0;32m    287\u001b[0m \u001b[38;5;66;03m# some Python versions print out the first line of a multi-line function\u001b[39;00m\n\u001b[0;32m    288\u001b[0m \u001b[38;5;66;03m# calls in the traceback and some print out the last line\u001b[39;00m\n\u001b[1;32m--> 289\u001b[0m _engine_run_backward(\n\u001b[0;32m    290\u001b[0m     tensors,\n\u001b[0;32m    291\u001b[0m     grad_tensors_,\n\u001b[0;32m    292\u001b[0m     retain_graph,\n\u001b[0;32m    293\u001b[0m     create_graph,\n\u001b[0;32m    294\u001b[0m     inputs,\n\u001b[0;32m    295\u001b[0m     allow_unreachable\u001b[38;5;241m=\u001b[39m\u001b[38;5;28;01mTrue\u001b[39;00m,\n\u001b[0;32m    296\u001b[0m     accumulate_grad\u001b[38;5;241m=\u001b[39m\u001b[38;5;28;01mTrue\u001b[39;00m,\n\u001b[0;32m    297\u001b[0m )\n",
      "File \u001b[1;32m~\\anaconda3\\envs\\public_talks\\Lib\\site-packages\\torch\\autograd\\graph.py:769\u001b[0m, in \u001b[0;36m_engine_run_backward\u001b[1;34m(t_outputs, *args, **kwargs)\u001b[0m\n\u001b[0;32m    767\u001b[0m     unregister_hooks \u001b[38;5;241m=\u001b[39m _register_logging_hooks_on_whole_graph(t_outputs)\n\u001b[0;32m    768\u001b[0m \u001b[38;5;28;01mtry\u001b[39;00m:\n\u001b[1;32m--> 769\u001b[0m     \u001b[38;5;28;01mreturn\u001b[39;00m Variable\u001b[38;5;241m.\u001b[39m_execution_engine\u001b[38;5;241m.\u001b[39mrun_backward(  \u001b[38;5;66;03m# Calls into the C++ engine to run the backward pass\u001b[39;00m\n\u001b[0;32m    770\u001b[0m         t_outputs, \u001b[38;5;241m*\u001b[39margs, \u001b[38;5;241m*\u001b[39m\u001b[38;5;241m*\u001b[39mkwargs\n\u001b[0;32m    771\u001b[0m     )  \u001b[38;5;66;03m# Calls into the C++ engine to run the backward pass\u001b[39;00m\n\u001b[0;32m    772\u001b[0m \u001b[38;5;28;01mfinally\u001b[39;00m:\n\u001b[0;32m    773\u001b[0m     \u001b[38;5;28;01mif\u001b[39;00m attach_logging_hooks:\n",
      "\u001b[1;31mKeyboardInterrupt\u001b[0m: "
     ]
    }
   ],
   "source": [
    "# Training loop\n",
    "for epoch in range(num_epochs):\n",
    "    for batch in dataloader: # batch is (batch_size, time_steps, features)\n",
    "        # Generate fake signal\n",
    "        noise = torch.randn(batch.size(0), 1, z_dim)  # Shape: (batch_size, seq_length, z_dim)\n",
    "        generated_signal = generator(noise)\n",
    "        # reshape for descriminator to accept Shape: (batch_size, seq_length, z_dim)\n",
    "        generated_signal = torch.reshape(generated_signal, (batch.size(0), 1, signal_length))\n",
    "        # Create labels\n",
    "        real_labels = torch.ones(batch.size(0), 1)\n",
    "        fake_labels = torch.zeros(batch.size(0), 1)\n",
    "\n",
    "        # Train the discriminator\n",
    "        discriminator.zero_grad()\n",
    "        t = torch.reshape(batch, (batch.size(0), -1, signal_length))\n",
    "        real_output = discriminator(t)  # Use the real audio batch\n",
    "        real_loss = criterion(real_output, real_labels)\n",
    "        fake_output = discriminator(generated_signal.detach())  # Use the generated signal\n",
    "        fake_loss = criterion(fake_output, fake_labels)\n",
    "        d_loss = real_loss + fake_loss\n",
    "        d_loss.backward()\n",
    "        d_optimizer.step()\n",
    "        d_scheduler.step()\n",
    "\n",
    "        # Train the generator\n",
    "        generator.zero_grad()\n",
    "        fake_output = discriminator(generated_signal.detach())  # Use the generated signal\n",
    "        g_loss = criterion(fake_output, real_labels)\n",
    "        g_loss.backward()\n",
    "        g_optimizer.step()\n",
    "        g_scheduler.step()\n",
    "\n",
    "    #if epoch % 100 == 0:\n",
    "        print(f'Epoch: {epoch}, Generator Loss: {g_loss.item()}, Discriminator Loss: {d_loss.item()}')"
   ]
  },
  {
   "cell_type": "markdown",
   "id": "57644ffc-a3cd-4c79-9f9d-b31b73d11ec5",
   "metadata": {},
   "source": [
    "## Generate new signals after training"
   ]
  },
  {
   "cell_type": "code",
   "execution_count": null,
   "id": "cab179bd-46b1-47e1-aea2-8b8f954071d0",
   "metadata": {},
   "outputs": [],
   "source": [
    "# Set the generator to evaluation mode\n",
    "generator.eval()\n",
    "# Generate and visualize a sample output\n",
    "with torch.no_grad():\n",
    "    noise = torch.randn(1, 1, z_dim)  # Shape: (batch_size, seq_length, z_dim)\n",
    "    generated_audio = generator(noise).detach().numpy().flatten()\n",
    "print(generated_audio.shape)\n",
    "# Plot the generated audio signal\n",
    "plt.figure(figsize=(12, 6))\n",
    "plt.plot(generated_audio, label='Generated Audio Signal', alpha=0.5)\n",
    "plt.title('Generated Audio Signal')\n",
    "plt.xlabel('Sample Index')\n",
    "plt.ylabel('Amplitude')\n",
    "plt.legend()\n",
    "plt.show()"
   ]
  },
  {
   "cell_type": "code",
   "execution_count": null,
   "id": "39a806b2-88ea-4001-8361-fc18b9869dd7",
   "metadata": {},
   "outputs": [],
   "source": [
    "# saving the output\n",
    "np.save('generated/generated.npy', generated_audio)\n",
    "from scipy.io.wavfile import write\n",
    "\n",
    "# Assuming the array values are in the range of int16 for WAV format\n",
    "# Scale the array if necessary\n",
    "generated_audio = np.int16(generated_audio / np.max(np.abs(generated_audio)) * 32767)\n",
    "\n",
    "# Save the array as a WAV file\n",
    "write('generated/generated.wav', sample_rate, generated_audio) "
   ]
  },
  {
   "cell_type": "code",
   "execution_count": null,
   "id": "0f18d112-11f8-4ca0-bdc2-412b663d512b",
   "metadata": {},
   "outputs": [],
   "source": []
  }
 ],
 "metadata": {
  "kernelspec": {
   "display_name": "Python 3 (ipykernel)",
   "language": "python",
   "name": "python3"
  },
  "language_info": {
   "codemirror_mode": {
    "name": "ipython",
    "version": 3
   },
   "file_extension": ".py",
   "mimetype": "text/x-python",
   "name": "python",
   "nbconvert_exporter": "python",
   "pygments_lexer": "ipython3",
   "version": "3.12.4"
  }
 },
 "nbformat": 4,
 "nbformat_minor": 5
}
