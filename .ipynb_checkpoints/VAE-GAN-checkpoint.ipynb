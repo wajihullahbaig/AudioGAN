{
 "cells": [
  {
   "cell_type": "code",
   "execution_count": 58,
   "id": "62e25e47-b6c4-4e3c-99d6-d5ccce773db2",
   "metadata": {},
   "outputs": [],
   "source": [
    "import torch\n",
    "import torch.nn as nn\n",
    "import torch.optim as optim\n",
    "import torchaudio\n",
    "import os\n",
    "from torch.utils.data import Dataset, DataLoader\n",
    "import sys"
   ]
  },
  {
   "cell_type": "code",
   "execution_count": 68,
   "id": "d5545898-74a2-438f-a366-ea00f5683b92",
   "metadata": {},
   "outputs": [],
   "source": [
    "# Define the VAE Encoder\n",
    "class VAEEncoder(nn.Module):\n",
    "    def __init__(self, input_dim, hidden_dim, latent_dim):\n",
    "        super(VAEEncoder, self).__init__()\n",
    "        self.fc1 = nn.Linear(input_dim, hidden_dim)\n",
    "        self.fc21 = nn.Linear(hidden_dim, latent_dim)  # Mean\n",
    "        self.fc22 = nn.Linear(hidden_dim, latent_dim)  # Log variance\n",
    "\n",
    "    def forward(self, x):\n",
    "        h1 = torch.relu(self.fc1(x))  # Apply ReLU activation\n",
    "        z_mean = self.fc21(h1)         # Mean of the latent space\n",
    "        z_log_var = self.fc22(h1)      # Log variance of the latent space\n",
    "        return z_mean, z_log_var\n",
    "\n",
    "# Define the VAE Decoder (Generator)\n",
    "class VAEDecoder(nn.Module):\n",
    "    def __init__(self, latent_dim, hidden_dim, output_dim):\n",
    "        super(VAEDecoder, self).__init__()\n",
    "        self.fc3 = nn.Linear(latent_dim, hidden_dim)\n",
    "        self.fc4 = nn.Linear(hidden_dim, output_dim)\n",
    "\n",
    "    def forward(self, z):\n",
    "        h3 = torch.relu(self.fc3(z))   # Apply ReLU activation\n",
    "        return torch.tanh(self.fc4(h3))  # Output layer with tanh activation\n",
    "\n",
    "# Define the Discriminator\n",
    "class Discriminator(nn.Module):\n",
    "    def __init__(self, input_dim):\n",
    "        super(Discriminator, self).__init__()\n",
    "        self.fc1 = nn.Linear(input_dim, 128)\n",
    "        self.fc2 = nn.Linear(128, 1)\n",
    "\n",
    "    def forward(self, x):\n",
    "        h1 = torch.relu(self.fc1(x))   # Apply ReLU activation\n",
    "        return torch.sigmoid(self.fc2(h1))  # Output layer with sigmoid activation\n",
    "\n"
   ]
  },
  {
   "cell_type": "code",
   "execution_count": 86,
   "id": "c674d9bb-53e8-4af3-8e27-f723467fbd26",
   "metadata": {},
   "outputs": [],
   "source": [
    "# Custom Dataset for loading .wav files\n",
    "class AudioDataset(Dataset):\n",
    "    def __init__(self, file_paths):\n",
    "        self.file_paths = file_paths\n",
    "\n",
    "    def __len__(self):\n",
    "        return len(self.file_paths)\n",
    "\n",
    "    def __getitem__(self, idx):\n",
    "        waveform, sample_rate = torchaudio.load(self.file_paths[idx])\n",
    "        \n",
    "        # Ensure the audio is exactly 1 second (48000 samples)\n",
    "        if waveform.size(1) < 48000:\n",
    "            waveform = torch.nn.functional.pad(waveform, (0, 48000 - waveform.size(1)))\n",
    "        elif waveform.size(1) > 48000:\n",
    "            waveform = waveform[:, :48000]\n",
    "            \n",
    "        waveform = np.float32(waveform)\n",
    "        waveform = (waveform - min(waveform)) / (max(waveform) - min(waveform)) * 2 - 1 \n",
    "        waveform = waveform/np.max(waveform)\n",
    "        return torch.tensor(waveform,dtype=torch.float32)\n"
   ]
  },
  {
   "cell_type": "code",
   "execution_count": 87,
   "id": "4bfb9c9f-0156-4204-8327-6583c16e1948",
   "metadata": {},
   "outputs": [],
   "source": [
    "# Reparameterization trick for VAE\n",
    "def reparameterize(mu, logvar):\n",
    "    std = torch.exp(0.5 * logvar)\n",
    "    eps = torch.randn_like(std)\n",
    "    return mu + eps * std"
   ]
  },
  {
   "cell_type": "code",
   "execution_count": 88,
   "id": "74bb81ab-dc32-4244-bc4d-266c7faa7ca8",
   "metadata": {},
   "outputs": [],
   "source": [
    "# Path to your .wav files directory\n",
    "wav_directory = 'C:/Users/Acer/work/git/AudioMNIST/data/01'  # Change this to your directory with .wav files\n",
    "file_paths = [os.path.join(wav_directory, f) for f in os.listdir(wav_directory) if f.endswith('.wav')]\n",
    "\n",
    "# Create dataset and dataloader\n",
    "dataset = AudioDataset(file_paths)\n",
    "data_loader = DataLoader(dataset, batch_size=32, shuffle=True)\n",
    "\n",
    "input_dim = 48000  # For 1 second of audio at 48 kHz\n",
    "hidden_dim = 256\n",
    "latent_dim = 64\n",
    "\n",
    "vae_encoder = VAEEncoder(input_dim, hidden_dim, latent_dim)\n",
    "vae_decoder = VAEDecoder(latent_dim, hidden_dim, input_dim)\n",
    "discriminator = Discriminator(input_dim)"
   ]
  },
  {
   "cell_type": "code",
   "execution_count": 89,
   "id": "2a1f17dd-c5b2-4153-9ed8-aa54cc8c9ac9",
   "metadata": {},
   "outputs": [
    {
     "name": "stderr",
     "output_type": "stream",
     "text": [
      "C:\\Users\\Acer\\AppData\\Local\\Temp\\ipykernel_74084\\313451000.py:19: RuntimeWarning: invalid value encountered in divide\n",
      "  waveform = (waveform - min(waveform)) / (max(waveform) - min(waveform)) * 2 - 1\n"
     ]
    },
    {
     "name": "stdout",
     "output_type": "stream",
     "text": [
      "Epoch: 0, VAE Loss: nan, Discriminator Loss: nan, KL Loss nan\n",
      "Epoch: 0, VAE Loss: nan, Discriminator Loss: nan, KL Loss nan\n",
      "Epoch: 1, VAE Loss: nan, Discriminator Loss: nan, KL Loss nan\n",
      "Epoch: 1, VAE Loss: nan, Discriminator Loss: nan, KL Loss nan\n",
      "Epoch: 2, VAE Loss: nan, Discriminator Loss: nan, KL Loss nan\n",
      "Epoch: 3, VAE Loss: nan, Discriminator Loss: nan, KL Loss nan\n",
      "Epoch: 3, VAE Loss: nan, Discriminator Loss: nan, KL Loss nan\n",
      "Epoch: 4, VAE Loss: nan, Discriminator Loss: nan, KL Loss nan\n",
      "Epoch: 5, VAE Loss: nan, Discriminator Loss: nan, KL Loss nan\n",
      "Epoch: 5, VAE Loss: nan, Discriminator Loss: nan, KL Loss nan\n",
      "Epoch: 6, VAE Loss: nan, Discriminator Loss: nan, KL Loss nan\n",
      "Epoch: 6, VAE Loss: nan, Discriminator Loss: nan, KL Loss nan\n",
      "Epoch: 7, VAE Loss: nan, Discriminator Loss: nan, KL Loss nan\n"
     ]
    },
    {
     "ename": "KeyboardInterrupt",
     "evalue": "",
     "output_type": "error",
     "traceback": [
      "\u001b[1;31m---------------------------------------------------------------------------\u001b[0m",
      "\u001b[1;31mKeyboardInterrupt\u001b[0m                         Traceback (most recent call last)",
      "Cell \u001b[1;32mIn[89], line 31\u001b[0m\n\u001b[0;32m     29\u001b[0m kl_losses\u001b[38;5;241m.\u001b[39mappend(kl_loss\u001b[38;5;241m.\u001b[39mitem())\n\u001b[0;32m     30\u001b[0m loss_vae_total \u001b[38;5;241m=\u001b[39m loss_vae_gan \u001b[38;5;241m+\u001b[39m kl_loss\n\u001b[1;32m---> 31\u001b[0m loss_vae_total\u001b[38;5;241m.\u001b[39mbackward()\n\u001b[0;32m     32\u001b[0m optimizer_vae\u001b[38;5;241m.\u001b[39mstep()\n\u001b[0;32m     33\u001b[0m \u001b[38;5;28;01mif\u001b[39;00m batch_count \u001b[38;5;241m%\u001b[39m \u001b[38;5;241m10\u001b[39m \u001b[38;5;241m==\u001b[39m \u001b[38;5;241m0\u001b[39m:\n",
      "File \u001b[1;32m~\\anaconda3\\envs\\public_talks\\Lib\\site-packages\\torch\\_tensor.py:521\u001b[0m, in \u001b[0;36mTensor.backward\u001b[1;34m(self, gradient, retain_graph, create_graph, inputs)\u001b[0m\n\u001b[0;32m    511\u001b[0m \u001b[38;5;28;01mif\u001b[39;00m has_torch_function_unary(\u001b[38;5;28mself\u001b[39m):\n\u001b[0;32m    512\u001b[0m     \u001b[38;5;28;01mreturn\u001b[39;00m handle_torch_function(\n\u001b[0;32m    513\u001b[0m         Tensor\u001b[38;5;241m.\u001b[39mbackward,\n\u001b[0;32m    514\u001b[0m         (\u001b[38;5;28mself\u001b[39m,),\n\u001b[1;32m   (...)\u001b[0m\n\u001b[0;32m    519\u001b[0m         inputs\u001b[38;5;241m=\u001b[39minputs,\n\u001b[0;32m    520\u001b[0m     )\n\u001b[1;32m--> 521\u001b[0m torch\u001b[38;5;241m.\u001b[39mautograd\u001b[38;5;241m.\u001b[39mbackward(\n\u001b[0;32m    522\u001b[0m     \u001b[38;5;28mself\u001b[39m, gradient, retain_graph, create_graph, inputs\u001b[38;5;241m=\u001b[39minputs\n\u001b[0;32m    523\u001b[0m )\n",
      "File \u001b[1;32m~\\anaconda3\\envs\\public_talks\\Lib\\site-packages\\torch\\autograd\\__init__.py:289\u001b[0m, in \u001b[0;36mbackward\u001b[1;34m(tensors, grad_tensors, retain_graph, create_graph, grad_variables, inputs)\u001b[0m\n\u001b[0;32m    284\u001b[0m     retain_graph \u001b[38;5;241m=\u001b[39m create_graph\n\u001b[0;32m    286\u001b[0m \u001b[38;5;66;03m# The reason we repeat the same comment below is that\u001b[39;00m\n\u001b[0;32m    287\u001b[0m \u001b[38;5;66;03m# some Python versions print out the first line of a multi-line function\u001b[39;00m\n\u001b[0;32m    288\u001b[0m \u001b[38;5;66;03m# calls in the traceback and some print out the last line\u001b[39;00m\n\u001b[1;32m--> 289\u001b[0m _engine_run_backward(\n\u001b[0;32m    290\u001b[0m     tensors,\n\u001b[0;32m    291\u001b[0m     grad_tensors_,\n\u001b[0;32m    292\u001b[0m     retain_graph,\n\u001b[0;32m    293\u001b[0m     create_graph,\n\u001b[0;32m    294\u001b[0m     inputs,\n\u001b[0;32m    295\u001b[0m     allow_unreachable\u001b[38;5;241m=\u001b[39m\u001b[38;5;28;01mTrue\u001b[39;00m,\n\u001b[0;32m    296\u001b[0m     accumulate_grad\u001b[38;5;241m=\u001b[39m\u001b[38;5;28;01mTrue\u001b[39;00m,\n\u001b[0;32m    297\u001b[0m )\n",
      "File \u001b[1;32m~\\anaconda3\\envs\\public_talks\\Lib\\site-packages\\torch\\autograd\\graph.py:769\u001b[0m, in \u001b[0;36m_engine_run_backward\u001b[1;34m(t_outputs, *args, **kwargs)\u001b[0m\n\u001b[0;32m    767\u001b[0m     unregister_hooks \u001b[38;5;241m=\u001b[39m _register_logging_hooks_on_whole_graph(t_outputs)\n\u001b[0;32m    768\u001b[0m \u001b[38;5;28;01mtry\u001b[39;00m:\n\u001b[1;32m--> 769\u001b[0m     \u001b[38;5;28;01mreturn\u001b[39;00m Variable\u001b[38;5;241m.\u001b[39m_execution_engine\u001b[38;5;241m.\u001b[39mrun_backward(  \u001b[38;5;66;03m# Calls into the C++ engine to run the backward pass\u001b[39;00m\n\u001b[0;32m    770\u001b[0m         t_outputs, \u001b[38;5;241m*\u001b[39margs, \u001b[38;5;241m*\u001b[39m\u001b[38;5;241m*\u001b[39mkwargs\n\u001b[0;32m    771\u001b[0m     )  \u001b[38;5;66;03m# Calls into the C++ engine to run the backward pass\u001b[39;00m\n\u001b[0;32m    772\u001b[0m \u001b[38;5;28;01mfinally\u001b[39;00m:\n\u001b[0;32m    773\u001b[0m     \u001b[38;5;28;01mif\u001b[39;00m attach_logging_hooks:\n",
      "\u001b[1;31mKeyboardInterrupt\u001b[0m: "
     ]
    }
   ],
   "source": [
    "optimizer_vae = optim.Adam(list(vae_encoder.parameters()) + list(vae_decoder.parameters()), lr=0.001)\n",
    "optimizer_disc = optim.Adam(discriminator.parameters(), lr=0.001)\n",
    "kl_losses  = []\n",
    "vae_gan_losses = []\n",
    "disc_losses = []\n",
    "batch_count = 0\n",
    "for epoch in range(12):\n",
    "    for real_data in data_loader:\n",
    "        # real_data is already in the correct shape (batch_size, input_dim)\n",
    "        # Train Discriminator\n",
    "        optimizer_disc.zero_grad()\n",
    "        mu, logvar = vae_encoder(real_data)\n",
    "        z = reparameterize(mu, logvar)\n",
    "        fake_data = vae_decoder(z)\n",
    "\n",
    "        disc_real = discriminator(real_data)\n",
    "        disc_fake = discriminator(fake_data.detach())\n",
    "        loss_disc = -torch.mean(torch.log(disc_real) + torch.log(1 - disc_fake))\n",
    "        disc_losses.append(loss_disc.item())\n",
    "        loss_disc.backward()\n",
    "        optimizer_disc.step()\n",
    "\n",
    "        # Train VAE-GAN\n",
    "        optimizer_vae.zero_grad()\n",
    "        disc_fake = discriminator(fake_data)\n",
    "        loss_vae_gan = -torch.mean(torch.log(disc_fake))  # Adversarial loss\n",
    "        vae_gan_losses.append(loss_vae_gan.item())\n",
    "        kl_loss = -0.5 * torch.mean(1 + logvar - mu.pow(2) - logvar.exp())  # KL divergence\n",
    "        kl_losses.append(kl_loss.item())\n",
    "        loss_vae_total = loss_vae_gan + kl_loss\n",
    "        loss_vae_total.backward()\n",
    "        optimizer_vae.step()\n",
    "        if batch_count % 10 == 0:\n",
    "            print(f'Epoch: {epoch}, VAE Loss: {loss_vae_gan.item()}, Discriminator Loss: {loss_disc.item()}, KL Loss {kl_loss.item()}')\n",
    "        batch_count +=1"
   ]
  },
  {
   "cell_type": "code",
   "execution_count": null,
   "id": "e9ad09c3-b9a0-429d-9953-e8f2388f9eb6",
   "metadata": {},
   "outputs": [],
   "source": [
    "# Plot the losses\n",
    "plt.figure(figsize=(12, 6))\n",
    "plt.plot(disc_losses, label='Discriminator Loss')\n",
    "plt.plot(kl_losses, label='KL Losses')\n",
    "plt.plot(vae_gan_losses, label='VAE GAN Loss')\n",
    "plt.title('VAE-GAN Training Losses')\n",
    "plt.xlabel('Iteration')\n",
    "plt.ylabel('Loss')\n",
    "plt.legend()\n",
    "plt.show()        "
   ]
  },
  {
   "cell_type": "code",
   "execution_count": null,
   "id": "db235f64-ae25-4d03-a021-73a7ca257240",
   "metadata": {},
   "outputs": [],
   "source": [
    "import matplotlib.pyplot as plt\n",
    "vae_decoder.eval()\n",
    "with torch.no_grad():\n",
    "    z =  torch.tanh(torch.randn(1, latent_dim))\n",
    "    generated_audio = vae_decoder(torch.randn(1, latent_dim)).detach().numpy().flatten()\n",
    "print(generated_audio.shape)\n",
    "# Plot the generated audio signal\n",
    "plt.figure(figsize=(12, 6))\n",
    "plt.plot(generated_audio, label='Generated Audio Signal', alpha=0.5)\n",
    "plt.title('Generated Audio Signal')\n",
    "plt.xlabel('Sample Index')\n",
    "plt.ylabel('Amplitude')\n",
    "plt.legend()\n",
    "plt.show()"
   ]
  },
  {
   "cell_type": "code",
   "execution_count": null,
   "id": "517a6b46-91e2-40d3-998e-2bbe8a4ecd25",
   "metadata": {},
   "outputs": [],
   "source": [
    "from scipy.io.wavfile import write\n",
    "import numpy as np\n",
    "sample_rate = 48000\n",
    "# Assuming the array values are in the range of int16 for WAV format\n",
    "# Scale the array if necessary\n",
    "generated_audio = np.int16(generated_audio / np.max(np.abs(generated_audio)) * 32767)\n",
    "# Save the array as a WAV file\n",
    "write('generated/generated.wav', sample_rate, generated_audio) "
   ]
  },
  {
   "cell_type": "code",
   "execution_count": null,
   "id": "781b57f9-92da-4319-a205-e1b3213a9b39",
   "metadata": {},
   "outputs": [],
   "source": []
  }
 ],
 "metadata": {
  "kernelspec": {
   "display_name": "Python 3 (ipykernel)",
   "language": "python",
   "name": "python3"
  },
  "language_info": {
   "codemirror_mode": {
    "name": "ipython",
    "version": 3
   },
   "file_extension": ".py",
   "mimetype": "text/x-python",
   "name": "python",
   "nbconvert_exporter": "python",
   "pygments_lexer": "ipython3",
   "version": "3.12.4"
  }
 },
 "nbformat": 4,
 "nbformat_minor": 5
}
