{
 "cells": [
  {
   "cell_type": "markdown",
   "id": "ba1c536e-1467-475b-b496-4f3a72015d03",
   "metadata": {},
   "source": [
    "# Create a 1D signal RNN GAN, for voice recorded signals\n",
    "## Use a very basic GAN architecture that works with a single dimension (1D array)"
   ]
  },
  {
   "cell_type": "code",
   "execution_count": 101,
   "id": "d5ced4fc-361e-4c0a-ae7f-bdf579ae48c7",
   "metadata": {},
   "outputs": [],
   "source": [
    "import sounddevice as sd\n",
    "import numpy as np\n",
    "import torch\n",
    "import torch.nn as nn\n",
    "from torch.utils.data import Dataset, DataLoader\n",
    "import matplotlib.pyplot as plt\n",
    "import ipywidgets as widgets\n",
    "from IPython.display import display, Audio\n",
    "from scipy.io.wavfile import write\n",
    "import os\n",
    "import torch.optim as optim\n"
   ]
  },
  {
   "cell_type": "markdown",
   "id": "2427dc01-db52-474a-879f-11abc0f3ed31",
   "metadata": {},
   "source": [
    "# Lets setup some basic configurations"
   ]
  },
  {
   "cell_type": "code",
   "execution_count": 83,
   "id": "ba5b5c63-85bc-4629-a290-6b13e61d4c7f",
   "metadata": {},
   "outputs": [],
   "source": [
    "sample_rate = 22050\n",
    "duration = 2  # 2 seconds\n",
    "signal_length = sample_rate * duration  # 44100 for 2 seconds"
   ]
  },
  {
   "cell_type": "markdown",
   "id": "57b9581b-3404-4b8a-9660-55d6716ddc20",
   "metadata": {},
   "source": [
    "## Define the Generator class"
   ]
  },
  {
   "cell_type": "code",
   "execution_count": 90,
   "id": "0ff2fd89-8f77-44e3-be8c-80eab119a20c",
   "metadata": {},
   "outputs": [],
   "source": [
    "class Generator(nn.Module):\n",
    "    def __init__(self, input_dim, hidden_dim, output_dim):\n",
    "        super(Generator, self).__init__()\n",
    "        self.rnn = nn.GRU(input_dim, hidden_dim, batch_first=True)\n",
    "        self.fc = nn.Linear(hidden_dim, output_dim)\n",
    "    def forward(self, z):\n",
    "        # z shape: (batch_size, seq_length, input_dim)\n",
    "        out, _ = self.rnn(z)\n",
    "        # Take the last output of the sequence\n",
    "        out = self.fc(out[:, -1, :])\n",
    "        out = torch.tan(out)\n",
    "        return out"
   ]
  },
  {
   "cell_type": "markdown",
   "id": "0bb858d0-bd76-4dbd-8925-9921343dfec3",
   "metadata": {},
   "source": [
    "## Define the Discriminator class"
   ]
  },
  {
   "cell_type": "code",
   "execution_count": 91,
   "id": "f0d361c8-cef7-46fd-b533-1cd14fcb25cd",
   "metadata": {},
   "outputs": [],
   "source": [
    "class Discriminator(nn.Module):\n",
    "    def __init__(self, input_dim, hidden_dim):\n",
    "        super(Discriminator, self).__init__()\n",
    "        self.rnn = nn.GRU(input_dim, hidden_dim, batch_first=True)\n",
    "        self.fc = nn.Linear(hidden_dim, 1)\n",
    "\n",
    "    def forward(self, x):\n",
    "        # x shape: (batch_size, seq_length, input_dim)\n",
    "        out, _ = self.rnn(x)\n",
    "        # Take the last output of the sequence\n",
    "        out = self.fc(out[:, -1, :])\n",
    "        return torch.sigmoid(out)"
   ]
  },
  {
   "cell_type": "markdown",
   "id": "3b938569-5c74-48f4-ba33-e8728e29c867",
   "metadata": {},
   "source": [
    "## Custom dataset class for voice signals"
   ]
  },
  {
   "cell_type": "code",
   "execution_count": 92,
   "id": "260d1e41-e99c-42b5-9fc4-bb68d477aee5",
   "metadata": {},
   "outputs": [],
   "source": [
    "class AudioDataset(Dataset):\n",
    "    def __init__(self, data_dir, sample_rate=22050, duration=2):\n",
    "        self.data_dir = data_dir\n",
    "        self.sample_rate = sample_rate\n",
    "        self.duration = duration\n",
    "        self.files = [f for f in os.listdir(data_dir) if f.endswith('.npy')]  # Only .npy files\n",
    "\n",
    "    def __len__(self):\n",
    "        return len(self.files)\n",
    "\n",
    "    def __getitem__(self, idx):\n",
    "        file_path = os.path.join(self.data_dir, self.files[idx])\n",
    "        # Load numpy array\n",
    "        waveform = np.load(file_path)\n",
    "        # Ensure the audio is 2 seconds long\n",
    "        target_length = self.sample_rate * self.duration\n",
    "        if waveform.size < target_length:\n",
    "            # Pad the waveform if it's shorter than 2 seconds\n",
    "            waveform = np.pad(waveform, (0, target_length - waveform.size), mode='constant')\n",
    "        else:\n",
    "            # Trim the waveform if it's longer than 2 seconds\n",
    "            waveform = waveform[:target_length]\n",
    "            waveform = np.int16(waveform / np.max(np.abs(waveform)) * 32767)\n",
    "        return torch.tensor(waveform, dtype=torch.float32)  # Convert to tensor\n"
   ]
  },
  {
   "cell_type": "markdown",
   "id": "62f3879f-d9ac-473c-9f17-00b28d4fb39b",
   "metadata": {},
   "source": [
    "## Prepare the dataset for training the GAN"
   ]
  },
  {
   "cell_type": "code",
   "execution_count": 93,
   "id": "1a497c63-9f08-48d9-9069-11c63d3d7e3f",
   "metadata": {},
   "outputs": [
    {
     "name": "stdout",
     "output_type": "stream",
     "text": [
      "16\n"
     ]
    }
   ],
   "source": [
    "# Create the dataset and dataloader\n",
    "dataset = AudioDataset('audios/', sample_rate, duration)\n",
    "dataloader = DataLoader(dataset, batch_size=8, shuffle=True)\n",
    "print(len(dataset))"
   ]
  },
  {
   "cell_type": "markdown",
   "id": "9e873b18-a081-4772-b424-835cc4751744",
   "metadata": {},
   "source": [
    "## Setup the hyper-parameters"
   ]
  },
  {
   "cell_type": "code",
   "execution_count": 94,
   "id": "7e979f70-b32e-417b-9b77-b09f94515a31",
   "metadata": {},
   "outputs": [],
   "source": [
    "# Hyperparameters\n",
    "input_dim = 1  # Input dimension for the RNN\n",
    "hidden_dim = 128  # Hidden dimension for the RNN\n",
    "output_dim = signal_length  # Output dimension (length of the signal)\n",
    "z_dim = 10  # Dimension of the noise vector\n",
    "batch_size = 8  # Batch size\n",
    "num_epochs = 10  # Number of training epochs\n",
    "learning_rate = 0.0002  # Learning rate"
   ]
  },
  {
   "cell_type": "markdown",
   "id": "75e4396b-b199-4098-beb1-35c88f9fdf6a",
   "metadata": {},
   "source": [
    "## Initialize the GANs"
   ]
  },
  {
   "cell_type": "code",
   "execution_count": 95,
   "id": "7d68d436-c67a-47c9-829e-70f900ad3b61",
   "metadata": {},
   "outputs": [],
   "source": [
    "# Set up the GAN\n",
    "device = torch.device('cuda' if torch.cuda.is_available() else 'cpu')\n",
    "# Initialize models\n",
    "generator = Generator(z_dim, hidden_dim, output_dim=signal_length)\n",
    "discriminator = Discriminator(signal_length, hidden_dim)"
   ]
  },
  {
   "cell_type": "code",
   "execution_count": 96,
   "id": "a4d581df-d73f-4a00-a3d9-46755d263215",
   "metadata": {},
   "outputs": [
    {
     "data": {
      "text/plain": [
       "Generator(\n",
       "  (rnn): GRU(10, 128, batch_first=True)\n",
       "  (fc): Linear(in_features=128, out_features=44100, bias=True)\n",
       ")"
      ]
     },
     "execution_count": 96,
     "metadata": {},
     "output_type": "execute_result"
    }
   ],
   "source": [
    "generator"
   ]
  },
  {
   "cell_type": "code",
   "execution_count": 97,
   "id": "7f99b4a1-5a44-4f2d-95cb-9ca6873b3aff",
   "metadata": {},
   "outputs": [
    {
     "data": {
      "text/plain": [
       "Discriminator(\n",
       "  (rnn): GRU(44100, 128, batch_first=True)\n",
       "  (fc): Linear(in_features=128, out_features=1, bias=True)\n",
       ")"
      ]
     },
     "execution_count": 97,
     "metadata": {},
     "output_type": "execute_result"
    }
   ],
   "source": [
    "discriminator"
   ]
  },
  {
   "cell_type": "markdown",
   "id": "88dfe567-7e87-4aed-b32e-9442593c11ef",
   "metadata": {},
   "source": [
    "## Define the loss function and optimizers"
   ]
  },
  {
   "cell_type": "code",
   "execution_count": 98,
   "id": "02afb570-d1ee-4dfd-be1e-7feb821cae38",
   "metadata": {},
   "outputs": [],
   "source": [
    "criterion = nn.BCELoss()\n",
    "g_optimizer = torch.optim.Adam(generator.parameters(), lr=0.0001)\n",
    "d_optimizer = torch.optim.Adam(discriminator.parameters(), lr=0.0001)\n",
    "\n",
    "num_epochs = 100\n",
    "batch_size = 8"
   ]
  },
  {
   "cell_type": "markdown",
   "id": "831c1eb9-89da-4ef0-8c8e-d3c49ceffebe",
   "metadata": {},
   "source": [
    "## Training the GAN"
   ]
  },
  {
   "cell_type": "code",
   "execution_count": 99,
   "id": "001a9ff6-e72e-426b-ab07-b4dc4a64eae2",
   "metadata": {},
   "outputs": [
    {
     "name": "stdout",
     "output_type": "stream",
     "text": [
      "Epoch: 0, Generator Loss: 0.8733205199241638, Discriminator Loss: 1.51003098487854\n",
      "Epoch: 0, Generator Loss: 1.1396307945251465, Discriminator Loss: 1.4956635236740112\n",
      "Epoch: 1, Generator Loss: 1.47597074508667, Discriminator Loss: 1.1598505973815918\n",
      "Epoch: 1, Generator Loss: 1.7608811855316162, Discriminator Loss: 1.1173497438430786\n",
      "Epoch: 2, Generator Loss: 2.0807933807373047, Discriminator Loss: 1.1037729978561401\n",
      "Epoch: 2, Generator Loss: 2.328624725341797, Discriminator Loss: 0.8315653800964355\n",
      "Epoch: 3, Generator Loss: 2.529237747192383, Discriminator Loss: 0.8912643194198608\n",
      "Epoch: 3, Generator Loss: 2.751939058303833, Discriminator Loss: 0.9106456637382507\n",
      "Epoch: 4, Generator Loss: 2.8792080879211426, Discriminator Loss: 0.8970241546630859\n",
      "Epoch: 4, Generator Loss: 3.038577079772949, Discriminator Loss: 0.8480623364448547\n",
      "Epoch: 5, Generator Loss: 3.1714377403259277, Discriminator Loss: 0.9414836764335632\n",
      "Epoch: 5, Generator Loss: 3.3059473037719727, Discriminator Loss: 0.7661777138710022\n",
      "Epoch: 6, Generator Loss: 3.4080002307891846, Discriminator Loss: 0.7578343152999878\n",
      "Epoch: 6, Generator Loss: 3.5303397178649902, Discriminator Loss: 0.9371888637542725\n",
      "Epoch: 7, Generator Loss: 3.6284728050231934, Discriminator Loss: 0.9036474823951721\n",
      "Epoch: 7, Generator Loss: 3.683624505996704, Discriminator Loss: 0.7706233859062195\n",
      "Epoch: 8, Generator Loss: 3.771404504776001, Discriminator Loss: 0.7974514961242676\n",
      "Epoch: 8, Generator Loss: 3.796114444732666, Discriminator Loss: 0.863520622253418\n",
      "Epoch: 9, Generator Loss: 3.8555688858032227, Discriminator Loss: 0.8407769799232483\n",
      "Epoch: 9, Generator Loss: 3.969658136367798, Discriminator Loss: 0.8106946349143982\n",
      "Epoch: 10, Generator Loss: 4.00142240524292, Discriminator Loss: 0.8952034711837769\n",
      "Epoch: 10, Generator Loss: 4.025045871734619, Discriminator Loss: 0.7427067756652832\n",
      "Epoch: 11, Generator Loss: 4.080511093139648, Discriminator Loss: 0.8014792799949646\n",
      "Epoch: 11, Generator Loss: 4.143609046936035, Discriminator Loss: 0.8293733596801758\n",
      "Epoch: 12, Generator Loss: 4.165311813354492, Discriminator Loss: 0.8950873017311096\n",
      "Epoch: 12, Generator Loss: 4.207437515258789, Discriminator Loss: 0.7236701250076294\n",
      "Epoch: 13, Generator Loss: 4.249040126800537, Discriminator Loss: 0.759569525718689\n",
      "Epoch: 13, Generator Loss: 4.2247114181518555, Discriminator Loss: 0.8541942834854126\n",
      "Epoch: 14, Generator Loss: 4.279343128204346, Discriminator Loss: 0.8711237907409668\n",
      "Epoch: 14, Generator Loss: 4.314428806304932, Discriminator Loss: 0.738094687461853\n",
      "Epoch: 15, Generator Loss: 4.329400062561035, Discriminator Loss: 0.8061447143554688\n",
      "Epoch: 15, Generator Loss: 4.367244720458984, Discriminator Loss: 0.7975416779518127\n",
      "Epoch: 16, Generator Loss: 4.375582695007324, Discriminator Loss: 0.7650108337402344\n",
      "Epoch: 16, Generator Loss: 4.425939083099365, Discriminator Loss: 0.8344206213951111\n",
      "Epoch: 17, Generator Loss: 4.456677436828613, Discriminator Loss: 0.8260547518730164\n",
      "Epoch: 17, Generator Loss: 4.497954368591309, Discriminator Loss: 0.7685818076133728\n",
      "Epoch: 18, Generator Loss: 4.485875129699707, Discriminator Loss: 0.8191195726394653\n"
     ]
    },
    {
     "ename": "KeyboardInterrupt",
     "evalue": "",
     "output_type": "error",
     "traceback": [
      "\u001b[1;31m---------------------------------------------------------------------------\u001b[0m",
      "\u001b[1;31mKeyboardInterrupt\u001b[0m                         Traceback (most recent call last)",
      "Cell \u001b[1;32mIn[99], line 21\u001b[0m\n\u001b[0;32m     19\u001b[0m fake_loss \u001b[38;5;241m=\u001b[39m criterion(fake_output, fake_labels)\n\u001b[0;32m     20\u001b[0m d_loss \u001b[38;5;241m=\u001b[39m real_loss \u001b[38;5;241m+\u001b[39m fake_loss\n\u001b[1;32m---> 21\u001b[0m d_loss\u001b[38;5;241m.\u001b[39mbackward()\n\u001b[0;32m     22\u001b[0m d_optimizer\u001b[38;5;241m.\u001b[39mstep()\n\u001b[0;32m     24\u001b[0m \u001b[38;5;66;03m# Train the generator\u001b[39;00m\n",
      "File \u001b[1;32m~\\anaconda3\\envs\\public_talks\\Lib\\site-packages\\torch\\_tensor.py:521\u001b[0m, in \u001b[0;36mTensor.backward\u001b[1;34m(self, gradient, retain_graph, create_graph, inputs)\u001b[0m\n\u001b[0;32m    511\u001b[0m \u001b[38;5;28;01mif\u001b[39;00m has_torch_function_unary(\u001b[38;5;28mself\u001b[39m):\n\u001b[0;32m    512\u001b[0m     \u001b[38;5;28;01mreturn\u001b[39;00m handle_torch_function(\n\u001b[0;32m    513\u001b[0m         Tensor\u001b[38;5;241m.\u001b[39mbackward,\n\u001b[0;32m    514\u001b[0m         (\u001b[38;5;28mself\u001b[39m,),\n\u001b[1;32m   (...)\u001b[0m\n\u001b[0;32m    519\u001b[0m         inputs\u001b[38;5;241m=\u001b[39minputs,\n\u001b[0;32m    520\u001b[0m     )\n\u001b[1;32m--> 521\u001b[0m torch\u001b[38;5;241m.\u001b[39mautograd\u001b[38;5;241m.\u001b[39mbackward(\n\u001b[0;32m    522\u001b[0m     \u001b[38;5;28mself\u001b[39m, gradient, retain_graph, create_graph, inputs\u001b[38;5;241m=\u001b[39minputs\n\u001b[0;32m    523\u001b[0m )\n",
      "File \u001b[1;32m~\\anaconda3\\envs\\public_talks\\Lib\\site-packages\\torch\\autograd\\__init__.py:289\u001b[0m, in \u001b[0;36mbackward\u001b[1;34m(tensors, grad_tensors, retain_graph, create_graph, grad_variables, inputs)\u001b[0m\n\u001b[0;32m    284\u001b[0m     retain_graph \u001b[38;5;241m=\u001b[39m create_graph\n\u001b[0;32m    286\u001b[0m \u001b[38;5;66;03m# The reason we repeat the same comment below is that\u001b[39;00m\n\u001b[0;32m    287\u001b[0m \u001b[38;5;66;03m# some Python versions print out the first line of a multi-line function\u001b[39;00m\n\u001b[0;32m    288\u001b[0m \u001b[38;5;66;03m# calls in the traceback and some print out the last line\u001b[39;00m\n\u001b[1;32m--> 289\u001b[0m _engine_run_backward(\n\u001b[0;32m    290\u001b[0m     tensors,\n\u001b[0;32m    291\u001b[0m     grad_tensors_,\n\u001b[0;32m    292\u001b[0m     retain_graph,\n\u001b[0;32m    293\u001b[0m     create_graph,\n\u001b[0;32m    294\u001b[0m     inputs,\n\u001b[0;32m    295\u001b[0m     allow_unreachable\u001b[38;5;241m=\u001b[39m\u001b[38;5;28;01mTrue\u001b[39;00m,\n\u001b[0;32m    296\u001b[0m     accumulate_grad\u001b[38;5;241m=\u001b[39m\u001b[38;5;28;01mTrue\u001b[39;00m,\n\u001b[0;32m    297\u001b[0m )\n",
      "File \u001b[1;32m~\\anaconda3\\envs\\public_talks\\Lib\\site-packages\\torch\\autograd\\graph.py:769\u001b[0m, in \u001b[0;36m_engine_run_backward\u001b[1;34m(t_outputs, *args, **kwargs)\u001b[0m\n\u001b[0;32m    767\u001b[0m     unregister_hooks \u001b[38;5;241m=\u001b[39m _register_logging_hooks_on_whole_graph(t_outputs)\n\u001b[0;32m    768\u001b[0m \u001b[38;5;28;01mtry\u001b[39;00m:\n\u001b[1;32m--> 769\u001b[0m     \u001b[38;5;28;01mreturn\u001b[39;00m Variable\u001b[38;5;241m.\u001b[39m_execution_engine\u001b[38;5;241m.\u001b[39mrun_backward(  \u001b[38;5;66;03m# Calls into the C++ engine to run the backward pass\u001b[39;00m\n\u001b[0;32m    770\u001b[0m         t_outputs, \u001b[38;5;241m*\u001b[39margs, \u001b[38;5;241m*\u001b[39m\u001b[38;5;241m*\u001b[39mkwargs\n\u001b[0;32m    771\u001b[0m     )  \u001b[38;5;66;03m# Calls into the C++ engine to run the backward pass\u001b[39;00m\n\u001b[0;32m    772\u001b[0m \u001b[38;5;28;01mfinally\u001b[39;00m:\n\u001b[0;32m    773\u001b[0m     \u001b[38;5;28;01mif\u001b[39;00m attach_logging_hooks:\n",
      "\u001b[1;31mKeyboardInterrupt\u001b[0m: "
     ]
    }
   ],
   "source": [
    "# Training loop\n",
    "for epoch in range(num_epochs):\n",
    "    for batch in dataloader: # batch is (batch_size, time_steps, features)\n",
    "        # Generate fake signal\n",
    "        noise = torch.randn(batch_size, 1, z_dim)  # Shape: (batch_size, seq_length, z_dim)\n",
    "        generated_signal = generator(noise)\n",
    "        # reshape for descriminator to accept Shape: (batch_size, seq_length, z_dim)\n",
    "        generated_signal = torch.reshape(generated_signal, (batch_size,1, signal_length))\n",
    "        # Create labels\n",
    "        real_labels = torch.ones(batch.size(0), 1)\n",
    "        fake_labels = torch.zeros(batch.size(0), 1)\n",
    "\n",
    "        # Train the discriminator\n",
    "        discriminator.zero_grad()\n",
    "        t = torch.reshape(batch, (batch_size,1, signal_length))\n",
    "        real_output = discriminator(t)  # Use the real audio batch\n",
    "        real_loss = criterion(real_output, real_labels)\n",
    "        fake_output = discriminator(generated_signal.detach())  # Use the generated signal\n",
    "        fake_loss = criterion(fake_output, fake_labels)\n",
    "        d_loss = real_loss + fake_loss\n",
    "        d_loss.backward()\n",
    "        d_optimizer.step()\n",
    "\n",
    "        # Train the generator\n",
    "        generator.zero_grad()\n",
    "        fake_output = discriminator(generated_signal.detach())  # Use the generated signal\n",
    "        g_loss = criterion(fake_output, real_labels)\n",
    "        g_loss.backward()\n",
    "        g_optimizer.step()\n",
    "\n",
    "    #if epoch % 100 == 0:\n",
    "        print(f'Epoch: {epoch}, Generator Loss: {g_loss.item()}, Discriminator Loss: {d_loss.item()}')"
   ]
  },
  {
   "cell_type": "markdown",
   "id": "57644ffc-a3cd-4c79-9f9d-b31b73d11ec5",
   "metadata": {},
   "source": [
    "## Generate new signals after training"
   ]
  },
  {
   "cell_type": "code",
   "execution_count": 100,
   "id": "cab179bd-46b1-47e1-aea2-8b8f954071d0",
   "metadata": {},
   "outputs": [
    {
     "name": "stdout",
     "output_type": "stream",
     "text": [
      "(44100,)\n"
     ]
    },
    {
     "data": {
      "image/png": "[encoded data removed]",
      "text/plain": [
       "<Figure size 1200x600 with 1 Axes>"
      ]
     },
     "metadata": {},
     "output_type": "display_data"
    }
   ],
   "source": [
    "# Set the generator to evaluation mode\n",
    "generator.eval()\n",
    "# Generate and visualize a sample output\n",
    "with torch.no_grad():\n",
    "    noise = torch.randn(1, 1, z_dim)  # Shape: (batch_size, seq_length, z_dim)\n",
    "    generated_audio = generator(noise).detach().numpy().flatten()\n",
    "print(generated_audio.shape)\n",
    "# Plot the generated audio signal\n",
    "plt.figure(figsize=(12, 6))\n",
    "plt.plot(generated_audio, label='Generated Audio Signal', alpha=0.5)\n",
    "plt.title('Generated Audio Signal')\n",
    "plt.xlabel('Sample Index')\n",
    "plt.ylabel('Amplitude')\n",
    "plt.legend()\n",
    "plt.show()"
   ]
  },
  {
   "cell_type": "code",
   "execution_count": 39,
   "id": "39a806b2-88ea-4001-8361-fc18b9869dd7",
   "metadata": {},
   "outputs": [],
   "source": [
    "# saving the output\n",
    "np.save('generated/generated.npy', generated_audio)\n",
    "from scipy.io.wavfile import write\n",
    "\n",
    "# Assuming the array values are in the range of int16 for WAV format\n",
    "# Scale the array if necessary\n",
    "generated_audio = np.int16(generated_audio / np.max(np.abs(generated_audio)) * 32767)\n",
    "\n",
    "# Save the array as a WAV file\n",
    "write('generated/generated.wav', sample_rate, generated_audio) "
   ]
  },
  {
   "cell_type": "code",
   "execution_count": null,
   "id": "02b58b06-67d3-4aba-a453-40aa5f36de68",
   "metadata": {},
   "outputs": [],
   "source": []
  }
 ],
 "metadata": {
  "kernelspec": {
   "display_name": "Python 3 (ipykernel)",
   "language": "python",
   "name": "python3"
  },
  "language_info": {
   "codemirror_mode": {
    "name": "ipython",
    "version": 3
   },
   "file_extension": ".py",
   "mimetype": "text/x-python",
   "name": "python",
   "nbconvert_exporter": "python",
   "pygments_lexer": "ipython3",
   "version": "3.12.4"
  }
 },
 "nbformat": 4,
 "nbformat_minor": 5
}
