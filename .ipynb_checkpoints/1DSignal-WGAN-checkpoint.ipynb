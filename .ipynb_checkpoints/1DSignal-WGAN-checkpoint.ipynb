{
 "cells": [
  {
   "cell_type": "markdown",
   "id": "ba1c536e-1467-475b-b496-4f3a72015d03",
   "metadata": {},
   "source": [
    "# Create a 1D signal GAN for voice recorded signals\n",
    "## Use a very basic GAN architecture that works with a single dimension (1D array)"
   ]
  },
  {
   "cell_type": "code",
   "execution_count": 12,
   "id": "d5ced4fc-361e-4c0a-ae7f-bdf579ae48c7",
   "metadata": {},
   "outputs": [],
   "source": [
    "import sounddevice as sd\n",
    "import numpy as np\n",
    "import torch\n",
    "import torch.nn as nn\n",
    "from torch.utils.data import Dataset, DataLoader\n",
    "import matplotlib.pyplot as plt\n",
    "import ipywidgets as widgets\n",
    "from IPython.display import display, Audio\n",
    "from scipy.io.wavfile import write\n",
    "import os\n",
    "import torch.nn.functional as F\n"
   ]
  },
  {
   "cell_type": "markdown",
   "id": "2427dc01-db52-474a-879f-11abc0f3ed31",
   "metadata": {},
   "source": [
    "# Lets setup some basic configurations"
   ]
  },
  {
   "cell_type": "code",
   "execution_count": 13,
   "id": "ba5b5c63-85bc-4629-a290-6b13e61d4c7f",
   "metadata": {},
   "outputs": [],
   "source": [
    "sample_rate = 48000\n",
    "duration = 1  # 2 seconds\n",
    "signal_length = sample_rate * duration"
   ]
  },
  {
   "cell_type": "markdown",
   "id": "57b9581b-3404-4b8a-9660-55d6716ddc20",
   "metadata": {},
   "source": [
    "## Define the Generator class"
   ]
  },
  {
   "cell_type": "code",
   "execution_count": 14,
   "id": "0ff2fd89-8f77-44e3-be8c-80eab119a20c",
   "metadata": {},
   "outputs": [],
   "source": [
    "class Generator(nn.Module):\n",
    "    def __init__(self, latent_dim=8, out_dim=1024):\n",
    "        super(Generator, self).__init__()\n",
    "        self.model = nn.Sequential(\n",
    "            nn.Linear(latent_dim, 128),\n",
    "            nn.LeakyReLU(0.2, inplace=True),\n",
    "            nn.Linear(128, 256),\n",
    "            nn.LeakyReLU(0.2, inplace=True),\n",
    "            nn.Linear(256, 512),\n",
    "            nn.LeakyReLU(0.2, inplace=True),\n",
    "            nn.Linear(512, 1024),\n",
    "            nn.LeakyReLU(0.2, inplace=True),\n",
    "            nn.Linear(1024, out_dim),\n",
    "            nn.Tanh()\n",
    "        )\n",
    "\n",
    "    def forward(self, z):\n",
    "        return self.model(z)"
   ]
  },
  {
   "cell_type": "markdown",
   "id": "0bb858d0-bd76-4dbd-8925-9921343dfec3",
   "metadata": {},
   "source": [
    "## Define the Discriminator class"
   ]
  },
  {
   "cell_type": "code",
   "execution_count": 15,
   "id": "ff7129ce-317b-4855-8983-5a9275cef1c7",
   "metadata": {},
   "outputs": [],
   "source": [
    "class Discriminator(nn.Module):\n",
    "    def __init__(self, in_dim=1024):\n",
    "        super(Discriminator, self).__init__()\n",
    "        self.model = nn.Sequential(\n",
    "            nn.Linear(in_dim, 128),\n",
    "            nn.LeakyReLU(0.2, inplace=True),\n",
    "            nn.Linear(128, 1),\n",
    "            nn.Sigmoid()\n",
    "        )\n",
    "\n",
    "    def forward(self, x):\n",
    "        return self.model(x)"
   ]
  },
  {
   "cell_type": "markdown",
   "id": "3b938569-5c74-48f4-ba33-e8728e29c867",
   "metadata": {},
   "source": [
    "## Custom dataset class for voice signals"
   ]
  },
  {
   "cell_type": "code",
   "execution_count": 16,
   "id": "260d1e41-e99c-42b5-9fc4-bb68d477aee5",
   "metadata": {},
   "outputs": [],
   "source": [
    "class AudioDataset(Dataset):\n",
    "    def __init__(self, data_dir, sample_rate=22050, duration=2):\n",
    "        self.data_dir = data_dir\n",
    "        self.sample_rate = sample_rate\n",
    "        self.duration = duration\n",
    "        self.files = [f for f in os.listdir(data_dir) if f.endswith('.npy')]  # Only .npy files\n",
    "\n",
    "    def __len__(self):\n",
    "        return len(self.files)\n",
    "\n",
    "    def __getitem__(self, idx):\n",
    "        file_path = os.path.join(self.data_dir, self.files[idx])\n",
    "        # Load numpy array\n",
    "        waveform = np.load(file_path)\n",
    "        # Ensure the audio is 2 seconds long\n",
    "        target_length = self.sample_rate * self.duration\n",
    "        if waveform.size < target_length:\n",
    "            # Pad the waveform if it's shorter than 2 seconds\n",
    "            waveform = np.pad(waveform, (0, target_length - waveform.size), mode='constant')\n",
    "        else:\n",
    "            # Trim the waveform if it's longer than duration\n",
    "            waveform = waveform[:target_length]\n",
    "        waveform = waveform.astype(np.float32)\n",
    "        waveform = (waveform - min(waveform)) / (max(waveform) - min(waveform)) * 2 - 1 \n",
    "        waveform = waveform/np.max(waveform)\n",
    "        return torch.tensor(waveform,dtype=torch.float32)  # Convert to tensor\n"
   ]
  },
  {
   "cell_type": "markdown",
   "id": "62f3879f-d9ac-473c-9f17-00b28d4fb39b",
   "metadata": {},
   "source": [
    "## Prepare the dataset for training the GAN"
   ]
  },
  {
   "cell_type": "code",
   "execution_count": 17,
   "id": "1a497c63-9f08-48d9-9069-11c63d3d7e3f",
   "metadata": {},
   "outputs": [
    {
     "name": "stdout",
     "output_type": "stream",
     "text": [
      "30000\n"
     ]
    }
   ],
   "source": [
    "# Create the dataset and dataloader\n",
    "batch_size = 128\n",
    "dataset = AudioDataset('audioMNIST/', sample_rate, duration)\n",
    "dataloader = DataLoader(dataset, batch_size=batch_size, shuffle=True)\n",
    "print(len(dataset))"
   ]
  },
  {
   "cell_type": "code",
   "execution_count": 18,
   "id": "bdfeb0bd-8179-4d02-9f4e-9b8110ae5b0f",
   "metadata": {},
   "outputs": [
    {
     "name": "stdout",
     "output_type": "stream",
     "text": [
      "tensor([0.1116, 0.1095, 0.1116,  ..., 0.1201, 0.1201, 0.1201])\n"
     ]
    },
    {
     "data": {
      "image/png": "[encoded data removed]",
      "text/plain": [
       "<Figure size 1200x600 with 1 Axes>"
      ]
     },
     "metadata": {},
     "output_type": "display_data"
    }
   ],
   "source": [
    "# plot the signal \n",
    "for batch in dataloader:\n",
    "    # Plot the generated audio signal\n",
    "    plt.figure(figsize=(12, 6))\n",
    "    print(batch[0])\n",
    "    plt.plot(batch[0], label='Generated Audio Signal', alpha=0.5)\n",
    "    plt.title('Generated Audio Signal')\n",
    "    plt.xlabel('Sample Index')\n",
    "    plt.ylabel('Amplitude')\n",
    "    plt.legend()\n",
    "    plt.show()\n",
    "    break"
   ]
  },
  {
   "cell_type": "markdown",
   "id": "9e873b18-a081-4772-b424-835cc4751744",
   "metadata": {},
   "source": [
    "## Initialize the generator and discriminator"
   ]
  },
  {
   "cell_type": "code",
   "execution_count": 19,
   "id": "7e979f70-b32e-417b-9b77-b09f94515a31",
   "metadata": {},
   "outputs": [],
   "source": [
    "# Set up the GAN\n",
    "device = torch.device('cuda' if torch.cuda.is_available() else 'cpu')\n",
    "# Hyperparameters\n",
    "latent_dim = 128\n",
    "lr = 0.0005\n",
    "b1 = 0.1\n",
    "b2 = 0.075\n",
    "num_epochs = 10\n",
    "# Initialize generator and discriminator\n",
    "generator = Generator(latent_dim=latent_dim,out_dim= signal_length)\n",
    "discriminator = Discriminator(in_dim=signal_length)"
   ]
  },
  {
   "cell_type": "markdown",
   "id": "88dfe567-7e87-4aed-b32e-9442593c11ef",
   "metadata": {},
   "source": [
    "## Define the loss function and optimizers"
   ]
  },
  {
   "cell_type": "code",
   "execution_count": 20,
   "id": "02afb570-d1ee-4dfd-be1e-7feb821cae38",
   "metadata": {},
   "outputs": [],
   "source": [
    "criterion = nn.BCELoss()\n",
    "g_optimizer = torch.optim.SGD(generator.parameters(), lr=lr, momentum=0.9)\n",
    "d_optimizer = torch.optim.SGD(discriminator.parameters(), lr=lr, momentum=0.9)\n",
    "num_epochs = 10"
   ]
  },
  {
   "cell_type": "code",
   "execution_count": 21,
   "id": "2686e1df-fd98-4e33-af9a-f46a140527da",
   "metadata": {},
   "outputs": [],
   "source": [
    "from torch.autograd import Variable\n",
    "def compute_gradient_penalty(D, real_samples, fake_samples):\n",
    "    \"\"\"Calculates the gradient penalty loss for WGAN GP\"\"\"\n",
    "    # Random weight term for interpolation between real and fake samples\n",
    "    alpha = torch.rand(1)\n",
    "    # Scale to the range [-1, 1)\n",
    "    alpha = alpha * 2 - 1\n",
    "    # Get random interpolation between real and fake samples\n",
    "    interpolates = (alpha * real_samples + ((1 - alpha) * fake_samples)).requires_grad_(True)\n",
    "    d_interpolates = D(interpolates)\n",
    "    fake = Variable(torch.Tensor(real_samples.shape[0], 1).fill_(1.0), requires_grad=False)\n",
    "    # Get gradient w.r.t. interpolates\n",
    "    gradients = torch.autograd.grad(\n",
    "        outputs=d_interpolates,\n",
    "        inputs=interpolates,\n",
    "        grad_outputs=fake,\n",
    "        create_graph=True,\n",
    "        retain_graph=True,\n",
    "        only_inputs=True,\n",
    "    )[0]\n",
    "    gradients = gradients.view(gradients.size(0), -1)\n",
    "    gradient_penalty = ((gradients.norm(2, dim=1) - 1) ** 2).mean()\n",
    "    return gradient_penalty"
   ]
  },
  {
   "cell_type": "markdown",
   "id": "831c1eb9-89da-4ef0-8c8e-d3c49ceffebe",
   "metadata": {},
   "source": [
    "## Training the GAN"
   ]
  },
  {
   "cell_type": "code",
   "execution_count": 22,
   "id": "8be1a492-5405-4df7-9a52-87a83b8a2be8",
   "metadata": {},
   "outputs": [
    {
     "name": "stdout",
     "output_type": "stream",
     "text": [
      "Epoch: 0, Generator Loss: -0.49733468890190125, Discriminator Loss: 0.2580731511116028\n",
      "Epoch: 0, Generator Loss: -0.4972798228263855, Discriminator Loss: 0.29157203435897827\n",
      "Epoch: 0, Generator Loss: -0.4972279667854309, Discriminator Loss: 0.29186558723449707\n",
      "Epoch: 0, Generator Loss: -0.4971266984939575, Discriminator Loss: 0.2915753722190857\n",
      "Epoch: 0, Generator Loss: -0.49708908796310425, Discriminator Loss: 0.29171568155288696\n",
      "Epoch: 0, Generator Loss: -0.49702319502830505, Discriminator Loss: 0.2917402386665344\n",
      "Epoch: 0, Generator Loss: -0.49694305658340454, Discriminator Loss: 0.29135313630104065\n",
      "Epoch: 0, Generator Loss: -0.4968758523464203, Discriminator Loss: 0.29121217131614685\n",
      "Epoch: 0, Generator Loss: -0.4967593550682068, Discriminator Loss: 0.2911076843738556\n",
      "Epoch: 0, Generator Loss: -0.4966984987258911, Discriminator Loss: 0.29138898849487305\n",
      "Epoch: 0, Generator Loss: -0.49661797285079956, Discriminator Loss: 0.29111939668655396\n",
      "Epoch: 0, Generator Loss: -0.4965483844280243, Discriminator Loss: 0.2905171513557434\n",
      "Epoch: 0, Generator Loss: -0.4964211583137512, Discriminator Loss: 0.29045623540878296\n",
      "Epoch: 0, Generator Loss: -0.49631214141845703, Discriminator Loss: 0.2905356287956238\n",
      "Epoch: 0, Generator Loss: -0.49622175097465515, Discriminator Loss: 0.29015421867370605\n",
      "Epoch: 0, Generator Loss: -0.49611228704452515, Discriminator Loss: 0.2903684079647064\n",
      "Epoch: 0, Generator Loss: -0.4960586726665497, Discriminator Loss: 0.2894458472728729\n",
      "Epoch: 0, Generator Loss: -0.4960041046142578, Discriminator Loss: 0.2899538278579712\n",
      "Epoch: 0, Generator Loss: -0.4959338307380676, Discriminator Loss: 0.2891494929790497\n",
      "Epoch: 0, Generator Loss: -0.4957836866378784, Discriminator Loss: 0.2896091639995575\n",
      "Epoch: 0, Generator Loss: -0.49572494626045227, Discriminator Loss: 0.28933507204055786\n",
      "Epoch: 0, Generator Loss: -0.495551198720932, Discriminator Loss: 0.2886436879634857\n",
      "Epoch: 0, Generator Loss: -0.49549219012260437, Discriminator Loss: 0.28889524936676025\n",
      "Epoch: 0, Generator Loss: -0.4954346716403961, Discriminator Loss: 0.28849339485168457\n",
      "Epoch: 0, Generator Loss: -0.49526405334472656, Discriminator Loss: 0.28849348425865173\n",
      "Epoch: 0, Generator Loss: -0.49522578716278076, Discriminator Loss: 0.28836435079574585\n",
      "Epoch: 0, Generator Loss: -0.4950628876686096, Discriminator Loss: 0.28794971108436584\n",
      "Epoch: 0, Generator Loss: -0.4949858486652374, Discriminator Loss: 0.2887139320373535\n",
      "Epoch: 0, Generator Loss: -0.4949749708175659, Discriminator Loss: 0.2876918911933899\n",
      "Epoch: 0, Generator Loss: -0.4947669804096222, Discriminator Loss: 0.2879897952079773\n",
      "Epoch: 0, Generator Loss: -0.4946867823600769, Discriminator Loss: 0.2873140573501587\n",
      "Epoch: 0, Generator Loss: -0.4945915937423706, Discriminator Loss: 0.28703153133392334\n",
      "Epoch: 0, Generator Loss: -0.49451252818107605, Discriminator Loss: 0.28682008385658264\n",
      "Epoch: 0, Generator Loss: -0.49445396661758423, Discriminator Loss: 0.2866615355014801\n",
      "Epoch: 0, Generator Loss: -0.49432623386383057, Discriminator Loss: 0.2865726053714752\n",
      "Epoch: 0, Generator Loss: -0.49412453174591064, Discriminator Loss: 0.28627917170524597\n",
      "Epoch: 0, Generator Loss: -0.4940970838069916, Discriminator Loss: 0.28553271293640137\n",
      "Epoch: 0, Generator Loss: -0.4939802885055542, Discriminator Loss: 0.2870802879333496\n",
      "Epoch: 0, Generator Loss: -0.49390748143196106, Discriminator Loss: 0.28569236397743225\n",
      "Epoch: 0, Generator Loss: -0.4938304126262665, Discriminator Loss: 0.28458794951438904\n",
      "Epoch: 0, Generator Loss: -0.49365782737731934, Discriminator Loss: 0.2852637469768524\n",
      "Epoch: 0, Generator Loss: -0.4936719834804535, Discriminator Loss: 0.2841763198375702\n",
      "Epoch: 0, Generator Loss: -0.4934915006160736, Discriminator Loss: 0.2847544848918915\n",
      "Epoch: 0, Generator Loss: -0.49350303411483765, Discriminator Loss: 0.2839932441711426\n",
      "Epoch: 0, Generator Loss: -0.49325859546661377, Discriminator Loss: 0.28453195095062256\n",
      "Epoch: 0, Generator Loss: -0.4931795597076416, Discriminator Loss: 0.2833729684352875\n",
      "Epoch: 0, Generator Loss: -0.49308356642723083, Discriminator Loss: 0.2849162817001343\n",
      "Epoch: 0, Generator Loss: -0.4929681122303009, Discriminator Loss: 0.28261035680770874\n",
      "Epoch: 0, Generator Loss: -0.49282100796699524, Discriminator Loss: 0.28248587250709534\n",
      "Epoch: 0, Generator Loss: -0.4928179383277893, Discriminator Loss: 0.282962828874588\n",
      "Epoch: 0, Generator Loss: -0.49259841442108154, Discriminator Loss: 0.2836448848247528\n",
      "Epoch: 0, Generator Loss: -0.49265921115875244, Discriminator Loss: 0.28316521644592285\n",
      "Epoch: 0, Generator Loss: -0.492529034614563, Discriminator Loss: 0.283618301153183\n",
      "Epoch: 0, Generator Loss: -0.49242860078811646, Discriminator Loss: 0.28124162554740906\n",
      "Epoch: 0, Generator Loss: -0.49230170249938965, Discriminator Loss: 0.2824053168296814\n",
      "Epoch: 0, Generator Loss: -0.4922446012496948, Discriminator Loss: 0.2834208905696869\n",
      "Epoch: 0, Generator Loss: -0.49210402369499207, Discriminator Loss: 0.2827785015106201\n",
      "Epoch: 0, Generator Loss: -0.4921272099018097, Discriminator Loss: 0.2821049988269806\n",
      "Epoch: 0, Generator Loss: -0.4920634329319, Discriminator Loss: 0.2801181375980377\n",
      "Epoch: 0, Generator Loss: -0.4918258786201477, Discriminator Loss: 0.28077346086502075\n",
      "Epoch: 0, Generator Loss: -0.4918546676635742, Discriminator Loss: 0.2801879346370697\n",
      "Epoch: 0, Generator Loss: -0.491699755191803, Discriminator Loss: 0.2817234396934509\n",
      "Epoch: 0, Generator Loss: -0.49159377813339233, Discriminator Loss: 0.2795393764972687\n",
      "Epoch: 0, Generator Loss: -0.49146968126296997, Discriminator Loss: 0.2812240421772003\n",
      "Epoch: 0, Generator Loss: -0.49141353368759155, Discriminator Loss: 0.27834799885749817\n",
      "Epoch: 0, Generator Loss: -0.4912753701210022, Discriminator Loss: 0.2790850102901459\n",
      "Epoch: 0, Generator Loss: -0.4911487102508545, Discriminator Loss: 0.2793270945549011\n",
      "Epoch: 0, Generator Loss: -0.4911118745803833, Discriminator Loss: 0.27764785289764404\n",
      "Epoch: 0, Generator Loss: -0.4909459948539734, Discriminator Loss: 0.27855002880096436\n",
      "Epoch: 0, Generator Loss: -0.49094998836517334, Discriminator Loss: 0.27734488248825073\n",
      "Epoch: 0, Generator Loss: -0.4907169044017792, Discriminator Loss: 0.2776389718055725\n",
      "Epoch: 0, Generator Loss: -0.4906882047653198, Discriminator Loss: 0.27772849798202515\n",
      "Epoch: 0, Generator Loss: -0.49059224128723145, Discriminator Loss: 0.279154896736145\n",
      "Epoch: 0, Generator Loss: -0.4905690550804138, Discriminator Loss: 0.277150958776474\n",
      "Epoch: 0, Generator Loss: -0.49038612842559814, Discriminator Loss: 0.27860864996910095\n",
      "Epoch: 0, Generator Loss: -0.4903154969215393, Discriminator Loss: 0.2749089002609253\n",
      "Epoch: 0, Generator Loss: -0.49009373784065247, Discriminator Loss: 0.274762362241745\n",
      "Epoch: 0, Generator Loss: -0.49010759592056274, Discriminator Loss: 0.2771485447883606\n",
      "Epoch: 0, Generator Loss: -0.49008339643478394, Discriminator Loss: 0.27612873911857605\n",
      "Epoch: 0, Generator Loss: -0.4899105131626129, Discriminator Loss: 0.2774489223957062\n",
      "Epoch: 0, Generator Loss: -0.48984700441360474, Discriminator Loss: 0.2763279378414154\n",
      "Epoch: 0, Generator Loss: -0.4898312985897064, Discriminator Loss: 0.2751561999320984\n",
      "Epoch: 0, Generator Loss: -0.4895924925804138, Discriminator Loss: 0.2751772403717041\n",
      "Epoch: 0, Generator Loss: -0.48952844738960266, Discriminator Loss: 0.2757669687271118\n",
      "Epoch: 0, Generator Loss: -0.489480584859848, Discriminator Loss: 0.2754076421260834\n",
      "Epoch: 0, Generator Loss: -0.4892041087150574, Discriminator Loss: 0.2760651111602783\n",
      "Epoch: 0, Generator Loss: -0.4890270233154297, Discriminator Loss: 0.27590814232826233\n",
      "Epoch: 0, Generator Loss: -0.48914003372192383, Discriminator Loss: 0.27477097511291504\n",
      "Epoch: 0, Generator Loss: -0.48891380429267883, Discriminator Loss: 0.2733674943447113\n",
      "Epoch: 0, Generator Loss: -0.48906129598617554, Discriminator Loss: 0.2737400531768799\n",
      "Epoch: 0, Generator Loss: -0.4889134168624878, Discriminator Loss: 0.27383580803871155\n",
      "Epoch: 0, Generator Loss: -0.4887959063053131, Discriminator Loss: 0.27380871772766113\n",
      "Epoch: 0, Generator Loss: -0.48876866698265076, Discriminator Loss: 0.27344992756843567\n",
      "Epoch: 0, Generator Loss: -0.4885881841182709, Discriminator Loss: 0.2747800350189209\n",
      "Epoch: 0, Generator Loss: -0.4885663688182831, Discriminator Loss: 0.2723334729671478\n",
      "Epoch: 0, Generator Loss: -0.4883926808834076, Discriminator Loss: 0.27168941497802734\n",
      "Epoch: 0, Generator Loss: -0.488301545381546, Discriminator Loss: 0.27153128385543823\n",
      "Epoch: 0, Generator Loss: -0.4881815016269684, Discriminator Loss: 0.272367000579834\n",
      "Epoch: 0, Generator Loss: -0.4881594181060791, Discriminator Loss: 0.2691390812397003\n",
      "Epoch: 0, Generator Loss: -0.48801061511039734, Discriminator Loss: 0.26961058378219604\n",
      "Epoch: 0, Generator Loss: -0.48789462447166443, Discriminator Loss: 0.27271029353141785\n",
      "Epoch: 0, Generator Loss: -0.4876568615436554, Discriminator Loss: 0.2720522880554199\n",
      "Epoch: 0, Generator Loss: -0.487711638212204, Discriminator Loss: 0.2663045823574066\n",
      "Epoch: 0, Generator Loss: -0.4875965118408203, Discriminator Loss: 0.2705639898777008\n",
      "Epoch: 0, Generator Loss: -0.48756852746009827, Discriminator Loss: 0.26866769790649414\n",
      "Epoch: 0, Generator Loss: -0.4876595139503479, Discriminator Loss: 0.2684051990509033\n",
      "Epoch: 0, Generator Loss: -0.4871568977832794, Discriminator Loss: 0.267576664686203\n",
      "Epoch: 0, Generator Loss: -0.48731258511543274, Discriminator Loss: 0.2730787992477417\n",
      "Epoch: 0, Generator Loss: -0.4870128929615021, Discriminator Loss: 0.2649171054363251\n",
      "Epoch: 0, Generator Loss: -0.4870055913925171, Discriminator Loss: 0.2690744698047638\n",
      "Epoch: 0, Generator Loss: -0.4869157671928406, Discriminator Loss: 0.2698804438114166\n",
      "Epoch: 0, Generator Loss: -0.48665183782577515, Discriminator Loss: 0.26918643712997437\n",
      "Epoch: 0, Generator Loss: -0.48657262325286865, Discriminator Loss: 0.26789918541908264\n",
      "Epoch: 0, Generator Loss: -0.4868088364601135, Discriminator Loss: 0.2694430351257324\n",
      "Epoch: 0, Generator Loss: -0.4867429733276367, Discriminator Loss: 0.2653573453426361\n",
      "Epoch: 0, Generator Loss: -0.48634299635887146, Discriminator Loss: 0.26635074615478516\n",
      "Epoch: 0, Generator Loss: -0.48636719584465027, Discriminator Loss: 0.2685716450214386\n",
      "Epoch: 0, Generator Loss: -0.4861672818660736, Discriminator Loss: 0.26611626148223877\n",
      "Epoch: 0, Generator Loss: -0.48618215322494507, Discriminator Loss: 0.26538020372390747\n",
      "Epoch: 0, Generator Loss: -0.48604148626327515, Discriminator Loss: 0.2644151449203491\n",
      "Epoch: 0, Generator Loss: -0.4859731197357178, Discriminator Loss: 0.261798232793808\n",
      "Epoch: 0, Generator Loss: -0.4858257472515106, Discriminator Loss: 0.2670297920703888\n",
      "Epoch: 0, Generator Loss: -0.4858100116252899, Discriminator Loss: 0.2621786594390869\n",
      "Epoch: 0, Generator Loss: -0.48583972454071045, Discriminator Loss: 0.2678331434726715\n",
      "Epoch: 0, Generator Loss: -0.4854469895362854, Discriminator Loss: 0.2637825906276703\n",
      "Epoch: 0, Generator Loss: -0.48529157042503357, Discriminator Loss: 0.26522278785705566\n",
      "Epoch: 0, Generator Loss: -0.4851333200931549, Discriminator Loss: 0.2664176821708679\n",
      "Epoch: 0, Generator Loss: -0.4851115643978119, Discriminator Loss: 0.26013052463531494\n",
      "Epoch: 0, Generator Loss: -0.48548829555511475, Discriminator Loss: 0.26848170161247253\n",
      "Epoch: 0, Generator Loss: -0.4850013852119446, Discriminator Loss: 0.2650725543498993\n",
      "Epoch: 0, Generator Loss: -0.4848829507827759, Discriminator Loss: 0.2621515691280365\n",
      "Epoch: 0, Generator Loss: -0.4848129451274872, Discriminator Loss: 0.25605884194374084\n",
      "Epoch: 0, Generator Loss: -0.4848383069038391, Discriminator Loss: 0.261840283870697\n",
      "Epoch: 0, Generator Loss: -0.4846228361129761, Discriminator Loss: 0.2607128322124481\n",
      "Epoch: 0, Generator Loss: -0.4844657778739929, Discriminator Loss: 0.26109641790390015\n",
      "Epoch: 0, Generator Loss: -0.4845242500305176, Discriminator Loss: 0.262703001499176\n",
      "Epoch: 0, Generator Loss: -0.48440060019493103, Discriminator Loss: 0.25974664092063904\n",
      "Epoch: 0, Generator Loss: -0.484294056892395, Discriminator Loss: 0.2592068612575531\n",
      "Epoch: 0, Generator Loss: -0.4839998185634613, Discriminator Loss: 0.2613034248352051\n",
      "Epoch: 0, Generator Loss: -0.4843371510505676, Discriminator Loss: 0.259307861328125\n",
      "Epoch: 0, Generator Loss: -0.4839208722114563, Discriminator Loss: 0.25885820388793945\n",
      "Epoch: 0, Generator Loss: -0.483994722366333, Discriminator Loss: 0.2607608139514923\n"
     ]
    },
    {
     "ename": "KeyboardInterrupt",
     "evalue": "",
     "output_type": "error",
     "traceback": [
      "\u001b[1;31m---------------------------------------------------------------------------\u001b[0m",
      "\u001b[1;31mKeyboardInterrupt\u001b[0m                         Traceback (most recent call last)",
      "Cell \u001b[1;32mIn[22], line 8\u001b[0m\n\u001b[0;32m      6\u001b[0m \u001b[38;5;66;03m# Training loop\u001b[39;00m\n\u001b[0;32m      7\u001b[0m \u001b[38;5;28;01mfor\u001b[39;00m epoch \u001b[38;5;129;01min\u001b[39;00m \u001b[38;5;28mrange\u001b[39m(num_epochs):\n\u001b[1;32m----> 8\u001b[0m     \u001b[38;5;28;01mfor\u001b[39;00m real_samples \u001b[38;5;129;01min\u001b[39;00m dataloader: \u001b[38;5;66;03m# batch is (batch_size, time_steps, features)\u001b[39;00m\n\u001b[0;32m      9\u001b[0m         \u001b[38;5;66;03m# Train the discriminator\u001b[39;00m\n\u001b[0;32m     10\u001b[0m         \u001b[38;5;66;03m# Generate fake signal\u001b[39;00m\n\u001b[0;32m     11\u001b[0m         z \u001b[38;5;241m=\u001b[39m  (\u001b[38;5;241m-\u001b[39m\u001b[38;5;241m2.0\u001b[39m)\u001b[38;5;241m*\u001b[39m(torch\u001b[38;5;241m.\u001b[39mrandn(real_samples\u001b[38;5;241m.\u001b[39msize(\u001b[38;5;241m0\u001b[39m), latent_dim))\u001b[38;5;241m-\u001b[39m\u001b[38;5;241m1.0\u001b[39m\n\u001b[0;32m     12\u001b[0m         fake_samples \u001b[38;5;241m=\u001b[39m generator(z)\u001b[38;5;241m.\u001b[39mdetach() \u001b[38;5;66;03m# gradient wouldn't be passed down\u001b[39;00m\n",
      "File \u001b[1;32m~\\anaconda3\\envs\\public_talks\\Lib\\site-packages\\torch\\utils\\data\\dataloader.py:630\u001b[0m, in \u001b[0;36m_BaseDataLoaderIter.__next__\u001b[1;34m(self)\u001b[0m\n\u001b[0;32m    627\u001b[0m \u001b[38;5;28;01mif\u001b[39;00m \u001b[38;5;28mself\u001b[39m\u001b[38;5;241m.\u001b[39m_sampler_iter \u001b[38;5;129;01mis\u001b[39;00m \u001b[38;5;28;01mNone\u001b[39;00m:\n\u001b[0;32m    628\u001b[0m     \u001b[38;5;66;03m# TODO(https://github.com/pytorch/pytorch/issues/76750)\u001b[39;00m\n\u001b[0;32m    629\u001b[0m     \u001b[38;5;28mself\u001b[39m\u001b[38;5;241m.\u001b[39m_reset()  \u001b[38;5;66;03m# type: ignore[call-arg]\u001b[39;00m\n\u001b[1;32m--> 630\u001b[0m data \u001b[38;5;241m=\u001b[39m \u001b[38;5;28mself\u001b[39m\u001b[38;5;241m.\u001b[39m_next_data()\n\u001b[0;32m    631\u001b[0m \u001b[38;5;28mself\u001b[39m\u001b[38;5;241m.\u001b[39m_num_yielded \u001b[38;5;241m+\u001b[39m\u001b[38;5;241m=\u001b[39m \u001b[38;5;241m1\u001b[39m\n\u001b[0;32m    632\u001b[0m \u001b[38;5;28;01mif\u001b[39;00m \u001b[38;5;28mself\u001b[39m\u001b[38;5;241m.\u001b[39m_dataset_kind \u001b[38;5;241m==\u001b[39m _DatasetKind\u001b[38;5;241m.\u001b[39mIterable \u001b[38;5;129;01mand\u001b[39;00m \\\n\u001b[0;32m    633\u001b[0m         \u001b[38;5;28mself\u001b[39m\u001b[38;5;241m.\u001b[39m_IterableDataset_len_called \u001b[38;5;129;01mis\u001b[39;00m \u001b[38;5;129;01mnot\u001b[39;00m \u001b[38;5;28;01mNone\u001b[39;00m \u001b[38;5;129;01mand\u001b[39;00m \\\n\u001b[0;32m    634\u001b[0m         \u001b[38;5;28mself\u001b[39m\u001b[38;5;241m.\u001b[39m_num_yielded \u001b[38;5;241m>\u001b[39m \u001b[38;5;28mself\u001b[39m\u001b[38;5;241m.\u001b[39m_IterableDataset_len_called:\n",
      "File \u001b[1;32m~\\anaconda3\\envs\\public_talks\\Lib\\site-packages\\torch\\utils\\data\\dataloader.py:673\u001b[0m, in \u001b[0;36m_SingleProcessDataLoaderIter._next_data\u001b[1;34m(self)\u001b[0m\n\u001b[0;32m    671\u001b[0m \u001b[38;5;28;01mdef\u001b[39;00m \u001b[38;5;21m_next_data\u001b[39m(\u001b[38;5;28mself\u001b[39m):\n\u001b[0;32m    672\u001b[0m     index \u001b[38;5;241m=\u001b[39m \u001b[38;5;28mself\u001b[39m\u001b[38;5;241m.\u001b[39m_next_index()  \u001b[38;5;66;03m# may raise StopIteration\u001b[39;00m\n\u001b[1;32m--> 673\u001b[0m     data \u001b[38;5;241m=\u001b[39m \u001b[38;5;28mself\u001b[39m\u001b[38;5;241m.\u001b[39m_dataset_fetcher\u001b[38;5;241m.\u001b[39mfetch(index)  \u001b[38;5;66;03m# may raise StopIteration\u001b[39;00m\n\u001b[0;32m    674\u001b[0m     \u001b[38;5;28;01mif\u001b[39;00m \u001b[38;5;28mself\u001b[39m\u001b[38;5;241m.\u001b[39m_pin_memory:\n\u001b[0;32m    675\u001b[0m         data \u001b[38;5;241m=\u001b[39m _utils\u001b[38;5;241m.\u001b[39mpin_memory\u001b[38;5;241m.\u001b[39mpin_memory(data, \u001b[38;5;28mself\u001b[39m\u001b[38;5;241m.\u001b[39m_pin_memory_device)\n",
      "File \u001b[1;32m~\\anaconda3\\envs\\public_talks\\Lib\\site-packages\\torch\\utils\\data\\_utils\\fetch.py:52\u001b[0m, in \u001b[0;36m_MapDatasetFetcher.fetch\u001b[1;34m(self, possibly_batched_index)\u001b[0m\n\u001b[0;32m     50\u001b[0m         data \u001b[38;5;241m=\u001b[39m \u001b[38;5;28mself\u001b[39m\u001b[38;5;241m.\u001b[39mdataset\u001b[38;5;241m.\u001b[39m__getitems__(possibly_batched_index)\n\u001b[0;32m     51\u001b[0m     \u001b[38;5;28;01melse\u001b[39;00m:\n\u001b[1;32m---> 52\u001b[0m         data \u001b[38;5;241m=\u001b[39m [\u001b[38;5;28mself\u001b[39m\u001b[38;5;241m.\u001b[39mdataset[idx] \u001b[38;5;28;01mfor\u001b[39;00m idx \u001b[38;5;129;01min\u001b[39;00m possibly_batched_index]\n\u001b[0;32m     53\u001b[0m \u001b[38;5;28;01melse\u001b[39;00m:\n\u001b[0;32m     54\u001b[0m     data \u001b[38;5;241m=\u001b[39m \u001b[38;5;28mself\u001b[39m\u001b[38;5;241m.\u001b[39mdataset[possibly_batched_index]\n",
      "Cell \u001b[1;32mIn[16], line 14\u001b[0m, in \u001b[0;36mAudioDataset.__getitem__\u001b[1;34m(self, idx)\u001b[0m\n\u001b[0;32m     12\u001b[0m file_path \u001b[38;5;241m=\u001b[39m os\u001b[38;5;241m.\u001b[39mpath\u001b[38;5;241m.\u001b[39mjoin(\u001b[38;5;28mself\u001b[39m\u001b[38;5;241m.\u001b[39mdata_dir, \u001b[38;5;28mself\u001b[39m\u001b[38;5;241m.\u001b[39mfiles[idx])\n\u001b[0;32m     13\u001b[0m \u001b[38;5;66;03m# Load numpy array\u001b[39;00m\n\u001b[1;32m---> 14\u001b[0m waveform \u001b[38;5;241m=\u001b[39m np\u001b[38;5;241m.\u001b[39mload(file_path)\n\u001b[0;32m     15\u001b[0m \u001b[38;5;66;03m# Ensure the audio is 2 seconds long\u001b[39;00m\n\u001b[0;32m     16\u001b[0m target_length \u001b[38;5;241m=\u001b[39m \u001b[38;5;28mself\u001b[39m\u001b[38;5;241m.\u001b[39msample_rate \u001b[38;5;241m*\u001b[39m \u001b[38;5;28mself\u001b[39m\u001b[38;5;241m.\u001b[39mduration\n",
      "File \u001b[1;32m~\\anaconda3\\envs\\public_talks\\Lib\\site-packages\\numpy\\lib\\npyio.py:427\u001b[0m, in \u001b[0;36mload\u001b[1;34m(file, mmap_mode, allow_pickle, fix_imports, encoding, max_header_size)\u001b[0m\n\u001b[0;32m    425\u001b[0m     own_fid \u001b[38;5;241m=\u001b[39m \u001b[38;5;28;01mFalse\u001b[39;00m\n\u001b[0;32m    426\u001b[0m \u001b[38;5;28;01melse\u001b[39;00m:\n\u001b[1;32m--> 427\u001b[0m     fid \u001b[38;5;241m=\u001b[39m stack\u001b[38;5;241m.\u001b[39menter_context(\u001b[38;5;28mopen\u001b[39m(os_fspath(file), \u001b[38;5;124m\"\u001b[39m\u001b[38;5;124mrb\u001b[39m\u001b[38;5;124m\"\u001b[39m))\n\u001b[0;32m    428\u001b[0m     own_fid \u001b[38;5;241m=\u001b[39m \u001b[38;5;28;01mTrue\u001b[39;00m\n\u001b[0;32m    430\u001b[0m \u001b[38;5;66;03m# Code to distinguish from NumPy binary files and pickles.\u001b[39;00m\n",
      "\u001b[1;31mKeyboardInterrupt\u001b[0m: "
     ]
    }
   ],
   "source": [
    "# Lists to store losses\n",
    "weight_clipping_limit = 0.01  # Weight clipping limit\n",
    "\n",
    "g_losses = []\n",
    "d_losses = []\n",
    "# Training loop\n",
    "for epoch in range(num_epochs):\n",
    "    for real_samples in dataloader: # batch is (batch_size, time_steps, features)\n",
    "        # Train the discriminator\n",
    "        # Generate fake signal\n",
    "        z =  (-2.0)*(torch.randn(real_samples.size(0), latent_dim))-1.0\n",
    "        fake_samples = generator(z).detach() # gradient wouldn't be passed down\n",
    "        real_samples = real_samples\n",
    "        \n",
    "        real_output = discriminator(real_samples)\n",
    "        # maximize predr, therefore minus sign\n",
    "        lossr = -real_output.mean()\n",
    "        fake_output = discriminator(fake_samples)\n",
    "        lossf = fake_output.mean()\n",
    "\n",
    "       # aggregate all - do the wassertein loss\n",
    "        d_loss = lossr + lossf + 0.3*compute_gradient_penalty(discriminator,real_samples,fake_samples)\n",
    "        discriminator.zero_grad()\n",
    "        d_loss.backward()\n",
    "        d_optimizer.step()\n",
    "        # Weight clipping\n",
    "        for p in discriminator.parameters():\n",
    "            p.data.clamp_(-weight_clipping_limit, weight_clipping_limit)\n",
    "\n",
    "        # Train the generator more than discriminator\n",
    "        z =  (-2.0)*(torch.randn(real_samples.size(0), latent_dim))-1.0\n",
    "        fake_samples = generator(z)\n",
    "        fake_output = discriminator(fake_samples)\n",
    "        g_loss = -fake_output.mean()\n",
    "        \n",
    "        generator.zero_grad()\n",
    "        g_loss.backward()\n",
    "        g_optimizer.step()\n",
    "\n",
    "        # Store losses\n",
    "        g_losses.append(g_loss.item())\n",
    "        d_losses.append(d_loss.item())\n",
    "    #if epoch % 100 == 0:\n",
    "        print(f'Epoch: {epoch}, Generator Loss: {g_loss.item()}, Discriminator Loss: {d_loss.item()}')"
   ]
  },
  {
   "cell_type": "markdown",
   "id": "47bf8cd2-ab6c-4455-8189-8d3db073b78c",
   "metadata": {},
   "source": [
    "## Plot the losses"
   ]
  },
  {
   "cell_type": "code",
   "execution_count": null,
   "id": "5f7236ce-1bcb-4a48-a66a-d54b543ccd2c",
   "metadata": {},
   "outputs": [],
   "source": [
    "# Plot the losses\n",
    "plt.figure(figsize=(12, 6))\n",
    "plt.plot(g_losses, label='Generator Loss')\n",
    "plt.plot(d_losses, label='Discriminator Loss')\n",
    "plt.title('GAN Training Losses')\n",
    "plt.xlabel('Iteration')\n",
    "plt.ylabel('Loss')\n",
    "plt.legend()\n",
    "plt.show()        \n",
    "        "
   ]
  },
  {
   "cell_type": "markdown",
   "id": "cb03088c-3b01-4469-86f0-573be660c2ef",
   "metadata": {},
   "source": [
    "## Generate new signals after training"
   ]
  },
  {
   "cell_type": "code",
   "execution_count": null,
   "id": "cab179bd-46b1-47e1-aea2-8b8f954071d0",
   "metadata": {},
   "outputs": [],
   "source": [
    "# Set the generator to evaluation mode\n",
    "generator.eval()\n",
    "# Generate and visualize a sample output\n",
    "with torch.no_grad():\n",
    "    z =  torch.tanh(torch.randn(1, latent_dim))\n",
    "    generated_audio = generator(z).detach().numpy().flatten()\n",
    "print(generated_audio.shape)\n",
    "# Plot the generated audio signal\n",
    "plt.figure(figsize=(12, 6))\n",
    "plt.plot(generated_audio, label='Generated Audio Signal', alpha=0.5)\n",
    "plt.title('Generated Audio Signal')\n",
    "plt.xlabel('Sample Index')\n",
    "plt.ylabel('Amplitude')\n",
    "plt.legend()\n",
    "plt.show()"
   ]
  },
  {
   "cell_type": "code",
   "execution_count": null,
   "id": "39a806b2-88ea-4001-8361-fc18b9869dd7",
   "metadata": {},
   "outputs": [],
   "source": [
    "# saving the output\n",
    "np.save('generated/generated.npy', generated_audio)\n",
    "from scipy.io.wavfile import write\n",
    "\n",
    "# Assuming the array values are in the range of int16 for WAV format\n",
    "# Scale the array if necessary\n",
    "generated_audio = np.int16(generated_audio / np.max(np.abs(generated_audio)) * 32767)\n",
    "\n",
    "# Save the array as a WAV file\n",
    "write('generated/generated.wav', sample_rate, generated_audio) "
   ]
  },
  {
   "cell_type": "code",
   "execution_count": null,
   "id": "652b7765-0016-454f-bc34-843ac26559f2",
   "metadata": {},
   "outputs": [],
   "source": []
  },
  {
   "cell_type": "code",
   "execution_count": null,
   "id": "4769f68a-c252-46a9-999e-f9aaa4a334a3",
   "metadata": {},
   "outputs": [],
   "source": []
  }
 ],
 "metadata": {
  "kernelspec": {
   "display_name": "Python 3 (ipykernel)",
   "language": "python",
   "name": "python3"
  },
  "language_info": {
   "codemirror_mode": {
    "name": "ipython",
    "version": 3
   },
   "file_extension": ".py",
   "mimetype": "text/x-python",
   "name": "python",
   "nbconvert_exporter": "python",
   "pygments_lexer": "ipython3",
   "version": "3.12.4"
  }
 },
 "nbformat": 4,
 "nbformat_minor": 5
}
