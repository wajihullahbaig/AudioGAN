{
 "cells": [
  {
   "cell_type": "markdown",
   "id": "8a5ec59c-fb7f-4d3d-8824-4b56cd55a0c9",
   "metadata": {},
   "source": [
    "# Record something "
   ]
  },
  {
   "cell_type": "code",
   "execution_count": 1,
   "id": "a26da553-c877-40e9-9f99-d35c455f59a0",
   "metadata": {},
   "outputs": [
    {
     "name": "stdout",
     "output_type": "stream",
     "text": [
      "Recording chunk 1/30...\n",
      "Recording chunk 2/30...\n",
      "Recording chunk 3/30...\n",
      "Recording chunk 4/30...\n",
      "Recording chunk 5/30...\n",
      "Recording chunk 6/30...\n",
      "Recording chunk 7/30...\n",
      "Recording chunk 8/30...\n",
      "Recording chunk 9/30...\n",
      "Recording chunk 10/30...\n",
      "Recording chunk 11/30...\n",
      "Recording chunk 12/30...\n",
      "Recording chunk 13/30...\n",
      "Recording chunk 14/30...\n",
      "Recording chunk 15/30...\n",
      "Recording chunk 16/30...\n",
      "Recording chunk 17/30...\n",
      "Recording chunk 18/30...\n",
      "Recording chunk 19/30...\n",
      "Recording chunk 20/30...\n",
      "Recording chunk 21/30...\n",
      "Recording chunk 22/30...\n",
      "Recording chunk 23/30...\n",
      "Recording chunk 24/30...\n",
      "Recording chunk 25/30...\n",
      "Recording chunk 26/30...\n",
      "Recording chunk 27/30...\n",
      "Recording chunk 28/30...\n",
      "Recording chunk 29/30...\n",
      "Recording chunk 30/30...\n",
      "Recording completed.\n"
     ]
    }
   ],
   "source": [
    "import sounddevice as sd\n",
    "import numpy as np\n",
    "from scipy.io.wavfile import write\n",
    "from datetime import datetime\n",
    "\n",
    "# Parameters\n",
    "fs = 44100  # Sample rate\n",
    "total_duration = 60  # Total duration of recording in seconds\n",
    "chunk_duration = 2  # Duration of each chunk in seconds\n",
    "\n",
    "# Calculate the number of chunks\n",
    "num_chunks = total_duration // chunk_duration\n",
    "\n",
    "for i in range(num_chunks):\n",
    "    print(f\"Recording chunk {i + 1}/{num_chunks}...\")\n",
    "    \n",
    "    # Record audio for the specified chunk duration from the microphone\n",
    "    recording = sd.rec(int(chunk_duration * fs), samplerate=fs, channels=1, dtype='float32')  # Set channels=1 for mono\n",
    "    sd.wait()  # Wait until recording is finished\n",
    "    \n",
    "    # Create a timestamp for the filename\n",
    "    timestamp = datetime.now().strftime(\"%Y%m%d_%H%M%S\")\n",
    "    \n",
    "    # Save the recording as a WAV file with a timestamp\n",
    "    write(f'audios/output_chunk_{i + 1}_{timestamp}.wav', fs, recording)\n",
    "    \n",
    "    # Convert to NumPy array and save as .npy file with a timestamp\n",
    "    np.save(f'audios/output_chunk_{i + 1}_{timestamp}.npy', recording)\n",
    "    \n",
    "print(\"Recording completed.\")"
   ]
  },
  {
   "cell_type": "code",
   "execution_count": null,
   "id": "b4d631d9-2478-4310-ae39-d37c01971a30",
   "metadata": {},
   "outputs": [],
   "source": []
  }
 ],
 "metadata": {
  "kernelspec": {
   "display_name": "Python 3 (ipykernel)",
   "language": "python",
   "name": "python3"
  },
  "language_info": {
   "codemirror_mode": {
    "name": "ipython",
    "version": 3
   },
   "file_extension": ".py",
   "mimetype": "text/x-python",
   "name": "python",
   "nbconvert_exporter": "python",
   "pygments_lexer": "ipython3",
   "version": "3.12.4"
  }
 },
 "nbformat": 4,
 "nbformat_minor": 5
}
