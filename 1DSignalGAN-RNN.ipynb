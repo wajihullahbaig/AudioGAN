{
 "cells": [
  {
   "cell_type": "markdown",
   "id": "ba1c536e-1467-475b-b496-4f3a72015d03",
   "metadata": {},
   "source": [
    "# Create a 1D signal RNN GAN, for voice recorded signals\n",
    "## Use a very basic GAN architecture that works with a single dimension (1D array)"
   ]
  },
  {
   "cell_type": "code",
   "execution_count": 1,
   "id": "d5ced4fc-361e-4c0a-ae7f-bdf579ae48c7",
   "metadata": {},
   "outputs": [],
   "source": [
    "import sounddevice as sd\n",
    "import numpy as np\n",
    "import torch\n",
    "import torch.nn as nn\n",
    "from torch.utils.data import Dataset, DataLoader\n",
    "import matplotlib.pyplot as plt\n",
    "import ipywidgets as widgets\n",
    "from IPython.display import display, Audio\n",
    "from scipy.io.wavfile import write\n",
    "import os\n",
    "import torch.optim as optim\n",
    "import random\n"
   ]
  },
  {
   "cell_type": "code",
   "execution_count": 2,
   "id": "3877e0d7-64e4-4f4e-a733-90ce3041a6d9",
   "metadata": {},
   "outputs": [
    {
     "data": {
      "text/plain": [
       "<torch._C.Generator at 0x2e77c3abbf0>"
      ]
     },
     "execution_count": 2,
     "metadata": {},
     "output_type": "execute_result"
    }
   ],
   "source": [
    "# Lets setup a reproducible aspect of the code\n",
    "seed = 42  # You can choose any integer as your seed\n",
    "\n",
    "random.seed(seed)  # Set seed for Python's random\n",
    "np.random.seed(seed)  # Set seed for NumPy\n",
    "torch.manual_seed(seed)  # Set seed for PyTorch CPU\n"
   ]
  },
  {
   "cell_type": "markdown",
   "id": "2427dc01-db52-474a-879f-11abc0f3ed31",
   "metadata": {},
   "source": [
    "# Lets setup some basic configurations"
   ]
  },
  {
   "cell_type": "code",
   "execution_count": 3,
   "id": "ba5b5c63-85bc-4629-a290-6b13e61d4c7f",
   "metadata": {},
   "outputs": [],
   "source": [
    "sample_rate = 44100\n",
    "duration = 1  # 2 seconds\n",
    "signal_length = sample_rate * duration  # 44100 for 2 seconds"
   ]
  },
  {
   "cell_type": "markdown",
   "id": "57b9581b-3404-4b8a-9660-55d6716ddc20",
   "metadata": {},
   "source": [
    "## Define the Generator class"
   ]
  },
  {
   "cell_type": "code",
   "execution_count": 4,
   "id": "0ff2fd89-8f77-44e3-be8c-80eab119a20c",
   "metadata": {},
   "outputs": [],
   "source": [
    "class Generator(nn.Module):\n",
    "    def __init__(self, input_dim, hidden_dim, output_dim):\n",
    "        super(Generator, self).__init__()\n",
    "        self.rnn = nn.RNN(input_dim, hidden_dim,num_layers=4, batch_first=True)\n",
    "        self.fc = nn.Linear(hidden_dim, output_dim)\n",
    "    def forward(self, z):\n",
    "        # z shape: (batch_size, seq_length, input_dim)\n",
    "        out, _ = self.rnn(z)\n",
    "        # Take the last output of the sequence\n",
    "        out = self.fc(out[:, -1, :])\n",
    "        out = torch.tan(out)\n",
    "        return out"
   ]
  },
  {
   "cell_type": "markdown",
   "id": "0bb858d0-bd76-4dbd-8925-9921343dfec3",
   "metadata": {},
   "source": [
    "## Define the Discriminator class"
   ]
  },
  {
   "cell_type": "code",
   "execution_count": 5,
   "id": "f0d361c8-cef7-46fd-b533-1cd14fcb25cd",
   "metadata": {},
   "outputs": [],
   "source": [
    "class Discriminator(nn.Module):\n",
    "    def __init__(self, input_dim, hidden_dim):\n",
    "        super(Discriminator, self).__init__()\n",
    "        self.rnn = nn.RNN(input_dim, hidden_dim,num_layers=4, batch_first=True)\n",
    "        self.fc = nn.Linear(hidden_dim, 1)\n",
    "\n",
    "    def forward(self, x):\n",
    "        # x shape: (batch_size, seq_length, input_dim)\n",
    "        out, _ = self.rnn(x)\n",
    "        # Take the last output of the sequence\n",
    "        out = self.fc(out[:, -1, :])\n",
    "        return torch.sigmoid(out)"
   ]
  },
  {
   "cell_type": "markdown",
   "id": "3b938569-5c74-48f4-ba33-e8728e29c867",
   "metadata": {},
   "source": [
    "## Custom dataset class for voice signals"
   ]
  },
  {
   "cell_type": "code",
   "execution_count": 6,
   "id": "260d1e41-e99c-42b5-9fc4-bb68d477aee5",
   "metadata": {},
   "outputs": [],
   "source": [
    "class AudioDataset(Dataset):\n",
    "    def __init__(self, data_dir, sample_rate=22050, duration=2):\n",
    "        self.data_dir = data_dir\n",
    "        self.sample_rate = sample_rate\n",
    "        self.duration = duration\n",
    "        self.files = [f for f in os.listdir(data_dir) if f.endswith('.npy')]  # Only .npy files\n",
    "\n",
    "    def __len__(self):\n",
    "        return len(self.files)\n",
    "\n",
    "    def __getitem__(self, idx):\n",
    "        file_path = os.path.join(self.data_dir, self.files[idx])\n",
    "        # Load numpy array\n",
    "        waveform = np.load(file_path)\n",
    "        # Ensure the audio is 2 seconds long\n",
    "        target_length = self.sample_rate * self.duration\n",
    "        if waveform.size < target_length:\n",
    "            # Pad the waveform if it's shorter than 2 seconds\n",
    "            waveform = np.pad(waveform, (0, target_length - waveform.size), mode='constant')\n",
    "        else:\n",
    "            # Trim the waveform if it's longer than duration\n",
    "            waveform = waveform[:target_length]\n",
    "        waveform = waveform.astype(np.float32)\n",
    "        waveform = (waveform - min(waveform)) / (max(waveform) - min(waveform)) * 2 - 1 \n",
    "        waveform = waveform/np.max(waveform)\n",
    "        return torch.tensor(waveform,dtype=torch.float32)  # Convert to tensor\n"
   ]
  },
  {
   "cell_type": "markdown",
   "id": "62f3879f-d9ac-473c-9f17-00b28d4fb39b",
   "metadata": {},
   "source": [
    "## Prepare the dataset for training the GAN"
   ]
  },
  {
   "cell_type": "code",
   "execution_count": 8,
   "id": "1a497c63-9f08-48d9-9069-11c63d3d7e3f",
   "metadata": {},
   "outputs": [
    {
     "name": "stdout",
     "output_type": "stream",
     "text": [
      "30000\n"
     ]
    }
   ],
   "source": [
    "# Create the dataset and dataloader\n",
    "batch_size = 128\n",
    "dataset = AudioDataset('audioMNIST/', sample_rate, duration)\n",
    "dataloader = DataLoader(dataset, batch_size=batch_size, shuffle=True)\n",
    "print(len(dataset))"
   ]
  },
  {
   "cell_type": "code",
   "execution_count": 9,
   "id": "e4e3cba6-cca9-46ff-9f4b-8f94fe39e462",
   "metadata": {},
   "outputs": [
    {
     "name": "stdout",
     "output_type": "stream",
     "text": [
      "tensor([-16., -16., -17.,  ...,   0.,   0.,   0.])\n"
     ]
    },
    {
     "data": {
      "image/png": "[encoded data removed]",
      "text/plain": [
       "<Figure size 1200x600 with 1 Axes>"
      ]
     },
     "metadata": {},
     "output_type": "display_data"
    }
   ],
   "source": [
    "# plot the signal \n",
    "for batch in dataloader:\n",
    "    # Plot the generated audio signal\n",
    "    plt.figure(figsize=(12, 6))\n",
    "    print(batch[0])\n",
    "    plt.plot(batch[0], label='Generated Audio Signal', alpha=0.5)\n",
    "    plt.title('Generated Audio Signal')\n",
    "    plt.xlabel('Sample Index')\n",
    "    plt.ylabel('Amplitude')\n",
    "    plt.legend()\n",
    "    plt.show()\n",
    "    break"
   ]
  },
  {
   "cell_type": "markdown",
   "id": "9e873b18-a081-4772-b424-835cc4751744",
   "metadata": {},
   "source": [
    "## Setup the hyper-parameters"
   ]
  },
  {
   "cell_type": "code",
   "execution_count": 10,
   "id": "7e979f70-b32e-417b-9b77-b09f94515a31",
   "metadata": {},
   "outputs": [],
   "source": [
    "# Hyperparameters\n",
    "input_dim = 1  # Input dimension for the RNN\n",
    "hidden_dim = 128  # Hidden dimension for the RNN\n",
    "output_dim = signal_length  # Output dimension (length of the signal)\n",
    "z_dim = 10  # Dimension of the noise vector\n",
    "batch_size = 16 # Batch size\n",
    "num_epochs = 100  # Number of training epochs\n",
    "learning_rate = 0.00002  # Learning rate"
   ]
  },
  {
   "cell_type": "markdown",
   "id": "75e4396b-b199-4098-beb1-35c88f9fdf6a",
   "metadata": {},
   "source": [
    "## Initialize the GANs"
   ]
  },
  {
   "cell_type": "code",
   "execution_count": 11,
   "id": "7d68d436-c67a-47c9-829e-70f900ad3b61",
   "metadata": {},
   "outputs": [],
   "source": [
    "# Set up the GAN\n",
    "device = torch.device('cuda' if torch.cuda.is_available() else 'cpu')\n",
    "# Initialize models\n",
    "generator = Generator(z_dim, hidden_dim, output_dim=signal_length)\n",
    "discriminator = Discriminator(signal_length, hidden_dim)"
   ]
  },
  {
   "cell_type": "code",
   "execution_count": 12,
   "id": "a4d581df-d73f-4a00-a3d9-46755d263215",
   "metadata": {},
   "outputs": [
    {
     "data": {
      "text/plain": [
       "Generator(\n",
       "  (rnn): RNN(10, 128, num_layers=4, batch_first=True)\n",
       "  (fc): Linear(in_features=128, out_features=44100, bias=True)\n",
       ")"
      ]
     },
     "execution_count": 12,
     "metadata": {},
     "output_type": "execute_result"
    }
   ],
   "source": [
    "generator"
   ]
  },
  {
   "cell_type": "code",
   "execution_count": 13,
   "id": "7f99b4a1-5a44-4f2d-95cb-9ca6873b3aff",
   "metadata": {},
   "outputs": [
    {
     "data": {
      "text/plain": [
       "Discriminator(\n",
       "  (rnn): RNN(44100, 128, num_layers=4, batch_first=True)\n",
       "  (fc): Linear(in_features=128, out_features=1, bias=True)\n",
       ")"
      ]
     },
     "execution_count": 13,
     "metadata": {},
     "output_type": "execute_result"
    }
   ],
   "source": [
    "discriminator"
   ]
  },
  {
   "cell_type": "markdown",
   "id": "88dfe567-7e87-4aed-b32e-9442593c11ef",
   "metadata": {},
   "source": [
    "## Define the loss function and optimizers"
   ]
  },
  {
   "cell_type": "code",
   "execution_count": 14,
   "id": "02afb570-d1ee-4dfd-be1e-7feb821cae38",
   "metadata": {},
   "outputs": [],
   "source": [
    "criterion = nn.BCELoss()\n",
    "g_optimizer = torch.optim.SGD(generator.parameters(), lr=learning_rate, momentum=0.015)\n",
    "d_optimizer = torch.optim.SGD(discriminator.parameters(), lr=learning_rate, momentum=0.015)\n",
    "g_scheduler = torch.optim.lr_scheduler.CosineAnnealingWarmRestarts(g_optimizer, T_0=10, T_mult=1, eta_min=0.00001, last_epoch=-1)\n",
    "d_scheduler = torch.optim.lr_scheduler.CosineAnnealingWarmRestarts(d_optimizer, T_0=10, T_mult=1, eta_min=0.00001, last_epoch=-1)\n",
    "num_epochs = 10"
   ]
  },
  {
   "cell_type": "markdown",
   "id": "831c1eb9-89da-4ef0-8c8e-d3c49ceffebe",
   "metadata": {},
   "source": [
    "## Training the GAN"
   ]
  },
  {
   "cell_type": "code",
   "execution_count": null,
   "id": "001a9ff6-e72e-426b-ab07-b4dc4a64eae2",
   "metadata": {},
   "outputs": [
    {
     "name": "stdout",
     "output_type": "stream",
     "text": [
      "Epoch: 0, Generator Loss: 0.7867531180381775, Discriminator Loss: 1.344451665878296\n",
      "Epoch: 0, Generator Loss: 0.7862800359725952, Discriminator Loss: 1.3531641960144043\n",
      "Epoch: 0, Generator Loss: 0.7863107919692993, Discriminator Loss: 1.3521194458007812\n",
      "Epoch: 0, Generator Loss: 0.7860647439956665, Discriminator Loss: 1.347222089767456\n",
      "Epoch: 0, Generator Loss: 0.786018967628479, Discriminator Loss: 1.35262930393219\n",
      "Epoch: 0, Generator Loss: 0.7859729528427124, Discriminator Loss: 1.3484249114990234\n",
      "Epoch: 0, Generator Loss: 0.7868332862854004, Discriminator Loss: 1.3518056869506836\n",
      "Epoch: 0, Generator Loss: 0.7857328653335571, Discriminator Loss: 1.3437716960906982\n",
      "Epoch: 0, Generator Loss: 0.7859467267990112, Discriminator Loss: 1.3551459312438965\n",
      "Epoch: 0, Generator Loss: 0.7861385345458984, Discriminator Loss: 1.3431615829467773\n",
      "Epoch: 0, Generator Loss: 0.7865753769874573, Discriminator Loss: 1.3479597568511963\n",
      "Epoch: 0, Generator Loss: 0.7850871682167053, Discriminator Loss: 1.3534319400787354\n",
      "Epoch: 0, Generator Loss: 0.7862740159034729, Discriminator Loss: 1.345828890800476\n",
      "Epoch: 0, Generator Loss: 0.78672856092453, Discriminator Loss: 1.3503458499908447\n",
      "Epoch: 0, Generator Loss: 0.7869994044303894, Discriminator Loss: 1.3507649898529053\n",
      "Epoch: 0, Generator Loss: 0.7864760756492615, Discriminator Loss: 1.3494367599487305\n",
      "Epoch: 0, Generator Loss: 0.786046028137207, Discriminator Loss: 1.3454654216766357\n",
      "Epoch: 0, Generator Loss: 0.7863884568214417, Discriminator Loss: 1.35310697555542\n",
      "Epoch: 0, Generator Loss: 0.786826491355896, Discriminator Loss: 1.3489775657653809\n",
      "Epoch: 0, Generator Loss: 0.7865023016929626, Discriminator Loss: 1.3509602546691895\n",
      "Epoch: 0, Generator Loss: 0.7873770594596863, Discriminator Loss: 1.347161889076233\n",
      "Epoch: 0, Generator Loss: 0.7866071462631226, Discriminator Loss: 1.353240728378296\n",
      "Epoch: 0, Generator Loss: 0.7858768701553345, Discriminator Loss: 1.3439565896987915\n",
      "Epoch: 0, Generator Loss: 0.7861840128898621, Discriminator Loss: 1.3537447452545166\n",
      "Epoch: 0, Generator Loss: 0.7865516543388367, Discriminator Loss: 1.351897954940796\n",
      "Epoch: 0, Generator Loss: 0.7875717878341675, Discriminator Loss: 1.3509817123413086\n",
      "Epoch: 0, Generator Loss: 0.786668062210083, Discriminator Loss: 1.3568987846374512\n",
      "Epoch: 0, Generator Loss: 0.7862688302993774, Discriminator Loss: 1.347287654876709\n",
      "Epoch: 0, Generator Loss: 0.7860727906227112, Discriminator Loss: 1.3485164642333984\n",
      "Epoch: 0, Generator Loss: 0.7864152789115906, Discriminator Loss: 1.348285436630249\n",
      "Epoch: 0, Generator Loss: 0.7871307730674744, Discriminator Loss: 1.3526203632354736\n",
      "Epoch: 0, Generator Loss: 0.7866030335426331, Discriminator Loss: 1.34450101852417\n",
      "Epoch: 0, Generator Loss: 0.7870367169380188, Discriminator Loss: 1.3460376262664795\n",
      "Epoch: 0, Generator Loss: 0.7865949869155884, Discriminator Loss: 1.3504468202590942\n",
      "Epoch: 0, Generator Loss: 0.7877094149589539, Discriminator Loss: 1.3480075597763062\n",
      "Epoch: 0, Generator Loss: 0.7865487933158875, Discriminator Loss: 1.3498029708862305\n",
      "Epoch: 0, Generator Loss: 0.7870302200317383, Discriminator Loss: 1.3507447242736816\n",
      "Epoch: 0, Generator Loss: 0.7868490219116211, Discriminator Loss: 1.3494882583618164\n",
      "Epoch: 0, Generator Loss: 0.787773072719574, Discriminator Loss: 1.354707956314087\n",
      "Epoch: 0, Generator Loss: 0.7869497537612915, Discriminator Loss: 1.3570005893707275\n",
      "Epoch: 0, Generator Loss: 0.7869189977645874, Discriminator Loss: 1.3501633405685425\n",
      "Epoch: 0, Generator Loss: 0.7863321304321289, Discriminator Loss: 1.3450019359588623\n",
      "Epoch: 0, Generator Loss: 0.7866002321243286, Discriminator Loss: 1.3506015539169312\n",
      "Epoch: 0, Generator Loss: 0.7876283526420593, Discriminator Loss: 1.345369577407837\n",
      "Epoch: 0, Generator Loss: 0.786945104598999, Discriminator Loss: 1.35093355178833\n",
      "Epoch: 0, Generator Loss: 0.7869290113449097, Discriminator Loss: 1.342895269393921\n",
      "Epoch: 0, Generator Loss: 0.7873732447624207, Discriminator Loss: 1.344543695449829\n",
      "Epoch: 0, Generator Loss: 0.7871565818786621, Discriminator Loss: 1.352420449256897\n",
      "Epoch: 0, Generator Loss: 0.7866708040237427, Discriminator Loss: 1.3461692333221436\n",
      "Epoch: 0, Generator Loss: 0.7869529724121094, Discriminator Loss: 1.3470934629440308\n",
      "Epoch: 0, Generator Loss: 0.7878345847129822, Discriminator Loss: 1.344892978668213\n",
      "Epoch: 0, Generator Loss: 0.7869819402694702, Discriminator Loss: 1.3501455783843994\n",
      "Epoch: 0, Generator Loss: 0.7871061563491821, Discriminator Loss: 1.3463468551635742\n",
      "Epoch: 0, Generator Loss: 0.7870680689811707, Discriminator Loss: 1.3478779792785645\n",
      "Epoch: 0, Generator Loss: 0.7876098155975342, Discriminator Loss: 1.343263864517212\n",
      "Epoch: 0, Generator Loss: 0.7876269221305847, Discriminator Loss: 1.35056734085083\n",
      "Epoch: 0, Generator Loss: 0.7877158522605896, Discriminator Loss: 1.3477215766906738\n",
      "Epoch: 0, Generator Loss: 0.7885300517082214, Discriminator Loss: 1.337963581085205\n",
      "Epoch: 0, Generator Loss: 0.7880112528800964, Discriminator Loss: 1.3492400646209717\n",
      "Epoch: 0, Generator Loss: 0.7881598472595215, Discriminator Loss: 1.3484156131744385\n",
      "Epoch: 0, Generator Loss: 0.7869436144828796, Discriminator Loss: 1.3474109172821045\n",
      "Epoch: 0, Generator Loss: 0.7873402237892151, Discriminator Loss: 1.3513561487197876\n",
      "Epoch: 0, Generator Loss: 0.7879599928855896, Discriminator Loss: 1.3513814210891724\n",
      "Epoch: 0, Generator Loss: 0.7877472639083862, Discriminator Loss: 1.3465301990509033\n",
      "Epoch: 0, Generator Loss: 0.7874642610549927, Discriminator Loss: 1.3553731441497803\n",
      "Epoch: 0, Generator Loss: 0.7883915305137634, Discriminator Loss: 1.348343014717102\n",
      "Epoch: 0, Generator Loss: 0.7886604070663452, Discriminator Loss: 1.3491880893707275\n",
      "Epoch: 0, Generator Loss: 0.7888185381889343, Discriminator Loss: 1.3495444059371948\n",
      "Epoch: 0, Generator Loss: 0.7874372601509094, Discriminator Loss: 1.356882929801941\n",
      "Epoch: 0, Generator Loss: 0.7882542014122009, Discriminator Loss: 1.349318265914917\n",
      "Epoch: 0, Generator Loss: 0.7880958318710327, Discriminator Loss: 1.3484445810317993\n",
      "Epoch: 0, Generator Loss: 0.7876414060592651, Discriminator Loss: 1.3512616157531738\n",
      "Epoch: 0, Generator Loss: 0.7880657315254211, Discriminator Loss: 1.349036693572998\n",
      "Epoch: 0, Generator Loss: 0.7874990701675415, Discriminator Loss: 1.3463490009307861\n",
      "Epoch: 0, Generator Loss: 0.7880342602729797, Discriminator Loss: 1.3454177379608154\n",
      "Epoch: 0, Generator Loss: 0.7883070111274719, Discriminator Loss: 1.3518657684326172\n",
      "Epoch: 0, Generator Loss: 0.7878535389900208, Discriminator Loss: 1.3508459329605103\n",
      "Epoch: 0, Generator Loss: 0.7876926064491272, Discriminator Loss: 1.3451457023620605\n",
      "Epoch: 0, Generator Loss: 0.788336455821991, Discriminator Loss: 1.3494470119476318\n",
      "Epoch: 0, Generator Loss: 0.7880715131759644, Discriminator Loss: 1.347656011581421\n",
      "Epoch: 0, Generator Loss: 0.7885802388191223, Discriminator Loss: 1.3441694974899292\n",
      "Epoch: 0, Generator Loss: 0.788703978061676, Discriminator Loss: 1.3497902154922485\n",
      "Epoch: 0, Generator Loss: 0.7885044813156128, Discriminator Loss: 1.350143551826477\n",
      "Epoch: 0, Generator Loss: 0.7886244058609009, Discriminator Loss: 1.3418635129928589\n",
      "Epoch: 0, Generator Loss: 0.7887833118438721, Discriminator Loss: 1.347191572189331\n",
      "Epoch: 0, Generator Loss: 0.7894840836524963, Discriminator Loss: 1.3522279262542725\n",
      "Epoch: 0, Generator Loss: 0.7884799242019653, Discriminator Loss: 1.3461079597473145\n",
      "Epoch: 0, Generator Loss: 0.7880665063858032, Discriminator Loss: 1.3441455364227295\n",
      "Epoch: 0, Generator Loss: 0.7888272404670715, Discriminator Loss: 1.3483974933624268\n",
      "Epoch: 0, Generator Loss: 0.7883671522140503, Discriminator Loss: 1.3468480110168457\n",
      "Epoch: 0, Generator Loss: 0.7894048094749451, Discriminator Loss: 1.350719928741455\n",
      "Epoch: 0, Generator Loss: 0.7876021862030029, Discriminator Loss: 1.3465142250061035\n",
      "Epoch: 0, Generator Loss: 0.7881380319595337, Discriminator Loss: 1.3521876335144043\n",
      "Epoch: 0, Generator Loss: 0.7882310748100281, Discriminator Loss: 1.3491872549057007\n",
      "Epoch: 0, Generator Loss: 0.7886709570884705, Discriminator Loss: 1.349736213684082\n",
      "Epoch: 0, Generator Loss: 0.7888604402542114, Discriminator Loss: 1.3462722301483154\n",
      "Epoch: 0, Generator Loss: 0.7887272834777832, Discriminator Loss: 1.3438496589660645\n",
      "Epoch: 0, Generator Loss: 0.7886534929275513, Discriminator Loss: 1.3493342399597168\n",
      "Epoch: 0, Generator Loss: 0.7889800071716309, Discriminator Loss: 1.3369348049163818\n",
      "Epoch: 0, Generator Loss: 0.7890976667404175, Discriminator Loss: 1.3456507921218872\n",
      "Epoch: 0, Generator Loss: 0.788714587688446, Discriminator Loss: 1.3507089614868164\n",
      "Epoch: 0, Generator Loss: 0.7891630530357361, Discriminator Loss: 1.3471941947937012\n",
      "Epoch: 0, Generator Loss: 0.7889047265052795, Discriminator Loss: 1.3473467826843262\n",
      "Epoch: 0, Generator Loss: 0.7892494201660156, Discriminator Loss: 1.3468232154846191\n",
      "Epoch: 0, Generator Loss: 0.7887254953384399, Discriminator Loss: 1.3462557792663574\n",
      "Epoch: 0, Generator Loss: 0.7886072993278503, Discriminator Loss: 1.346552848815918\n",
      "Epoch: 0, Generator Loss: 0.7881873250007629, Discriminator Loss: 1.3469197750091553\n",
      "Epoch: 0, Generator Loss: 0.7880311012268066, Discriminator Loss: 1.3431541919708252\n",
      "Epoch: 0, Generator Loss: 0.7891551852226257, Discriminator Loss: 1.3516483306884766\n",
      "Epoch: 0, Generator Loss: 0.7885725498199463, Discriminator Loss: 1.3423218727111816\n",
      "Epoch: 0, Generator Loss: 0.7891553640365601, Discriminator Loss: 1.3427016735076904\n",
      "Epoch: 0, Generator Loss: 0.7893643975257874, Discriminator Loss: 1.344056248664856\n",
      "Epoch: 0, Generator Loss: 0.7887259125709534, Discriminator Loss: 1.3449997901916504\n",
      "Epoch: 0, Generator Loss: 0.7901864051818848, Discriminator Loss: 1.3473548889160156\n",
      "Epoch: 0, Generator Loss: 0.7879340052604675, Discriminator Loss: 1.3474477529525757\n",
      "Epoch: 0, Generator Loss: 0.7889280915260315, Discriminator Loss: 1.3410625457763672\n",
      "Epoch: 0, Generator Loss: 0.7892240881919861, Discriminator Loss: 1.3515009880065918\n",
      "Epoch: 0, Generator Loss: 0.789635956287384, Discriminator Loss: 1.345630407333374\n",
      "Epoch: 0, Generator Loss: 0.7891523241996765, Discriminator Loss: 1.3440091609954834\n",
      "Epoch: 0, Generator Loss: 0.789186418056488, Discriminator Loss: 1.344600796699524\n",
      "Epoch: 0, Generator Loss: 0.7889978885650635, Discriminator Loss: 1.3486130237579346\n",
      "Epoch: 0, Generator Loss: 0.7897862792015076, Discriminator Loss: 1.3491966724395752\n",
      "Epoch: 0, Generator Loss: 0.7879434823989868, Discriminator Loss: 1.3427389860153198\n",
      "Epoch: 0, Generator Loss: 0.7891570329666138, Discriminator Loss: 1.3453292846679688\n",
      "Epoch: 0, Generator Loss: 0.7895234227180481, Discriminator Loss: 1.3465545177459717\n",
      "Epoch: 0, Generator Loss: 0.7898030877113342, Discriminator Loss: 1.3458573818206787\n",
      "Epoch: 0, Generator Loss: 0.7897067666053772, Discriminator Loss: 1.3434727191925049\n",
      "Epoch: 0, Generator Loss: 0.7903767824172974, Discriminator Loss: 1.3471646308898926\n",
      "Epoch: 0, Generator Loss: 0.7894212007522583, Discriminator Loss: 1.3464858531951904\n",
      "Epoch: 0, Generator Loss: 0.7891318798065186, Discriminator Loss: 1.3449180126190186\n",
      "Epoch: 0, Generator Loss: 0.7904528379440308, Discriminator Loss: 1.3454928398132324\n",
      "Epoch: 0, Generator Loss: 0.7891583442687988, Discriminator Loss: 1.3520944118499756\n",
      "Epoch: 0, Generator Loss: 0.7895515561103821, Discriminator Loss: 1.3408416509628296\n",
      "Epoch: 0, Generator Loss: 0.7885788679122925, Discriminator Loss: 1.3511879444122314\n",
      "Epoch: 0, Generator Loss: 0.7896372079849243, Discriminator Loss: 1.348535418510437\n",
      "Epoch: 0, Generator Loss: 0.7902036309242249, Discriminator Loss: 1.3499956130981445\n",
      "Epoch: 0, Generator Loss: 0.7894904613494873, Discriminator Loss: 1.3480002880096436\n",
      "Epoch: 0, Generator Loss: 0.7896884083747864, Discriminator Loss: 1.3489803075790405\n",
      "Epoch: 0, Generator Loss: 0.7895218729972839, Discriminator Loss: 1.3509684801101685\n",
      "Epoch: 0, Generator Loss: 0.7892712950706482, Discriminator Loss: 1.3488428592681885\n",
      "Epoch: 0, Generator Loss: 0.7900811433792114, Discriminator Loss: 1.3453140258789062\n",
      "Epoch: 0, Generator Loss: 0.7893126010894775, Discriminator Loss: 1.3539373874664307\n",
      "Epoch: 0, Generator Loss: 0.7893838882446289, Discriminator Loss: 1.3442808389663696\n",
      "Epoch: 0, Generator Loss: 0.7901260852813721, Discriminator Loss: 1.3458855152130127\n",
      "Epoch: 0, Generator Loss: 0.7893500328063965, Discriminator Loss: 1.347625494003296\n",
      "Epoch: 0, Generator Loss: 0.7901561856269836, Discriminator Loss: 1.353729009628296\n",
      "Epoch: 0, Generator Loss: 0.7893266677856445, Discriminator Loss: 1.3472610712051392\n",
      "Epoch: 0, Generator Loss: 0.7908545136451721, Discriminator Loss: 1.3406332731246948\n",
      "Epoch: 0, Generator Loss: 0.7901406288146973, Discriminator Loss: 1.3436861038208008\n",
      "Epoch: 0, Generator Loss: 0.7908906936645508, Discriminator Loss: 1.347147822380066\n",
      "Epoch: 0, Generator Loss: 0.7898261547088623, Discriminator Loss: 1.3416399955749512\n",
      "Epoch: 0, Generator Loss: 0.7903199791908264, Discriminator Loss: 1.3414586782455444\n",
      "Epoch: 0, Generator Loss: 0.7901055216789246, Discriminator Loss: 1.3503026962280273\n",
      "Epoch: 0, Generator Loss: 0.7903172969818115, Discriminator Loss: 1.342098593711853\n",
      "Epoch: 0, Generator Loss: 0.7900868058204651, Discriminator Loss: 1.3491361141204834\n",
      "Epoch: 0, Generator Loss: 0.7899692058563232, Discriminator Loss: 1.3465588092803955\n",
      "Epoch: 0, Generator Loss: 0.7907078862190247, Discriminator Loss: 1.3436269760131836\n",
      "Epoch: 0, Generator Loss: 0.7900590896606445, Discriminator Loss: 1.3424420356750488\n",
      "Epoch: 0, Generator Loss: 0.7907310724258423, Discriminator Loss: 1.3490257263183594\n",
      "Epoch: 0, Generator Loss: 0.7897728681564331, Discriminator Loss: 1.3458384275436401\n",
      "Epoch: 0, Generator Loss: 0.7913903594017029, Discriminator Loss: 1.340470790863037\n",
      "Epoch: 0, Generator Loss: 0.7914007902145386, Discriminator Loss: 1.3415879011154175\n",
      "Epoch: 0, Generator Loss: 0.7895773649215698, Discriminator Loss: 1.3419079780578613\n",
      "Epoch: 0, Generator Loss: 0.7900667190551758, Discriminator Loss: 1.3488306999206543\n",
      "Epoch: 0, Generator Loss: 0.7907643914222717, Discriminator Loss: 1.3491227626800537\n",
      "Epoch: 0, Generator Loss: 0.7903087139129639, Discriminator Loss: 1.3472566604614258\n",
      "Epoch: 0, Generator Loss: 0.7901619076728821, Discriminator Loss: 1.3518056869506836\n",
      "Epoch: 0, Generator Loss: 0.790497362613678, Discriminator Loss: 1.352989912033081\n",
      "Epoch: 0, Generator Loss: 0.7909498810768127, Discriminator Loss: 1.3436994552612305\n",
      "Epoch: 0, Generator Loss: 0.7902528047561646, Discriminator Loss: 1.34456205368042\n",
      "Epoch: 0, Generator Loss: 0.7904185652732849, Discriminator Loss: 1.3463037014007568\n",
      "Epoch: 0, Generator Loss: 0.790084719657898, Discriminator Loss: 1.3493132591247559\n",
      "Epoch: 0, Generator Loss: 0.7897921204566956, Discriminator Loss: 1.3452156782150269\n",
      "Epoch: 0, Generator Loss: 0.7903493642807007, Discriminator Loss: 1.3432893753051758\n",
      "Epoch: 0, Generator Loss: 0.791443943977356, Discriminator Loss: 1.3545377254486084\n",
      "Epoch: 0, Generator Loss: 0.7910597324371338, Discriminator Loss: 1.342329978942871\n",
      "Epoch: 0, Generator Loss: 0.7910638451576233, Discriminator Loss: 1.3465123176574707\n",
      "Epoch: 0, Generator Loss: 0.7908340096473694, Discriminator Loss: 1.3473671674728394\n",
      "Epoch: 0, Generator Loss: 0.7902265787124634, Discriminator Loss: 1.3399250507354736\n",
      "Epoch: 0, Generator Loss: 0.7902246117591858, Discriminator Loss: 1.3453996181488037\n",
      "Epoch: 0, Generator Loss: 0.791382372379303, Discriminator Loss: 1.3458002805709839\n",
      "Epoch: 0, Generator Loss: 0.790532648563385, Discriminator Loss: 1.343113899230957\n",
      "Epoch: 0, Generator Loss: 0.7909369468688965, Discriminator Loss: 1.348313570022583\n",
      "Epoch: 0, Generator Loss: 0.7911862134933472, Discriminator Loss: 1.344862461090088\n",
      "Epoch: 0, Generator Loss: 0.7902952432632446, Discriminator Loss: 1.3466837406158447\n",
      "Epoch: 0, Generator Loss: 0.790989875793457, Discriminator Loss: 1.3507187366485596\n",
      "Epoch: 0, Generator Loss: 0.7917042374610901, Discriminator Loss: 1.341700553894043\n",
      "Epoch: 0, Generator Loss: 0.7903532385826111, Discriminator Loss: 1.3414626121520996\n",
      "Epoch: 0, Generator Loss: 0.7906529903411865, Discriminator Loss: 1.3533484935760498\n",
      "Epoch: 0, Generator Loss: 0.7910231351852417, Discriminator Loss: 1.3458781242370605\n",
      "Epoch: 0, Generator Loss: 0.7907232046127319, Discriminator Loss: 1.3385229110717773\n",
      "Epoch: 0, Generator Loss: 0.7917665839195251, Discriminator Loss: 1.3467339277267456\n",
      "Epoch: 0, Generator Loss: 0.7916494607925415, Discriminator Loss: 1.3448939323425293\n",
      "Epoch: 0, Generator Loss: 0.7915163040161133, Discriminator Loss: 1.3424360752105713\n",
      "Epoch: 0, Generator Loss: 0.7916593551635742, Discriminator Loss: 1.3455607891082764\n",
      "Epoch: 0, Generator Loss: 0.7906467914581299, Discriminator Loss: 1.347855806350708\n",
      "Epoch: 0, Generator Loss: 0.7907270193099976, Discriminator Loss: 1.3472819328308105\n",
      "Epoch: 0, Generator Loss: 0.7911452054977417, Discriminator Loss: 1.3434743881225586\n",
      "Epoch: 0, Generator Loss: 0.7909168004989624, Discriminator Loss: 1.3498704433441162\n",
      "Epoch: 0, Generator Loss: 0.7910194396972656, Discriminator Loss: 1.3493828773498535\n",
      "Epoch: 0, Generator Loss: 0.790948748588562, Discriminator Loss: 1.3436963558197021\n",
      "Epoch: 0, Generator Loss: 0.7918777465820312, Discriminator Loss: 1.349421739578247\n",
      "Epoch: 0, Generator Loss: 0.7914129495620728, Discriminator Loss: 1.3509666919708252\n",
      "Epoch: 0, Generator Loss: 0.7913971543312073, Discriminator Loss: 1.3450281620025635\n",
      "Epoch: 0, Generator Loss: 0.7915353775024414, Discriminator Loss: 1.3411526679992676\n",
      "Epoch: 0, Generator Loss: 0.7911790609359741, Discriminator Loss: 1.3454749584197998\n",
      "Epoch: 0, Generator Loss: 0.791849672794342, Discriminator Loss: 1.3417919874191284\n",
      "Epoch: 0, Generator Loss: 0.7912758588790894, Discriminator Loss: 1.34647536277771\n",
      "Epoch: 0, Generator Loss: 0.7907510995864868, Discriminator Loss: 1.3413681983947754\n",
      "Epoch: 0, Generator Loss: 0.791391134262085, Discriminator Loss: 1.3489007949829102\n",
      "Epoch: 0, Generator Loss: 0.7923307418823242, Discriminator Loss: 1.3390171527862549\n",
      "Epoch: 0, Generator Loss: 0.7909500002861023, Discriminator Loss: 1.353319764137268\n",
      "Epoch: 0, Generator Loss: 0.7923863530158997, Discriminator Loss: 1.3492140769958496\n",
      "Epoch: 0, Generator Loss: 0.7913980484008789, Discriminator Loss: 1.346287488937378\n",
      "Epoch: 0, Generator Loss: 0.7917967438697815, Discriminator Loss: 1.3516199588775635\n",
      "Epoch: 0, Generator Loss: 0.791416585445404, Discriminator Loss: 1.3501025438308716\n",
      "Epoch: 0, Generator Loss: 0.792239785194397, Discriminator Loss: 1.3533316850662231\n",
      "Epoch: 0, Generator Loss: 0.7918629050254822, Discriminator Loss: 1.3544220924377441\n",
      "Epoch: 0, Generator Loss: 0.792266845703125, Discriminator Loss: 1.346500039100647\n",
      "Epoch: 0, Generator Loss: 0.7913272976875305, Discriminator Loss: 1.339247226715088\n",
      "Epoch: 0, Generator Loss: 0.7911499738693237, Discriminator Loss: 1.33905029296875\n",
      "Epoch: 0, Generator Loss: 0.7918713688850403, Discriminator Loss: 1.3501200675964355\n",
      "Epoch: 0, Generator Loss: 0.792614758014679, Discriminator Loss: 1.342789888381958\n",
      "Epoch: 0, Generator Loss: 0.7925937175750732, Discriminator Loss: 1.348143219947815\n",
      "Epoch: 0, Generator Loss: 0.7912321090698242, Discriminator Loss: 1.351776123046875\n",
      "Epoch: 0, Generator Loss: 0.7919822931289673, Discriminator Loss: 1.346055030822754\n",
      "Epoch: 0, Generator Loss: 0.7926297187805176, Discriminator Loss: 1.342279076576233\n",
      "Epoch: 0, Generator Loss: 0.7918015122413635, Discriminator Loss: 1.343503713607788\n",
      "Epoch: 0, Generator Loss: 0.7925975322723389, Discriminator Loss: 1.3462803363800049\n",
      "Epoch: 0, Generator Loss: 0.791759729385376, Discriminator Loss: 1.3442509174346924\n",
      "Epoch: 0, Generator Loss: 0.7922329306602478, Discriminator Loss: 1.3402451276779175\n",
      "Epoch: 0, Generator Loss: 0.7917967438697815, Discriminator Loss: 1.341660737991333\n",
      "Epoch: 0, Generator Loss: 0.7921855449676514, Discriminator Loss: 1.350346565246582\n",
      "Epoch: 0, Generator Loss: 0.7917435765266418, Discriminator Loss: 1.3472634553909302\n",
      "Epoch: 0, Generator Loss: 0.7931210398674011, Discriminator Loss: 1.3441112041473389\n",
      "Epoch: 1, Generator Loss: 0.792713463306427, Discriminator Loss: 1.339968204498291\n",
      "Epoch: 1, Generator Loss: 0.7933131456375122, Discriminator Loss: 1.3450231552124023\n",
      "Epoch: 1, Generator Loss: 0.7917656302452087, Discriminator Loss: 1.345832347869873\n",
      "Epoch: 1, Generator Loss: 0.7916855216026306, Discriminator Loss: 1.3465046882629395\n",
      "Epoch: 1, Generator Loss: 0.7923679351806641, Discriminator Loss: 1.343529224395752\n",
      "Epoch: 1, Generator Loss: 0.7926139831542969, Discriminator Loss: 1.3471819162368774\n",
      "Epoch: 1, Generator Loss: 0.7920481562614441, Discriminator Loss: 1.3417370319366455\n",
      "Epoch: 1, Generator Loss: 0.7924619317054749, Discriminator Loss: 1.3410212993621826\n",
      "Epoch: 1, Generator Loss: 0.7923462390899658, Discriminator Loss: 1.3417927026748657\n",
      "Epoch: 1, Generator Loss: 0.792887806892395, Discriminator Loss: 1.3384791612625122\n",
      "Epoch: 1, Generator Loss: 0.7927688360214233, Discriminator Loss: 1.3444091081619263\n",
      "Epoch: 1, Generator Loss: 0.7924377918243408, Discriminator Loss: 1.3417081832885742\n",
      "Epoch: 1, Generator Loss: 0.7922667264938354, Discriminator Loss: 1.3460406064987183\n",
      "Epoch: 1, Generator Loss: 0.791999101638794, Discriminator Loss: 1.3501009941101074\n",
      "Epoch: 1, Generator Loss: 0.7933202981948853, Discriminator Loss: 1.3442186117172241\n",
      "Epoch: 1, Generator Loss: 0.7930405139923096, Discriminator Loss: 1.3440077304840088\n",
      "Epoch: 1, Generator Loss: 0.7925490140914917, Discriminator Loss: 1.3466782569885254\n",
      "Epoch: 1, Generator Loss: 0.7925888895988464, Discriminator Loss: 1.3432787656784058\n",
      "Epoch: 1, Generator Loss: 0.7924227714538574, Discriminator Loss: 1.348670482635498\n",
      "Epoch: 1, Generator Loss: 0.7924664616584778, Discriminator Loss: 1.3441576957702637\n",
      "Epoch: 1, Generator Loss: 0.7924497723579407, Discriminator Loss: 1.343201756477356\n"
     ]
    }
   ],
   "source": [
    "# Training loop\n",
    "for epoch in range(num_epochs):\n",
    "    for batch in dataloader: # batch is (batch_size, time_steps, features)\n",
    "        # Generate fake signal\n",
    "        noise = torch.randn(batch.size(0), 1, z_dim)  # Shape: (batch_size, seq_length, z_dim)\n",
    "        generated_signal = generator(noise)\n",
    "        # reshape for descriminator to accept Shape: (batch_size, seq_length, z_dim)\n",
    "        generated_signal = torch.reshape(generated_signal, (batch.size(0), 1, signal_length))\n",
    "        # Create labels\n",
    "        real_labels = torch.ones(batch.size(0), 1)\n",
    "        fake_labels = torch.zeros(batch.size(0), 1)\n",
    "\n",
    "        # Train the discriminator\n",
    "        discriminator.zero_grad()\n",
    "        t = torch.reshape(batch, (batch.size(0), -1, signal_length))\n",
    "        real_output = discriminator(t)  # Use the real audio batch\n",
    "        real_loss = criterion(real_output, real_labels)\n",
    "        fake_output = discriminator(generated_signal.detach())  # Use the generated signal\n",
    "        fake_loss = criterion(fake_output, fake_labels)\n",
    "        d_loss = real_loss + fake_loss\n",
    "        d_loss.backward()\n",
    "        d_optimizer.step()\n",
    "        d_scheduler.step()\n",
    "\n",
    "        # Train the generator\n",
    "        generator.zero_grad()\n",
    "        fake_output = discriminator(generated_signal.detach())  # Use the generated signal\n",
    "        g_loss = criterion(fake_output, real_labels)\n",
    "        g_loss.backward()\n",
    "        g_optimizer.step()\n",
    "        g_scheduler.step()\n",
    "\n",
    "    #if epoch % 100 == 0:\n",
    "        print(f'Epoch: {epoch}, Generator Loss: {g_loss.item()}, Discriminator Loss: {d_loss.item()}')"
   ]
  },
  {
   "cell_type": "markdown",
   "id": "57644ffc-a3cd-4c79-9f9d-b31b73d11ec5",
   "metadata": {},
   "source": [
    "## Generate new signals after training"
   ]
  },
  {
   "cell_type": "code",
   "execution_count": null,
   "id": "cab179bd-46b1-47e1-aea2-8b8f954071d0",
   "metadata": {},
   "outputs": [],
   "source": [
    "# Set the generator to evaluation mode\n",
    "generator.eval()\n",
    "# Generate and visualize a sample output\n",
    "with torch.no_grad():\n",
    "    noise = torch.randn(1, 1, z_dim)  # Shape: (batch_size, seq_length, z_dim)\n",
    "    generated_audio = generator(noise).detach().numpy().flatten()\n",
    "print(generated_audio.shape)\n",
    "# Plot the generated audio signal\n",
    "plt.figure(figsize=(12, 6))\n",
    "plt.plot(generated_audio, label='Generated Audio Signal', alpha=0.5)\n",
    "plt.title('Generated Audio Signal')\n",
    "plt.xlabel('Sample Index')\n",
    "plt.ylabel('Amplitude')\n",
    "plt.legend()\n",
    "plt.show()"
   ]
  },
  {
   "cell_type": "code",
   "execution_count": null,
   "id": "39a806b2-88ea-4001-8361-fc18b9869dd7",
   "metadata": {},
   "outputs": [],
   "source": [
    "# saving the output\n",
    "np.save('generated/generated.npy', generated_audio)\n",
    "from scipy.io.wavfile import write\n",
    "\n",
    "# Assuming the array values are in the range of int16 for WAV format\n",
    "# Scale the array if necessary\n",
    "generated_audio = np.int16(generated_audio / np.max(np.abs(generated_audio)) * 32767)\n",
    "\n",
    "# Save the array as a WAV file\n",
    "write('generated/generated.wav', sample_rate, generated_audio) "
   ]
  },
  {
   "cell_type": "code",
   "execution_count": null,
   "id": "8d1dd796-79e1-4d73-ac4e-0828de98b3d7",
   "metadata": {},
   "outputs": [],
   "source": []
  }
 ],
 "metadata": {
  "kernelspec": {
   "display_name": "Python 3 (ipykernel)",
   "language": "python",
   "name": "python3"
  },
  "language_info": {
   "codemirror_mode": {
    "name": "ipython",
    "version": 3
   },
   "file_extension": ".py",
   "mimetype": "text/x-python",
   "name": "python",
   "nbconvert_exporter": "python",
   "pygments_lexer": "ipython3",
   "version": "3.12.4"
  }
 },
 "nbformat": 4,
 "nbformat_minor": 5
}
