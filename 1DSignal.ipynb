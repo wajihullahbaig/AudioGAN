{
 "cells": [
  {
   "cell_type": "markdown",
   "id": "ba1c536e-1467-475b-b496-4f3a72015d03",
   "metadata": {},
   "source": [
    "# Create a 1D signal GAN for voice recorded signals\n",
    "## Use a very basic GAN architecture that works with a single dimension (1D array)"
   ]
  },
  {
   "cell_type": "code",
   "execution_count": 42,
   "id": "d5ced4fc-361e-4c0a-ae7f-bdf579ae48c7",
   "metadata": {},
   "outputs": [],
   "source": [
    "import sounddevice as sd\n",
    "import numpy as np\n",
    "import torch\n",
    "import torch.nn as nn\n",
    "from torch.utils.data import Dataset, DataLoader\n",
    "import matplotlib.pyplot as plt\n",
    "import ipywidgets as widgets\n",
    "from IPython.display import display, Audio\n",
    "from scipy.io.wavfile import write\n",
    "import os\n",
    "import torch.nn.functional as F\n"
   ]
  },
  {
   "cell_type": "markdown",
   "id": "2427dc01-db52-474a-879f-11abc0f3ed31",
   "metadata": {},
   "source": [
    "# Lets setup some basic configurations"
   ]
  },
  {
   "cell_type": "code",
   "execution_count": 43,
   "id": "ba5b5c63-85bc-4629-a290-6b13e61d4c7f",
   "metadata": {},
   "outputs": [],
   "source": [
    "sample_rate = 44100\n",
    "duration = 1  # 2 seconds\n",
    "signal_length = sample_rate * duration"
   ]
  },
  {
   "cell_type": "markdown",
   "id": "57b9581b-3404-4b8a-9660-55d6716ddc20",
   "metadata": {},
   "source": [
    "## Define the Generator class"
   ]
  },
  {
   "cell_type": "code",
   "execution_count": 44,
   "id": "0ff2fd89-8f77-44e3-be8c-80eab119a20c",
   "metadata": {},
   "outputs": [],
   "source": [
    "class Generator(nn.Module):\n",
    "    def __init__(self, latent_dim, output_dim):\n",
    "        super(Generator, self).__init__()\n",
    "        self.model = nn.Sequential(\n",
    "            nn.Linear(latent_dim, 64),\n",
    "            nn.Linear(64, output_dim),\n",
    "            nn.Tanh()  # Output in the range [-1, 1]\n",
    "        )\n",
    "\n",
    "    def forward(self, z):\n",
    "        return self.model(z)"
   ]
  },
  {
   "cell_type": "markdown",
   "id": "0bb858d0-bd76-4dbd-8925-9921343dfec3",
   "metadata": {},
   "source": [
    "## Define the Discriminator class"
   ]
  },
  {
   "cell_type": "code",
   "execution_count": 45,
   "id": "ff7129ce-317b-4855-8983-5a9275cef1c7",
   "metadata": {},
   "outputs": [],
   "source": [
    "class Discriminator(nn.Module):\n",
    "    def __init__(self, input_dim):\n",
    "        super(Discriminator, self).__init__()\n",
    "        self.model = nn.Sequential(\n",
    "            nn.Linear(input_dim, 64),\n",
    "            nn.LeakyReLU(),\n",
    "            nn.Linear(64, 1),\n",
    "            nn.Sigmoid()  # Output probability\n",
    "        )\n",
    "\n",
    "    def forward(self, x):\n",
    "        return self.model(x)"
   ]
  },
  {
   "cell_type": "markdown",
   "id": "3b938569-5c74-48f4-ba33-e8728e29c867",
   "metadata": {},
   "source": [
    "## Custom dataset class for voice signals"
   ]
  },
  {
   "cell_type": "code",
   "execution_count": 46,
   "id": "260d1e41-e99c-42b5-9fc4-bb68d477aee5",
   "metadata": {},
   "outputs": [],
   "source": [
    "class AudioDataset(Dataset):\n",
    "    def __init__(self, data_dir, sample_rate=22050, duration=2):\n",
    "        self.data_dir = data_dir\n",
    "        self.sample_rate = sample_rate\n",
    "        self.duration = duration\n",
    "        self.files = [f for f in os.listdir(data_dir) if f.endswith('.npy')]  # Only .npy files\n",
    "\n",
    "    def __len__(self):\n",
    "        return len(self.files)\n",
    "\n",
    "    def __getitem__(self, idx):\n",
    "        file_path = os.path.join(self.data_dir, self.files[idx])\n",
    "        # Load numpy array\n",
    "        waveform = np.load(file_path)\n",
    "        # Ensure the audio is 2 seconds long\n",
    "        target_length = self.sample_rate * self.duration\n",
    "        if waveform.size < target_length:\n",
    "            # Pad the waveform if it's shorter than 2 seconds\n",
    "            waveform = np.pad(waveform, (0, target_length - waveform.size), mode='constant')\n",
    "        else:\n",
    "            # Trim the waveform if it's longer than duration\n",
    "            waveform = waveform[:target_length]\n",
    "        waveform = waveform.astype(np.float32)\n",
    "        waveform = (waveform - min(waveform)) / (max(waveform) - min(waveform)) * 2 - 1 \n",
    "        waveform = waveform/np.max(waveform)\n",
    "        return torch.tensor(waveform,dtype=torch.float32)  # Convert to tensor\n"
   ]
  },
  {
   "cell_type": "markdown",
   "id": "62f3879f-d9ac-473c-9f17-00b28d4fb39b",
   "metadata": {},
   "source": [
    "## Prepare the dataset for training the GAN"
   ]
  },
  {
   "cell_type": "code",
   "execution_count": 47,
   "id": "1a497c63-9f08-48d9-9069-11c63d3d7e3f",
   "metadata": {},
   "outputs": [
    {
     "name": "stdout",
     "output_type": "stream",
     "text": [
      "30000\n"
     ]
    }
   ],
   "source": [
    "# Create the dataset and dataloader\n",
    "batch_size = 128\n",
    "dataset = AudioDataset('audioMNIST/', sample_rate, duration)\n",
    "dataloader = DataLoader(dataset, batch_size=batch_size, shuffle=True)\n",
    "print(len(dataset))"
   ]
  },
  {
   "cell_type": "code",
   "execution_count": 48,
   "id": "bdfeb0bd-8179-4d02-9f4e-9b8110ae5b0f",
   "metadata": {},
   "outputs": [
    {
     "name": "stdout",
     "output_type": "stream",
     "text": [
      "tensor([-0.0375, -0.0375, -0.0406,  ..., -0.0145, -0.0145, -0.0145])\n"
     ]
    },
    {
     "data": {
      "image/png": "[encoded data removed]",
      "text/plain": [
       "<Figure size 1200x600 with 1 Axes>"
      ]
     },
     "metadata": {},
     "output_type": "display_data"
    }
   ],
   "source": [
    "# plot the signal \n",
    "for batch in dataloader:\n",
    "    # Plot the generated audio signal\n",
    "    plt.figure(figsize=(12, 6))\n",
    "    print(batch[0])\n",
    "    plt.plot(batch[0], label='Generated Audio Signal', alpha=0.5)\n",
    "    plt.title('Generated Audio Signal')\n",
    "    plt.xlabel('Sample Index')\n",
    "    plt.ylabel('Amplitude')\n",
    "    plt.legend()\n",
    "    plt.show()\n",
    "    break"
   ]
  },
  {
   "cell_type": "markdown",
   "id": "9e873b18-a081-4772-b424-835cc4751744",
   "metadata": {},
   "source": [
    "## Initialize the generator and discriminator"
   ]
  },
  {
   "cell_type": "code",
   "execution_count": 49,
   "id": "7e979f70-b32e-417b-9b77-b09f94515a31",
   "metadata": {},
   "outputs": [],
   "source": [
    "# Set up the GAN\n",
    "device = torch.device('cuda' if torch.cuda.is_available() else 'cpu')\n",
    "# Instantiate the models\n",
    "hidden_dim = 128\n",
    "learning_rate=0.0002\n",
    "generator = Generator(hidden_dim,signal_length)\n",
    "discriminator = Discriminator(signal_length)"
   ]
  },
  {
   "cell_type": "markdown",
   "id": "88dfe567-7e87-4aed-b32e-9442593c11ef",
   "metadata": {},
   "source": [
    "## Define the loss function and optimizers"
   ]
  },
  {
   "cell_type": "code",
   "execution_count": 50,
   "id": "02afb570-d1ee-4dfd-be1e-7feb821cae38",
   "metadata": {},
   "outputs": [],
   "source": [
    "criterion = nn.BCELoss()\n",
    "g_optimizer = torch.optim.SGD(generator.parameters(), lr=learning_rate, momentum=0.0715)\n",
    "d_optimizer = torch.optim.SGD(discriminator.parameters(), lr=learning_rate, momentum=0.00515)\n",
    "g_scheduler = torch.optim.lr_scheduler.CosineAnnealingWarmRestarts(g_optimizer, T_0=10, T_mult=1, eta_min=0.001, last_epoch=-1)\n",
    "d_scheduler = torch.optim.lr_scheduler.CosineAnnealingWarmRestarts(d_optimizer, T_0=10, T_mult=1, eta_min=0.0001, last_epoch=-1)\n",
    "num_epochs = 10\n"
   ]
  },
  {
   "cell_type": "markdown",
   "id": "831c1eb9-89da-4ef0-8c8e-d3c49ceffebe",
   "metadata": {},
   "source": [
    "## Training the GAN"
   ]
  },
  {
   "cell_type": "code",
   "execution_count": null,
   "id": "8be1a492-5405-4df7-9a52-87a83b8a2be8",
   "metadata": {},
   "outputs": [
    {
     "name": "stdout",
     "output_type": "stream",
     "text": [
      "Epoch: 0, Generator Loss: 0.7234360575675964, Discriminator Loss: 1.3903439044952393\n",
      "Epoch: 0, Generator Loss: 0.7313109636306763, Discriminator Loss: 1.3852732181549072\n",
      "Epoch: 0, Generator Loss: 0.7287445068359375, Discriminator Loss: 1.3877942562103271\n",
      "Epoch: 0, Generator Loss: 0.7290424704551697, Discriminator Loss: 1.390787124633789\n",
      "Epoch: 0, Generator Loss: 0.7342129945755005, Discriminator Loss: 1.3804699182510376\n",
      "Epoch: 0, Generator Loss: 0.72819983959198, Discriminator Loss: 1.3891762495040894\n",
      "Epoch: 0, Generator Loss: 0.7311806678771973, Discriminator Loss: 1.3847674131393433\n",
      "Epoch: 0, Generator Loss: 0.733609139919281, Discriminator Loss: 1.3842384815216064\n",
      "Epoch: 0, Generator Loss: 0.73260498046875, Discriminator Loss: 1.3850631713867188\n",
      "Epoch: 0, Generator Loss: 0.733310341835022, Discriminator Loss: 1.3804922103881836\n",
      "Epoch: 0, Generator Loss: 0.7350808382034302, Discriminator Loss: 1.3810439109802246\n",
      "Epoch: 0, Generator Loss: 0.7343372702598572, Discriminator Loss: 1.3790369033813477\n",
      "Epoch: 0, Generator Loss: 0.7349441647529602, Discriminator Loss: 1.376283049583435\n",
      "Epoch: 0, Generator Loss: 0.7386770844459534, Discriminator Loss: 1.3749479055404663\n",
      "Epoch: 0, Generator Loss: 0.7380281686782837, Discriminator Loss: 1.3763434886932373\n",
      "Epoch: 0, Generator Loss: 0.7394158244132996, Discriminator Loss: 1.375054955482483\n",
      "Epoch: 0, Generator Loss: 0.7370731234550476, Discriminator Loss: 1.3769866228103638\n",
      "Epoch: 0, Generator Loss: 0.7366937398910522, Discriminator Loss: 1.3751713037490845\n",
      "Epoch: 0, Generator Loss: 0.7370713949203491, Discriminator Loss: 1.3759887218475342\n",
      "Epoch: 0, Generator Loss: 0.735734224319458, Discriminator Loss: 1.3772869110107422\n",
      "Epoch: 0, Generator Loss: 0.746008574962616, Discriminator Loss: 1.368656873703003\n",
      "Epoch: 0, Generator Loss: 0.7433059215545654, Discriminator Loss: 1.3696017265319824\n",
      "Epoch: 0, Generator Loss: 0.7412467002868652, Discriminator Loss: 1.3742282390594482\n",
      "Epoch: 0, Generator Loss: 0.7483048439025879, Discriminator Loss: 1.3631391525268555\n",
      "Epoch: 0, Generator Loss: 0.7401798963546753, Discriminator Loss: 1.3714617490768433\n",
      "Epoch: 0, Generator Loss: 0.7477163672447205, Discriminator Loss: 1.3621147871017456\n",
      "Epoch: 0, Generator Loss: 0.7468692660331726, Discriminator Loss: 1.3653743267059326\n",
      "Epoch: 0, Generator Loss: 0.7483692765235901, Discriminator Loss: 1.3623263835906982\n",
      "Epoch: 0, Generator Loss: 0.7468277215957642, Discriminator Loss: 1.365378499031067\n",
      "Epoch: 0, Generator Loss: 0.7499375343322754, Discriminator Loss: 1.3575502634048462\n",
      "Epoch: 0, Generator Loss: 0.7433628439903259, Discriminator Loss: 1.367722511291504\n",
      "Epoch: 0, Generator Loss: 0.7558830380439758, Discriminator Loss: 1.3556368350982666\n",
      "Epoch: 0, Generator Loss: 0.7506259083747864, Discriminator Loss: 1.3614349365234375\n",
      "Epoch: 0, Generator Loss: 0.7518259882926941, Discriminator Loss: 1.3588863611221313\n",
      "Epoch: 0, Generator Loss: 0.7515594959259033, Discriminator Loss: 1.3568609952926636\n",
      "Epoch: 0, Generator Loss: 0.7560649514198303, Discriminator Loss: 1.3525159358978271\n",
      "Epoch: 0, Generator Loss: 0.7519093155860901, Discriminator Loss: 1.356756329536438\n",
      "Epoch: 0, Generator Loss: 0.7557164430618286, Discriminator Loss: 1.3509809970855713\n",
      "Epoch: 0, Generator Loss: 0.7583823204040527, Discriminator Loss: 1.3539915084838867\n",
      "Epoch: 0, Generator Loss: 0.7556445002555847, Discriminator Loss: 1.3558001518249512\n",
      "Epoch: 0, Generator Loss: 0.761302649974823, Discriminator Loss: 1.347097635269165\n",
      "Epoch: 0, Generator Loss: 0.7590376138687134, Discriminator Loss: 1.3479372262954712\n",
      "Epoch: 0, Generator Loss: 0.7568126916885376, Discriminator Loss: 1.3490679264068604\n",
      "Epoch: 0, Generator Loss: 0.7560100555419922, Discriminator Loss: 1.353237509727478\n",
      "Epoch: 0, Generator Loss: 0.7575399875640869, Discriminator Loss: 1.3496317863464355\n",
      "Epoch: 0, Generator Loss: 0.7606164216995239, Discriminator Loss: 1.3469386100769043\n",
      "Epoch: 0, Generator Loss: 0.7648378014564514, Discriminator Loss: 1.339637279510498\n",
      "Epoch: 0, Generator Loss: 0.7584555149078369, Discriminator Loss: 1.3477516174316406\n",
      "Epoch: 0, Generator Loss: 0.7699899077415466, Discriminator Loss: 1.3365395069122314\n",
      "Epoch: 0, Generator Loss: 0.7603632211685181, Discriminator Loss: 1.348442554473877\n",
      "Epoch: 0, Generator Loss: 0.7682211399078369, Discriminator Loss: 1.3390482664108276\n",
      "Epoch: 0, Generator Loss: 0.7622908353805542, Discriminator Loss: 1.3413710594177246\n",
      "Epoch: 0, Generator Loss: 0.7694419622421265, Discriminator Loss: 1.339246153831482\n",
      "Epoch: 0, Generator Loss: 0.7632904648780823, Discriminator Loss: 1.3380951881408691\n",
      "Epoch: 0, Generator Loss: 0.7647329568862915, Discriminator Loss: 1.3429741859436035\n",
      "Epoch: 0, Generator Loss: 0.7697945237159729, Discriminator Loss: 1.335263729095459\n",
      "Epoch: 0, Generator Loss: 0.7686824798583984, Discriminator Loss: 1.3384716510772705\n",
      "Epoch: 0, Generator Loss: 0.7730469107627869, Discriminator Loss: 1.3303437232971191\n",
      "Epoch: 0, Generator Loss: 0.7688068151473999, Discriminator Loss: 1.3360915184020996\n",
      "Epoch: 0, Generator Loss: 0.7717901468276978, Discriminator Loss: 1.3322217464447021\n",
      "Epoch: 0, Generator Loss: 0.7767772674560547, Discriminator Loss: 1.3282599449157715\n",
      "Epoch: 0, Generator Loss: 0.7701562643051147, Discriminator Loss: 1.3342632055282593\n",
      "Epoch: 0, Generator Loss: 0.7773972153663635, Discriminator Loss: 1.3295462131500244\n",
      "Epoch: 0, Generator Loss: 0.7772034406661987, Discriminator Loss: 1.3312534093856812\n",
      "Epoch: 0, Generator Loss: 0.7815712690353394, Discriminator Loss: 1.3212627172470093\n",
      "Epoch: 0, Generator Loss: 0.7762148380279541, Discriminator Loss: 1.323824405670166\n",
      "Epoch: 0, Generator Loss: 0.7758625149726868, Discriminator Loss: 1.3233131170272827\n",
      "Epoch: 0, Generator Loss: 0.7751674056053162, Discriminator Loss: 1.3295402526855469\n",
      "Epoch: 0, Generator Loss: 0.7749526500701904, Discriminator Loss: 1.3308029174804688\n",
      "Epoch: 0, Generator Loss: 0.7802386283874512, Discriminator Loss: 1.3242093324661255\n",
      "Epoch: 0, Generator Loss: 0.779218316078186, Discriminator Loss: 1.326127290725708\n",
      "Epoch: 0, Generator Loss: 0.7795615196228027, Discriminator Loss: 1.3219149112701416\n",
      "Epoch: 0, Generator Loss: 0.7824684381484985, Discriminator Loss: 1.3168058395385742\n",
      "Epoch: 0, Generator Loss: 0.782191276550293, Discriminator Loss: 1.3208136558532715\n",
      "Epoch: 0, Generator Loss: 0.7846430540084839, Discriminator Loss: 1.3123388290405273\n"
     ]
    }
   ],
   "source": [
    "# Training loop\n",
    "for epoch in range(num_epochs):\n",
    "    for batch in dataloader: # batch is (batch_size, time_steps, features)\n",
    "        # Generate fake signal\n",
    "        noise = torch.randn(batch.shape[0], hidden_dim) \n",
    "        generated_signal = generator(noise)\n",
    "\n",
    "        # Create labels\n",
    "        real_labels = torch.ones(batch.size(0), 1)\n",
    "        fake_labels = torch.zeros(batch.size(0), 1)\n",
    "\n",
    "        # Train the discriminator\n",
    "        discriminator.zero_grad()\n",
    "        real_output = discriminator(batch.squeeze(-1))  # Use the real audio batch\n",
    "        real_loss = criterion(real_output, real_labels)\n",
    "        fake_output = discriminator(generated_signal.detach())  # Use the generated signal\n",
    "        fake_loss = criterion(fake_output, fake_labels)\n",
    "        d_loss = real_loss + fake_loss\n",
    "        d_loss.backward()\n",
    "        d_optimizer.step()\n",
    "        d_scheduler.step()\n",
    "\n",
    "        # Train the generator\n",
    "        generator.zero_grad()\n",
    "        fake_output = discriminator(generated_signal.detach())  # Use the generated signal\n",
    "        g_loss = criterion(fake_output, real_labels)\n",
    "        g_loss.backward()\n",
    "        g_optimizer.step()\n",
    "        g_scheduler.step()\n",
    "\n",
    "    #if epoch % 100 == 0:\n",
    "        print(f'Epoch: {epoch}, Generator Loss: {g_loss.item()}, Discriminator Loss: {d_loss.item()}')"
   ]
  },
  {
   "cell_type": "markdown",
   "id": "cb03088c-3b01-4469-86f0-573be660c2ef",
   "metadata": {},
   "source": [
    "## Generate new signals after training"
   ]
  },
  {
   "cell_type": "code",
   "execution_count": null,
   "id": "cab179bd-46b1-47e1-aea2-8b8f954071d0",
   "metadata": {},
   "outputs": [],
   "source": [
    "# Set the generator to evaluation mode\n",
    "generator.eval()\n",
    "# Generate and visualize a sample output\n",
    "with torch.no_grad():\n",
    "    sample_noise = torch.randn(1,hidden_dim)  # Adjust noise shape\n",
    "    generated_audio = generator(sample_noise).detach().numpy().flatten()\n",
    "print(generated_audio.shape)\n",
    "# Plot the generated audio signal\n",
    "plt.figure(figsize=(12, 6))\n",
    "plt.plot(generated_audio, label='Generated Audio Signal', alpha=0.5)\n",
    "plt.title('Generated Audio Signal')\n",
    "plt.xlabel('Sample Index')\n",
    "plt.ylabel('Amplitude')\n",
    "plt.legend()\n",
    "plt.show()"
   ]
  },
  {
   "cell_type": "code",
   "execution_count": null,
   "id": "39a806b2-88ea-4001-8361-fc18b9869dd7",
   "metadata": {},
   "outputs": [],
   "source": [
    "# saving the output\n",
    "np.save('generated/generated.npy', generated_audio)\n",
    "from scipy.io.wavfile import write\n",
    "\n",
    "# Assuming the array values are in the range of int16 for WAV format\n",
    "# Scale the array if necessary\n",
    "generated_audio = np.int16(generated_audio / np.max(np.abs(generated_audio)) * 32767)\n",
    "\n",
    "# Save the array as a WAV file\n",
    "write('generated/generated.wav', sample_rate, generated_audio) "
   ]
  },
  {
   "cell_type": "code",
   "execution_count": null,
   "id": "c115efed-76e5-400b-9433-deaebb9f4fa2",
   "metadata": {},
   "outputs": [],
   "source": []
  },
  {
   "cell_type": "code",
   "execution_count": null,
   "id": "82b536a4-0ad2-468d-8c36-0fca361d1355",
   "metadata": {},
   "outputs": [],
   "source": []
  },
  {
   "cell_type": "code",
   "execution_count": null,
   "id": "ced84dd4-65a2-4a63-98f0-6c2614d736a0",
   "metadata": {},
   "outputs": [],
   "source": []
  }
 ],
 "metadata": {
  "kernelspec": {
   "display_name": "Python 3 (ipykernel)",
   "language": "python",
   "name": "python3"
  },
  "language_info": {
   "codemirror_mode": {
    "name": "ipython",
    "version": 3
   },
   "file_extension": ".py",
   "mimetype": "text/x-python",
   "name": "python",
   "nbconvert_exporter": "python",
   "pygments_lexer": "ipython3",
   "version": "3.12.4"
  }
 },
 "nbformat": 4,
 "nbformat_minor": 5
}
