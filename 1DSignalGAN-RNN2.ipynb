{
 "cells": [
  {
   "cell_type": "markdown",
   "id": "ba1c536e-1467-475b-b496-4f3a72015d03",
   "metadata": {},
   "source": [
    "# Create a 1D signal RNN GAN, for voice recorded signals\n",
    "## Use a very basic GAN architecture that works with a single dimension (1D array)"
   ]
  },
  {
   "cell_type": "code",
   "execution_count": 1,
   "id": "d5ced4fc-361e-4c0a-ae7f-bdf579ae48c7",
   "metadata": {},
   "outputs": [],
   "source": [
    "import sounddevice as sd\n",
    "import numpy as np\n",
    "import torch\n",
    "import torch.nn as nn\n",
    "from torch.utils.data import Dataset, DataLoader\n",
    "import matplotlib.pyplot as plt\n",
    "import ipywidgets as widgets\n",
    "from IPython.display import display, Audio\n",
    "from scipy.io.wavfile import write\n",
    "import os\n",
    "import torch.optim as optim\n",
    "import random\n"
   ]
  },
  {
   "cell_type": "code",
   "execution_count": 2,
   "id": "3877e0d7-64e4-4f4e-a733-90ce3041a6d9",
   "metadata": {},
   "outputs": [
    {
     "name": "stdout",
     "output_type": "stream",
     "text": [
      "2.4.1+cpu\n"
     ]
    },
    {
     "data": {
      "text/plain": [
       "<torch._C.Generator at 0x1e978f2bbf0>"
      ]
     },
     "execution_count": 2,
     "metadata": {},
     "output_type": "execute_result"
    }
   ],
   "source": [
    "print(torch.__version__)\n",
    "# Lets setup a reproducible aspect of the code\n",
    "seed = 42  # You can choose any integer as your seed\n",
    "random.seed(seed)  # Set seed for Python's random\n",
    "np.random.seed(seed)  # Set seed for NumPy\n",
    "torch.manual_seed(seed)  # Set seed for PyTorch CPU\n"
   ]
  },
  {
   "cell_type": "markdown",
   "id": "2427dc01-db52-474a-879f-11abc0f3ed31",
   "metadata": {},
   "source": [
    "# Lets setup some basic configurations"
   ]
  },
  {
   "cell_type": "code",
   "execution_count": 3,
   "id": "ba5b5c63-85bc-4629-a290-6b13e61d4c7f",
   "metadata": {},
   "outputs": [],
   "source": [
    "sample_rate = 44100\n",
    "duration = 1  # seconds\n",
    "signal_length = sample_rate * duration  # 44100 for 2 seconds"
   ]
  },
  {
   "cell_type": "markdown",
   "id": "57b9581b-3404-4b8a-9660-55d6716ddc20",
   "metadata": {},
   "source": [
    "## Define the Generator class"
   ]
  },
  {
   "cell_type": "code",
   "execution_count": 4,
   "id": "0ff2fd89-8f77-44e3-be8c-80eab119a20c",
   "metadata": {},
   "outputs": [],
   "source": [
    "class Generator(nn.Module):\n",
    "    def __init__(self, input_size, hidden_size, sequence_length,num_layers, output_size):\n",
    "        super(Generator, self).__init__()\n",
    "        self.hidden_size = hidden_size\n",
    "        self.num_layers = num_layers\n",
    "        self.rnn = nn.RNN(input_size, hidden_size, num_layers, batch_first=True)\n",
    "        self.fc = nn.Linear(hidden_size*sequence_length, output_size)\n",
    "        self.device = device\n",
    "\n",
    "    def forward(self, x):\n",
    "        # Set initial hidden and cell states\n",
    "        h0 = torch.zeros(self.num_layers, x.size(0), self.hidden_size)\n",
    "\n",
    "        # Forward propagate LSTM\n",
    "        out, _ = self.rnn(x, h0)\n",
    "        out = out.reshape(out.shape[0], -1)\n",
    "\n",
    "        # Decode the hidden state of the last time step\n",
    "        out = self.fc(out)\n",
    "        out = torch.tan(out)\n",
    "        return out"
   ]
  },
  {
   "cell_type": "markdown",
   "id": "0bb858d0-bd76-4dbd-8925-9921343dfec3",
   "metadata": {},
   "source": [
    "## Define the Discriminator class"
   ]
  },
  {
   "cell_type": "code",
   "execution_count": 5,
   "id": "f0d361c8-cef7-46fd-b533-1cd14fcb25cd",
   "metadata": {},
   "outputs": [],
   "source": [
    "class Discriminator(nn.Module):\n",
    "    def __init__(self, input_size, hidden_size, sequence_length,num_layers, output_size):\n",
    "        super(Discriminator, self).__init__()\n",
    "        self.hidden_size = hidden_size\n",
    "        self.num_layers = num_layers\n",
    "        self.rnn = nn.RNN(input_size, hidden_size, num_layers, batch_first=True)\n",
    "        self.fc = nn.Linear(hidden_size*sequence_length, output_size)\n",
    "        self.device = device\n",
    "\n",
    "    def forward(self, x):\n",
    "        # Set initial hidden and cell states\n",
    "        h0 = torch.zeros(self.num_layers, x.size(0), self.hidden_size)\n",
    "\n",
    "        # Forward propagate LSTM\n",
    "        out, _ = self.rnn(x, h0)\n",
    "        out = out.reshape(out.shape[0], -1)\n",
    "\n",
    "        # Decode the hidden state of the last time step\n",
    "        out = self.fc(out)\n",
    "        out = torch.sigmoid(out)\n",
    "        return out"
   ]
  },
  {
   "cell_type": "markdown",
   "id": "3b938569-5c74-48f4-ba33-e8728e29c867",
   "metadata": {},
   "source": [
    "## Custom dataset class for voice signals"
   ]
  },
  {
   "cell_type": "code",
   "execution_count": 6,
   "id": "260d1e41-e99c-42b5-9fc4-bb68d477aee5",
   "metadata": {},
   "outputs": [],
   "source": [
    "class AudioDataset(Dataset):\n",
    "    def __init__(self, data_dir, sample_rate=22050, duration=2):\n",
    "        self.data_dir = data_dir\n",
    "        self.sample_rate = sample_rate\n",
    "        self.duration = duration\n",
    "        self.files = [f for f in os.listdir(data_dir) if f.endswith('.npy')]  # Only .npy files\n",
    "\n",
    "    def __len__(self):\n",
    "        return len(self.files)\n",
    "\n",
    "    def __getitem__(self, idx):\n",
    "        file_path = os.path.join(self.data_dir, self.files[idx])\n",
    "        # Load numpy array\n",
    "        waveform = np.load(file_path)\n",
    "        # Ensure the audio is 2 seconds long\n",
    "        target_length = self.sample_rate * self.duration\n",
    "        if waveform.size < target_length:\n",
    "            # Pad the waveform if it's shorter than 2 seconds\n",
    "            waveform = np.pad(waveform, (0, target_length - waveform.size), mode='constant')\n",
    "        else:\n",
    "            # Trim the waveform if it's longer than duration\n",
    "            waveform = waveform[:target_length]\n",
    "        waveform = waveform.astype(np.float32)\n",
    "        waveform = (waveform - min(waveform)) / (max(waveform) - min(waveform)) * 2 - 1 \n",
    "        waveform = waveform/np.max(waveform)\n",
    "        return torch.tensor(waveform,dtype=torch.float32)  # Convert to tensor\n"
   ]
  },
  {
   "cell_type": "markdown",
   "id": "62f3879f-d9ac-473c-9f17-00b28d4fb39b",
   "metadata": {},
   "source": [
    "## Prepare the dataset for training the GAN"
   ]
  },
  {
   "cell_type": "code",
   "execution_count": 7,
   "id": "1a497c63-9f08-48d9-9069-11c63d3d7e3f",
   "metadata": {},
   "outputs": [
    {
     "name": "stdout",
     "output_type": "stream",
     "text": [
      "30000\n"
     ]
    }
   ],
   "source": [
    "# Create the dataset and dataloader\n",
    "batch_size = 1024\n",
    "dataset = AudioDataset('audioMNIST/', sample_rate, duration)\n",
    "dataloader = DataLoader(dataset, batch_size=batch_size, shuffle=True)\n",
    "print(len(dataset))"
   ]
  },
  {
   "cell_type": "code",
   "execution_count": 8,
   "id": "b6e91ebf-0695-410d-bb0b-bdea59ef38db",
   "metadata": {},
   "outputs": [
    {
     "name": "stdout",
     "output_type": "stream",
     "text": [
      "tensor([-0.0995, -0.0995, -0.1014,  ..., -0.0686, -0.0686, -0.0686])\n"
     ]
    },
    {
     "data": {
      "image/png": "[encoded data removed]",
      "text/plain": [
       "<Figure size 1200x600 with 1 Axes>"
      ]
     },
     "metadata": {},
     "output_type": "display_data"
    }
   ],
   "source": [
    "# plot the signal \n",
    "for batch in dataloader:\n",
    "    # Plot the generated audio signal\n",
    "    plt.figure(figsize=(12, 6))\n",
    "    print(batch[0])\n",
    "    plt.plot(batch[0], label='Generated Audio Signal', alpha=0.5)\n",
    "    plt.title('Generated Audio Signal')\n",
    "    plt.xlabel('Sample Index')\n",
    "    plt.ylabel('Amplitude')\n",
    "    plt.legend()\n",
    "    plt.show()\n",
    "    break"
   ]
  },
  {
   "cell_type": "markdown",
   "id": "9e873b18-a081-4772-b424-835cc4751744",
   "metadata": {},
   "source": [
    "## Setup the hyper-parameters"
   ]
  },
  {
   "cell_type": "code",
   "execution_count": 9,
   "id": "7e979f70-b32e-417b-9b77-b09f94515a31",
   "metadata": {},
   "outputs": [],
   "source": [
    "# Hyperparameters\n",
    "input_dim = 1  # Input dimension for the RNN\n",
    "hidden_dim = 128  # Hidden dimension for the RNN\n",
    "output_dim = signal_length  # Output dimension (length of the signal)\n",
    "z_dim = 100  # Dimension of the noise vector\n",
    "num_epochs = 100  # Number of training epochs\n",
    "learning_rate = 0.00002  # Learning rate"
   ]
  },
  {
   "cell_type": "markdown",
   "id": "75e4396b-b199-4098-beb1-35c88f9fdf6a",
   "metadata": {},
   "source": [
    "## Initialize the GANs"
   ]
  },
  {
   "cell_type": "code",
   "execution_count": 10,
   "id": "7d68d436-c67a-47c9-829e-70f900ad3b61",
   "metadata": {},
   "outputs": [],
   "source": [
    "# Set up the GAN\n",
    "device = torch.device('cuda' if torch.cuda.is_available() else 'cpu')\n",
    "# Initialize models\n",
    "generator = Generator(input_size = z_dim, hidden_size = hidden_dim, sequence_length=1,num_layers=4, output_size=signal_length)\n",
    "discriminator = Discriminator(input_size = signal_length, hidden_size = 32, sequence_length=1,num_layers=1, output_size=1)"
   ]
  },
  {
   "cell_type": "code",
   "execution_count": 11,
   "id": "a4d581df-d73f-4a00-a3d9-46755d263215",
   "metadata": {},
   "outputs": [
    {
     "data": {
      "text/plain": [
       "Generator(\n",
       "  (rnn): RNN(100, 128, num_layers=4, batch_first=True)\n",
       "  (fc): Linear(in_features=128, out_features=44100, bias=True)\n",
       ")"
      ]
     },
     "execution_count": 11,
     "metadata": {},
     "output_type": "execute_result"
    }
   ],
   "source": [
    "generator"
   ]
  },
  {
   "cell_type": "code",
   "execution_count": 12,
   "id": "7f99b4a1-5a44-4f2d-95cb-9ca6873b3aff",
   "metadata": {},
   "outputs": [
    {
     "data": {
      "text/plain": [
       "Discriminator(\n",
       "  (rnn): RNN(44100, 32, batch_first=True)\n",
       "  (fc): Linear(in_features=32, out_features=1, bias=True)\n",
       ")"
      ]
     },
     "execution_count": 12,
     "metadata": {},
     "output_type": "execute_result"
    }
   ],
   "source": [
    "discriminator"
   ]
  },
  {
   "cell_type": "markdown",
   "id": "88dfe567-7e87-4aed-b32e-9442593c11ef",
   "metadata": {},
   "source": [
    "## Define the loss function and optimizers"
   ]
  },
  {
   "cell_type": "code",
   "execution_count": 13,
   "id": "02afb570-d1ee-4dfd-be1e-7feb821cae38",
   "metadata": {},
   "outputs": [],
   "source": [
    "criterion = nn.BCELoss()\n",
    "g_optimizer = torch.optim.SGD(generator.parameters(), lr=learning_rate, momentum=0.215)\n",
    "d_optimizer = torch.optim.SGD(discriminator.parameters(), lr=learning_rate, momentum=0.7215)\n",
    "g_scheduler = torch.optim.lr_scheduler.CosineAnnealingWarmRestarts(g_optimizer, T_0=20, T_mult=1, eta_min=0.0001, last_epoch=-1)\n",
    "d_scheduler = torch.optim.lr_scheduler.CosineAnnealingWarmRestarts(d_optimizer, T_0=10, T_mult=1, eta_min=0.0001, last_epoch=-1)\n",
    "num_epochs = 10\n"
   ]
  },
  {
   "cell_type": "markdown",
   "id": "831c1eb9-89da-4ef0-8c8e-d3c49ceffebe",
   "metadata": {},
   "source": [
    "## Training the GAN"
   ]
  },
  {
   "cell_type": "code",
   "execution_count": null,
   "id": "001a9ff6-e72e-426b-ab07-b4dc4a64eae2",
   "metadata": {},
   "outputs": [
    {
     "name": "stdout",
     "output_type": "stream",
     "text": [
      "Epoch: 0, Generator Loss: 0.7577429413795471, Discriminator Loss: 1.3668127059936523\n",
      "Epoch: 0, Generator Loss: 0.7540017366409302, Discriminator Loss: 1.365754246711731\n",
      "Epoch: 0, Generator Loss: 0.74945068359375, Discriminator Loss: 1.3723363876342773\n",
      "Epoch: 0, Generator Loss: 0.7563123106956482, Discriminator Loss: 1.3806788921356201\n",
      "Epoch: 0, Generator Loss: 0.7623136639595032, Discriminator Loss: 1.3689372539520264\n",
      "Epoch: 0, Generator Loss: 0.760877788066864, Discriminator Loss: 1.364954948425293\n",
      "Epoch: 0, Generator Loss: 0.7558853626251221, Discriminator Loss: 1.3658696413040161\n",
      "Epoch: 0, Generator Loss: 0.7700215578079224, Discriminator Loss: 1.359196662902832\n",
      "Epoch: 0, Generator Loss: 0.7683193683624268, Discriminator Loss: 1.3621172904968262\n",
      "Epoch: 0, Generator Loss: 0.7604129910469055, Discriminator Loss: 1.3704203367233276\n",
      "Epoch: 0, Generator Loss: 0.7672778367996216, Discriminator Loss: 1.3713667392730713\n",
      "Epoch: 0, Generator Loss: 0.7743434906005859, Discriminator Loss: 1.3537088632583618\n",
      "Epoch: 0, Generator Loss: 0.7639442682266235, Discriminator Loss: 1.3545653820037842\n",
      "Epoch: 0, Generator Loss: 0.7738962769508362, Discriminator Loss: 1.3628928661346436\n",
      "Epoch: 0, Generator Loss: 0.7710620164871216, Discriminator Loss: 1.3608160018920898\n",
      "Epoch: 0, Generator Loss: 0.7778545022010803, Discriminator Loss: 1.3487589359283447\n",
      "Epoch: 0, Generator Loss: 0.7759966254234314, Discriminator Loss: 1.3571834564208984\n",
      "Epoch: 0, Generator Loss: 0.7744642496109009, Discriminator Loss: 1.351094365119934\n",
      "Epoch: 0, Generator Loss: 0.7785565853118896, Discriminator Loss: 1.3622651100158691\n",
      "Epoch: 0, Generator Loss: 0.7802095413208008, Discriminator Loss: 1.355193018913269\n",
      "Epoch: 0, Generator Loss: 0.7853118777275085, Discriminator Loss: 1.3348455429077148\n",
      "Epoch: 0, Generator Loss: 0.7835506796836853, Discriminator Loss: 1.351699709892273\n",
      "Epoch: 0, Generator Loss: 0.7780588865280151, Discriminator Loss: 1.339285135269165\n",
      "Epoch: 0, Generator Loss: 0.7784531712532043, Discriminator Loss: 1.3437941074371338\n",
      "Epoch: 0, Generator Loss: 0.7817882299423218, Discriminator Loss: 1.3552557229995728\n",
      "Epoch: 0, Generator Loss: 0.7907145023345947, Discriminator Loss: 1.3506524562835693\n",
      "Epoch: 0, Generator Loss: 0.7882628440856934, Discriminator Loss: 1.3533443212509155\n",
      "Epoch: 0, Generator Loss: 0.7899097204208374, Discriminator Loss: 1.3309589624404907\n",
      "Epoch: 0, Generator Loss: 0.785820722579956, Discriminator Loss: 1.358354091644287\n",
      "Epoch: 0, Generator Loss: 0.7933096885681152, Discriminator Loss: 1.3480390310287476\n",
      "Epoch: 1, Generator Loss: 0.7927721738815308, Discriminator Loss: 1.3370662927627563\n",
      "Epoch: 1, Generator Loss: 0.7914206385612488, Discriminator Loss: 1.3133769035339355\n",
      "Epoch: 1, Generator Loss: 0.7975113987922668, Discriminator Loss: 1.3454792499542236\n"
     ]
    }
   ],
   "source": [
    "# Training loop\n",
    "for epoch in range(num_epochs):\n",
    "    for batch in dataloader: # batch is (batch_size, time_steps, features)\n",
    "        # Generate fake signal\n",
    "        noise = torch.randn(batch.size(0), 1, z_dim)  # Shape: (batch_size, seq_length, z_dim)\n",
    "        generated_signal = generator(noise)\n",
    "        # reshape for descriminator to accept Shape: (batch_size, seq_length, z_dim)\n",
    "        generated_signal = torch.reshape(generated_signal, (batch.size(0), 1, signal_length))\n",
    "        # Create labels\n",
    "        real_labels = torch.ones(batch.size(0), 1)\n",
    "        fake_labels = torch.zeros(batch.size(0), 1)\n",
    "\n",
    "        # Train the discriminator\n",
    "        discriminator.zero_grad()\n",
    "        t = torch.reshape(batch, (batch.size(0), -1, signal_length))\n",
    "        real_output = discriminator(t)  # Use the real audio batch\n",
    "        real_loss = criterion(real_output, real_labels)\n",
    "        fake_output = discriminator(generated_signal.detach())  # Use the generated signal\n",
    "        fake_loss = criterion(fake_output, fake_labels)\n",
    "        d_loss = real_loss + fake_loss\n",
    "        d_loss.backward()\n",
    "        d_optimizer.step()\n",
    "        d_scheduler.step()\n",
    "\n",
    "        # Train the generator\n",
    "        generator.zero_grad()\n",
    "        fake_output = discriminator(generated_signal.detach())  # Use the generated signal\n",
    "        g_loss = criterion(fake_output, real_labels)\n",
    "        g_loss.backward()\n",
    "        g_optimizer.step()\n",
    "        g_scheduler.step()\n",
    "\n",
    "    #if epoch % 100 == 0:\n",
    "        print(f'Epoch: {epoch}, Generator Loss: {g_loss.item()}, Discriminator Loss: {d_loss.item()}')"
   ]
  },
  {
   "cell_type": "markdown",
   "id": "57644ffc-a3cd-4c79-9f9d-b31b73d11ec5",
   "metadata": {},
   "source": [
    "## Generate new signals after training"
   ]
  },
  {
   "cell_type": "code",
   "execution_count": null,
   "id": "cab179bd-46b1-47e1-aea2-8b8f954071d0",
   "metadata": {},
   "outputs": [],
   "source": [
    "# Set the generator to evaluation mode\n",
    "generator.eval()\n",
    "# Generate and visualize a sample output\n",
    "with torch.no_grad():\n",
    "    noise = torch.randn(1, 1, z_dim)  # Shape: (batch_size, seq_length, z_dim)\n",
    "    generated_audio = generator(noise).detach().numpy().flatten()\n",
    "print(generated_audio.shape)\n",
    "# Plot the generated audio signal\n",
    "plt.figure(figsize=(12, 6))\n",
    "plt.plot(generated_audio, label='Generated Audio Signal', alpha=0.5)\n",
    "plt.title('Generated Audio Signal')\n",
    "plt.xlabel('Sample Index')\n",
    "plt.ylabel('Amplitude')\n",
    "plt.legend()\n",
    "plt.show()"
   ]
  },
  {
   "cell_type": "code",
   "execution_count": null,
   "id": "39a806b2-88ea-4001-8361-fc18b9869dd7",
   "metadata": {},
   "outputs": [],
   "source": [
    "# saving the output\n",
    "np.save('generated/generated.npy', generated_audio)\n",
    "from scipy.io.wavfile import write\n",
    "\n",
    "# Assuming the array values are in the range of int16 for WAV format\n",
    "# Scale the array if necessary\n",
    "generated_audio = np.int16(generated_audio / np.max(np.abs(generated_audio)) * 32767)\n",
    "\n",
    "# Save the array as a WAV file\n",
    "write('generated/generated.wav', sample_rate, generated_audio) "
   ]
  },
  {
   "cell_type": "code",
   "execution_count": null,
   "id": "0f18d112-11f8-4ca0-bdc2-412b663d512b",
   "metadata": {},
   "outputs": [],
   "source": []
  }
 ],
 "metadata": {
  "kernelspec": {
   "display_name": "Python 3 (ipykernel)",
   "language": "python",
   "name": "python3"
  },
  "language_info": {
   "codemirror_mode": {
    "name": "ipython",
    "version": 3
   },
   "file_extension": ".py",
   "mimetype": "text/x-python",
   "name": "python",
   "nbconvert_exporter": "python",
   "pygments_lexer": "ipython3",
   "version": "3.12.4"
  }
 },
 "nbformat": 4,
 "nbformat_minor": 5
}
